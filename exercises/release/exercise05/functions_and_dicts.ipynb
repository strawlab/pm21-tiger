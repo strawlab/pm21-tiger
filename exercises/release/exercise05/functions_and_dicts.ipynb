{
 "cells": [
  {
   "cell_type": "markdown",
   "id": "997946d3-3e8a-476f-9e4c-e5ad5af5c4c7",
   "metadata": {},
   "source": [
    "Header"
   ]
  },
  {
   "cell_type": "code",
   "execution_count": null,
   "metadata": {
    "deletable": false,
    "editable": false,
    "nbgrader": {
     "cell_type": "code",
     "checksum": "87b9f10fcc59fcac15dd24388af3d7f1",
     "grade": false,
     "grade_id": "cell-494826e8c27cdbcb",
     "locked": true,
     "schema_version": 3,
     "solution": false,
     "task": false
    }
   },
   "outputs": [],
   "source": [
    "# You must run this cell, but you can ignore its contents.\n",
    "import hashlib\n",
    "\n",
    "def ads_hash(ty):\n",
    "    \"\"\"Return a unique string for input\"\"\"\n",
    "    ty_str = str(ty).encode()\n",
    "    m = hashlib.sha256()\n",
    "    m.update(ty_str)\n",
    "    return m.hexdigest()[:10]"
   ]
  },
  {
   "cell_type": "code",
   "execution_count": null,
   "metadata": {
    "deletable": false,
    "editable": false,
    "nbgrader": {
     "cell_type": "code",
     "checksum": "8e6046353db19907ba3c436bcb594e56",
     "grade": false,
     "grade_id": "cell-592b21fffec74d63",
     "locked": true,
     "schema_version": 3,
     "solution": false,
     "task": false
    }
   },
   "outputs": [],
   "source": [
    "# You must also run this cell.\n",
    "import matplotlib.pyplot as plt"
   ]
  },
  {
   "cell_type": "markdown",
   "metadata": {
    "deletable": false,
    "editable": false,
    "nbgrader": {
     "cell_type": "markdown",
     "checksum": "4c78dce964c90ca08d54f0ad0796b008",
     "grade": false,
     "grade_id": "cell-c6115c6a8fc2824f",
     "locked": true,
     "schema_version": 3,
     "solution": false,
     "task": false
    }
   },
   "source": [
    "## Practice with functions"
   ]
  },
  {
   "cell_type": "markdown",
   "metadata": {
    "deletable": false,
    "editable": false,
    "nbgrader": {
     "cell_type": "markdown",
     "checksum": "cd074a44178ff9247836c32087dec393",
     "grade": false,
     "grade_id": "cell-2ce1883510b6a1b4",
     "locked": true,
     "schema_version": 3,
     "solution": false,
     "task": false
    }
   },
   "source": [
    "### Q1 Make a function `compute_seq1(n)` which computes the a sequence of length `n` according to the following pattern:\n",
    "\n",
    "`1, 1, 1, 2, 3, 4, 6, 9, 13, 19, 28, ...`\n",
    "\n",
    "Hint: this is very similar to the Fibonacci sequence, but each element at index `n` is the sum of the elements at index `n-1` and `n-3`. The first three elements are `1`."
   ]
  },
  {
   "cell_type": "code",
   "execution_count": null,
   "metadata": {
    "deletable": false,
    "nbgrader": {
     "cell_type": "code",
     "checksum": "dde56fa4966d9a6b1efb76cb8c0975dc",
     "grade": false,
     "grade_id": "cell-5aeb59f4e391239b",
     "locked": false,
     "schema_version": 3,
     "solution": true,
     "task": false
    }
   },
   "outputs": [],
   "source": [
    "# YOUR CODE HERE\n",
    "raise NotImplementedError()"
   ]
  },
  {
   "cell_type": "code",
   "execution_count": null,
   "metadata": {
    "deletable": false,
    "editable": false,
    "nbgrader": {
     "cell_type": "code",
     "checksum": "3b2dc1f40885856f02b9114714d81964",
     "grade": true,
     "grade_id": "cell-0c52f8d0b74caa5e",
     "locked": true,
     "points": 1,
     "schema_version": 3,
     "solution": false,
     "task": false
    }
   },
   "outputs": [],
   "source": [
    "# If this runs without error, it means `compute_seq1()` behaves correctly.\n",
    "assert compute_seq1(15)==[1, 1, 1, 2, 3, 4, 6, 9, 13, 19, 28, 41, 60, 88, 129, 189]"
   ]
  },
  {
   "cell_type": "markdown",
   "metadata": {
    "deletable": false,
    "editable": false,
    "nbgrader": {
     "cell_type": "markdown",
     "checksum": "1117161ba3df53614af8fea97e79d328",
     "grade": false,
     "grade_id": "cell-6e6f3ca73e99b3e7",
     "locked": true,
     "schema_version": 3,
     "solution": false,
     "task": false
    }
   },
   "source": [
    "### Q2 Make a function `compute_seq2(n)` which computes the a sequence of length `n` according to the following pattern:\n",
    "\n",
    "`2, 2, 4, 6, 10, 16, 26 ...`\n",
    "\n",
    "Hint: this is a Fibonacci sequence with initial elements 2."
   ]
  },
  {
   "cell_type": "code",
   "execution_count": null,
   "metadata": {
    "deletable": false,
    "nbgrader": {
     "cell_type": "code",
     "checksum": "7ee41f76ea630806daa7597cca8c8737",
     "grade": false,
     "grade_id": "cell-8d48778fdbfb317e",
     "locked": false,
     "schema_version": 3,
     "solution": true,
     "task": false
    }
   },
   "outputs": [],
   "source": [
    "# YOUR CODE HERE\n",
    "raise NotImplementedError()"
   ]
  },
  {
   "cell_type": "code",
   "execution_count": null,
   "metadata": {
    "deletable": false,
    "editable": false,
    "nbgrader": {
     "cell_type": "code",
     "checksum": "adead5adff58f38a4b1a1ee23d7e20e5",
     "grade": true,
     "grade_id": "cell-e7e80f9bdb4eeb08",
     "locked": true,
     "points": 1,
     "schema_version": 3,
     "solution": false,
     "task": false
    }
   },
   "outputs": [],
   "source": [
    "# If this runs without error, it means `compute_seq2()` behaves correctly.\n",
    "assert compute_seq2(15)==[2, 2, 4, 6, 10, 16, 26, 42, 68, 110, 178, 288, 466, 754, 1220, 1974]"
   ]
  },
  {
   "cell_type": "markdown",
   "metadata": {
    "deletable": false,
    "editable": false,
    "nbgrader": {
     "cell_type": "markdown",
     "checksum": "5615c4616afc85e6471ea825a40b847f",
     "grade": false,
     "grade_id": "cell-03d11f5c31865fa6",
     "locked": true,
     "schema_version": 3,
     "solution": false,
     "task": false
    }
   },
   "source": [
    "## Practice converting types and using loops\n",
    "\n",
    "You are a biologist at Cape Verde to study one of the most important nesting sites for loggerhead sea turtles. You are studying the numbers and sexes of young turtles as they hatch. During the data collection part of your project, you have taken notes by typing \"m\" for male and \"f\" for female."
   ]
  },
  {
   "cell_type": "code",
   "execution_count": null,
   "metadata": {
    "deletable": false,
    "editable": false,
    "nbgrader": {
     "cell_type": "code",
     "checksum": "4158643e4762af2f04e569f05b53f8dd",
     "grade": false,
     "grade_id": "cell-06a01be28c18339a",
     "locked": true,
     "schema_version": 3,
     "solution": false,
     "task": false
    }
   },
   "outputs": [],
   "source": [
    "# Here are your data.\n",
    "\n",
    "nest1 = \"fffffmmmfmmfffmfmmmfffffffmmffmmfffmmmmffmmffmmmfmmmffmmmmffffmmmfffmffmfmfmfmmffmfmmffmfmmf\"\n",
    "nest2 = \"mmmfmffffmmmfmmfmfmmffmffmfmfmffmffmmmfmfffmfmfffmffmmfmfmfmmffmfmmf\"\n",
    "nest3 = \"ffffffmmmfmmfffmfmmmffmfmmmfffmmfffmffffmffmmmffffffmmmfmmfffmfmmmffmfmm\"\n",
    "nest4 = \"fmfmfmmffmffmfmffffffmfmfmffmffmfmfmmfffffmfmfmmffmffmfmmmfmmmmmmfmfmmm\""
   ]
  },
  {
   "cell_type": "markdown",
   "metadata": {
    "deletable": false,
    "editable": false,
    "nbgrader": {
     "cell_type": "markdown",
     "checksum": "9beced490dc8ff315f14bbcb0505cc36",
     "grade": false,
     "grade_id": "cell-c998e2a3545270ce",
     "locked": true,
     "schema_version": 3,
     "solution": false,
     "task": false
    }
   },
   "source": [
    "A string (`str` in Python) is a *sequence* which can be *iterated*, as in a for loop. You also know the `range` and `list` types, which can also be iterated. When you iterate over an `str`, each item is a signle character `str`:"
   ]
  },
  {
   "cell_type": "code",
   "execution_count": null,
   "metadata": {
    "deletable": false,
    "editable": false,
    "nbgrader": {
     "cell_type": "code",
     "checksum": "e5f2c408de0dd738df93d56c740ada5e",
     "grade": false,
     "grade_id": "cell-7f96e853d095f8fc",
     "locked": true,
     "schema_version": 3,
     "solution": false,
     "task": false
    }
   },
   "outputs": [],
   "source": [
    "count = 0\n",
    "for char in nest1:\n",
    "    assert type(char)==str\n",
    "    count = count + 1"
   ]
  },
  {
   "cell_type": "code",
   "execution_count": null,
   "metadata": {
    "deletable": false,
    "editable": false,
    "nbgrader": {
     "cell_type": "code",
     "checksum": "e895996db28f23bc3d2d467302525ff2",
     "grade": false,
     "grade_id": "cell-23e2ec7eac2011ae",
     "locked": true,
     "schema_version": 3,
     "solution": false,
     "task": false
    }
   },
   "outputs": [],
   "source": [
    "count"
   ]
  },
  {
   "cell_type": "markdown",
   "metadata": {
    "deletable": false,
    "editable": false,
    "nbgrader": {
     "cell_type": "markdown",
     "checksum": "4ec691c580403c0191aa765921b6dee8",
     "grade": false,
     "grade_id": "cell-e874a549c51ed6e9",
     "locked": true,
     "schema_version": 3,
     "solution": false,
     "task": false
    }
   },
   "source": [
    "## Q3 How many male turtles are in nest1? Count the number of `\"m\"` characters are in the `nest` string. Put the answer in a variable `num_males`."
   ]
  },
  {
   "cell_type": "code",
   "execution_count": null,
   "metadata": {
    "deletable": false,
    "nbgrader": {
     "cell_type": "code",
     "checksum": "9c894475feb531696d4903dfbd41c751",
     "grade": false,
     "grade_id": "cell-efbc7c6cbe040063",
     "locked": false,
     "schema_version": 3,
     "solution": true,
     "task": false
    }
   },
   "outputs": [],
   "source": [
    "# YOUR CODE HERE\n",
    "raise NotImplementedError()"
   ]
  },
  {
   "cell_type": "code",
   "execution_count": null,
   "metadata": {
    "deletable": false,
    "editable": false,
    "nbgrader": {
     "cell_type": "code",
     "checksum": "fa153698e420be65dfa4581cbd00aaa9",
     "grade": false,
     "grade_id": "cell-62ab53f78c7a1aa4",
     "locked": true,
     "schema_version": 3,
     "solution": false,
     "task": false
    }
   },
   "outputs": [],
   "source": [
    "num_males"
   ]
  },
  {
   "cell_type": "code",
   "execution_count": null,
   "metadata": {
    "deletable": false,
    "editable": false,
    "nbgrader": {
     "cell_type": "code",
     "checksum": "294e3ba9dfca5680631a3d19f7c92552",
     "grade": true,
     "grade_id": "cell-f6cf427c0e834b6d",
     "locked": true,
     "points": 1,
     "schema_version": 3,
     "solution": false,
     "task": false
    }
   },
   "outputs": [],
   "source": [
    "# If this runs without error, it means the answer in your previous cell was correct.\n",
    "assert ads_hash(num_males)=='71ee45a3c0'"
   ]
  },
  {
   "cell_type": "markdown",
   "metadata": {},
   "source": [
    "## Q4 What fraction of all turtles from nest1 are male? Put the answer in a variable `sex_ratio`."
   ]
  },
  {
   "cell_type": "code",
   "execution_count": null,
   "metadata": {
    "deletable": false,
    "nbgrader": {
     "cell_type": "code",
     "checksum": "9fedcb5b2ba422cd60ea95a8a8b9b70b",
     "grade": false,
     "grade_id": "cell-545e9eaa06507765",
     "locked": false,
     "schema_version": 3,
     "solution": true,
     "task": false
    }
   },
   "outputs": [],
   "source": [
    "# YOUR CODE HERE\n",
    "raise NotImplementedError()"
   ]
  },
  {
   "cell_type": "code",
   "execution_count": null,
   "metadata": {
    "deletable": false,
    "editable": false,
    "nbgrader": {
     "cell_type": "code",
     "checksum": "f21d263c097cfec14f71db6f9e7571ad",
     "grade": true,
     "grade_id": "cell-aec1f9ca60c05951",
     "locked": true,
     "points": 1,
     "schema_version": 3,
     "solution": false,
     "task": false
    }
   },
   "outputs": [],
   "source": [
    "# If this runs without error, it means the answer in your previous cell was correct.\n",
    "assert ads_hash(round(sex_ratio*1000))=='200dd69b70'"
   ]
  },
  {
   "cell_type": "markdown",
   "metadata": {
    "deletable": false,
    "editable": false,
    "nbgrader": {
     "cell_type": "markdown",
     "checksum": "99b2ca7da0922463890f7f0205f56912",
     "grade": false,
     "grade_id": "cell-9a788ebd56edca64",
     "locked": true,
     "schema_version": 3,
     "solution": false,
     "task": false
    }
   },
   "source": [
    "## Q5 Create an empty dict called `empty_observations` with keys 'nest1', 'nest2', 'nest3', 'nest4'. Each value should be an empty list."
   ]
  },
  {
   "cell_type": "code",
   "execution_count": null,
   "metadata": {
    "deletable": false,
    "nbgrader": {
     "cell_type": "code",
     "checksum": "02d57be6740ea4cd271b3772729db3a2",
     "grade": false,
     "grade_id": "cell-cc33b612e98cae30",
     "locked": false,
     "schema_version": 3,
     "solution": true,
     "task": false
    }
   },
   "outputs": [],
   "source": [
    "# YOUR CODE HERE\n",
    "raise NotImplementedError()"
   ]
  },
  {
   "cell_type": "code",
   "execution_count": null,
   "metadata": {
    "deletable": false,
    "editable": false,
    "nbgrader": {
     "cell_type": "code",
     "checksum": "0de46160fb0aeb2beb6776b7203b1f48",
     "grade": true,
     "grade_id": "cell-b24ea76aaa1c504a",
     "locked": true,
     "points": 1,
     "schema_version": 3,
     "solution": false,
     "task": false
    }
   },
   "outputs": [],
   "source": [
    "# If this runs without error, it means the answer in your previous cell was correct.\n",
    "assert ads_hash(tuple([item for item in empty_observations.items()]))=='5c604a4cc5'"
   ]
  },
  {
   "cell_type": "markdown",
   "metadata": {
    "deletable": false,
    "editable": false,
    "nbgrader": {
     "cell_type": "markdown",
     "checksum": "9b653053052adc43392da64faa915f72",
     "grade": false,
     "grade_id": "cell-73e0ee5363629b1a",
     "locked": true,
     "schema_version": 3,
     "solution": false,
     "task": false
    }
   },
   "source": [
    "## Q6 Create a dict called `observations` with keys 'nest1', 'nest2', 'nest3', 'nest4'. The values for each key should be as given above in the section just after \"Here are your data.\"\n",
    "\n",
    "The key 'nest1' should have value given above for the `nest1` variable (i.e. `\"fffffmmmfmmfffmfmmmfffffffmmffmmfffmmmmffmmffmmmfmmmffmmmmffffmmmfffmffmfmfmfmmffmfmmffmfmmf\"`)"
   ]
  },
  {
   "cell_type": "code",
   "execution_count": null,
   "metadata": {
    "deletable": false,
    "nbgrader": {
     "cell_type": "code",
     "checksum": "843b5c8fef2bca0b04aeaa1cf641cec0",
     "grade": false,
     "grade_id": "cell-40c757b8f13d8839",
     "locked": false,
     "schema_version": 3,
     "solution": true,
     "task": false
    }
   },
   "outputs": [],
   "source": [
    "# YOUR CODE HERE\n",
    "raise NotImplementedError()"
   ]
  },
  {
   "cell_type": "code",
   "execution_count": null,
   "metadata": {
    "deletable": false,
    "editable": false,
    "nbgrader": {
     "cell_type": "code",
     "checksum": "c9ca29cfa789f5dcdd9cc0743831f0d9",
     "grade": true,
     "grade_id": "cell-41699e4baeb4f512",
     "locked": true,
     "points": 1,
     "schema_version": 3,
     "solution": false,
     "task": false
    }
   },
   "outputs": [],
   "source": [
    "# If this runs without error, it means the answer in your previous cell was correct.\n",
    "assert ads_hash(tuple([item for item in observations.items()]))=='19ea06edbc'"
   ]
  },
  {
   "cell_type": "markdown",
   "metadata": {
    "deletable": false,
    "editable": false,
    "nbgrader": {
     "cell_type": "markdown",
     "checksum": "577dbd75510c95dc0bbcc153e747916f",
     "grade": false,
     "grade_id": "cell-d2bdc242834633ea",
     "locked": true,
     "schema_version": 3,
     "solution": false,
     "task": false
    }
   },
   "source": [
    "## Iterating through a `dict`\n",
    "\n",
    "Consider the following:"
   ]
  },
  {
   "cell_type": "code",
   "execution_count": null,
   "metadata": {
    "deletable": false,
    "editable": false,
    "nbgrader": {
     "cell_type": "code",
     "checksum": "3c32b023d77ace7518f16600761783c4",
     "grade": false,
     "grade_id": "cell-57062ecaa6dd4e24",
     "locked": true,
     "schema_version": 3,
     "solution": false,
     "task": false
    }
   },
   "outputs": [],
   "source": [
    "data = {'a': 1, 'b': 2, 'c': 3}"
   ]
  },
  {
   "cell_type": "code",
   "execution_count": null,
   "metadata": {
    "deletable": false,
    "editable": false,
    "nbgrader": {
     "cell_type": "code",
     "checksum": "d8c51f4d13f1211f92f7514f53c9797d",
     "grade": false,
     "grade_id": "cell-1a4e6fb36a964a4c",
     "locked": true,
     "schema_version": 3,
     "solution": false,
     "task": false
    }
   },
   "outputs": [],
   "source": [
    "for key in data:\n",
    "    value = data[key]\n",
    "    print(f\"key: {key}, value: {value}\")"
   ]
  },
  {
   "cell_type": "markdown",
   "metadata": {
    "deletable": false,
    "editable": false,
    "nbgrader": {
     "cell_type": "markdown",
     "checksum": "b2b279d18d23c78aeadbe664bcb0d0c5",
     "grade": false,
     "grade_id": "cell-7a45e8eeafa0152b",
     "locked": true,
     "schema_version": 3,
     "solution": false,
     "task": false
    }
   },
   "source": [
    "We see in the above that we can iterate through this dictionary. Let's create a new dictionary based on the first one:"
   ]
  },
  {
   "cell_type": "code",
   "execution_count": null,
   "metadata": {
    "deletable": false,
    "editable": false,
    "nbgrader": {
     "cell_type": "code",
     "checksum": "b464067a56c044807d8e6190151f0deb",
     "grade": false,
     "grade_id": "cell-154ab8a613fe8638",
     "locked": true,
     "schema_version": 3,
     "solution": false,
     "task": false
    }
   },
   "outputs": [],
   "source": [
    "squared_data = {}\n",
    "for key in data:\n",
    "    value = data[key]\n",
    "    squared_data[key] = value*value\n",
    "print(squared_data)"
   ]
  },
  {
   "cell_type": "markdown",
   "metadata": {
    "deletable": false,
    "editable": false,
    "nbgrader": {
     "cell_type": "markdown",
     "checksum": "e2ec0584f0a9b7a28f4618d131f225ca",
     "grade": false,
     "grade_id": "cell-55d5e2b1c6ca9071",
     "locked": true,
     "schema_version": 3,
     "solution": false,
     "task": false
    }
   },
   "source": [
    "## Q7. Putting things together: create a dict called `sex_ratios`.\n",
    "\n",
    "There should be key for every key from the `observations` dictionary and the value for each key should be the sex ratio for each value in the `observations` dictionary."
   ]
  },
  {
   "cell_type": "code",
   "execution_count": null,
   "metadata": {
    "deletable": false,
    "nbgrader": {
     "cell_type": "code",
     "checksum": "fe205cb58e690b73a3a013aa0294a4ca",
     "grade": false,
     "grade_id": "cell-d890f019a87700d7",
     "locked": false,
     "schema_version": 3,
     "solution": true,
     "task": false
    }
   },
   "outputs": [],
   "source": [
    "# YOUR CODE HERE\n",
    "raise NotImplementedError()"
   ]
  },
  {
   "cell_type": "code",
   "execution_count": null,
   "metadata": {
    "deletable": false,
    "editable": false,
    "nbgrader": {
     "cell_type": "code",
     "checksum": "449769306d1324a2fb0587d36636e22e",
     "grade": true,
     "grade_id": "cell-a583495a57a86cfe",
     "locked": true,
     "points": 1,
     "schema_version": 3,
     "solution": false,
     "task": false
    }
   },
   "outputs": [],
   "source": [
    "# If this runs without error, it means the answer in your previous cell was correct.\n",
    "assert ads_hash(tuple([(k,round(v*10000)) for (k,v) in sex_ratios.items()]))=='9d19a5431a'"
   ]
  },
  {
   "cell_type": "markdown",
   "metadata": {
    "deletable": false,
    "editable": false,
    "nbgrader": {
     "cell_type": "markdown",
     "checksum": "3f7af81e8762e0bfe5f9902ce46f70b0",
     "grade": false,
     "grade_id": "cell-839a79cbcdf3f3cf",
     "locked": true,
     "schema_version": 3,
     "solution": false,
     "task": false
    }
   },
   "source": [
    "## Q8. Plotting data\n",
    "\n",
    "Given the following data, make a plot that looks like the following:\n",
    "\n",
    "<img src=\"data:image/png;base64,iVBORw0KGgoAAAANSUhEUgAAAYgAAAEGCAYAAAB/+QKOAAAABHNCSVQICAgIfAhkiAAAAAlwSFlzAAALEgAACxIB0t1+/AAAADh0RVh0U29mdHdhcmUAbWF0cGxvdGxpYiB2ZXJzaW9uMy4xLjEsIGh0dHA6Ly9tYXRwbG90bGliLm9yZy8QZhcZAAAgAElEQVR4nO3deXhc9X3v8fdXqyV5kRd5kyVvGBNjBwyuCYGwhIJtkhSykALN0zRpH0puuElL4hZu2nvbJH1CcZq2uZC6NCHLbROamxiH3BgbQgikEIhtbPACciSDbUm2JVuW7dFibd/7x5wRY3kkj2wdzfZ5PY8ezZxzfjNfHR/Pd37L+f3M3RERERkoL9UBiIhIelKCEBGRhJQgREQkISUIERFJSAlCREQSKkh1ACNpypQpPmfOnFSHISKSMbZu3XrE3SsS7cuqBDFnzhy2bNmS6jBERDKGme0bbJ+amEREJCElCBERSUgJQkREElKCEBGRhJQgREQkoVAThJmtNLMaM6s1s/sS7J9gZj81s1fNbJeZfSLZsiIiuW79tgaueuAXzL3vZ1z1wC9Yv61hRF8/tARhZvnAw8AqYBFwh5ktGnDYp4Hd7n4JcB3wD2ZWlGRZEZGctX5bA/ev20FDawcONLR2cP+6HSOaJMKsQSwHat19r7t3AY8Btww4xoFxZmbAWKAF6EmyrIhIzlqzqYaO7t7TtnV097JmU82IvUeYCaISOBD3vD7YFu8h4B1AI7AD+Ky79yVZFgAzu8vMtpjZlubm5pGKXUQkrTW2dgxr+7kIM0FYgm0DVydaAWwHZgKXAg+Z2fgky0Y3uj/i7svcfVlFRcK7xUVEss7M8pJhbT8XYSaIeqAq7vksojWFeJ8A1nlULfAmcFGSZUVEcta9Ny4445t0SWE+q1csHLH3CDNBbAYWmNlcMysCbgeeGHDMfuAGADObBiwE9iZZVkQkZ3X29OHA5LIiDKgsL+ErH1rCrUsTtsafk9Am63P3HjO7B9gE5AOPuvsuM7s72L8W+BLwHTPbQbRZ6S/d/QhAorJhxSoikkk6u3v5+jO/5fLZE/nR3VcSHecz8kKdzdXdNwAbBmxbG/e4Ebgp2bIiIgLf+/VbHD5xin++fWloyQF0J7WISEY52dnNN35ZxzUXVvCueZNDfS8lCBGRDPLNX71Ja3s3q28auc7owShBiIhkiJa2Lr75q72sWjydJbMmhP5+ShAiIhniG8/W0tHdy+duunBU3k8JQkQkAxw83sH3XtrHhy6bxQVTx43KeypBiIhkgK8/U4u789kbFozaeypBiIikubeOtPHDLQe4c3k1VZNKR+19lSBERNLc157eQ1F+Hp9+7wWj+r5KECIiaWx34wmeeLWRT1w1h6njxozqeytBiIiksa89XcP4MQX86TXzR/29lSBERNLU1n0t/Pz1Jv702vlMKC0c9fdXghARSUPuzoMba5gytohPXDUnJTEoQYiIpKH/qj3Cy2+2cM/1F1BaFOq8qoNSghARSTPuzppNNVSWl3DHFdUpi0MJQkQkzWzadYjX6o/zZ7+7gOKC/JTFoQQhIpJGevucrz61h/kVZXxwBFeHOxdKECIiaWT9tgZqmyJ87qaFFOSn9iNaCUJEJE109fTxjz/fw+LK8ay8eHqqw1GCEBFJF49t3k/9sQ5Wr7iIvLzwlhJNlhKEiEgaaO/q4evP1LJ87iSuWTAl1eEAShAiImnhuy/u40jkFH+xYiFmqa89gBKEiEjKHe/oZu1zdbz3oqksmzMp1eH0U4IQEUmxf3t+L8c7ukdtKdFkhZogzGylmdWYWa2Z3Zdg/2oz2x787DSzXjObFOx7y8x2BPu2hBmniEiqNJ88xaMvvMn73zmDi2dOSHU4pwltgg8zywceBm4E6oHNZvaEu++OHePua4A1wfEfAP7c3VviXuZ6dz8SVowiIqn28LO1nOrp494b06v2AOHWIJYDte6+1927gMeAW4Y4/g7gByHGIyKSVuqPtfP9l/dz2+WzmFcxNtXhnCHMBFEJHIh7Xh9sO4OZlQIrgR/HbXbgKTPbamZ3DfYmZnaXmW0xsy3Nzc0jELaIyOj4+jO/BeAzNyxIcSSJhZkgEo3T8kGO/QDwwoDmpavc/TJgFfBpM7smUUF3f8Tdl7n7soqKivOLWERklNQ1R/jR1no+9q7ZzCwvSXU4CYWZIOqBqrjns4DGQY69nQHNS+7eGPxuAh4n2mQlIpIVvvbUHkoK8/n09aO/lGiywkwQm4EFZjbXzIqIJoEnBh5kZhOAa4GfxG0rM7NxscfATcDOEGMVERk1OxuO87MdB/njq+cyeWxxqsMZVGijmNy9x8zuATYB+cCj7r7LzO4O9q8NDv0g8JS7t8UVnwY8HtxNWAB83903hhWriMho+upTNUwoKeRPrpmX6lCGFOo6du6+AdgwYNvaAc+/A3xnwLa9wCVhxiYikgq/ebOFX9Y0c9+qixg/pjDV4QxJd1KLiIyS6FKibzB1XDEfv3JOqsM5KyUIEZFR8ss9zWx+6xj//YYFlBSlbinRZClBiIiMgr4+56ubaqiaVMLvL6s6e4E0oAQhIjIKNuw8yK7GE9x744UUFWTGR2+ondQiIrlu/bYGHtz0Bo2tnRTkGd6X6oiSpwQhIhKS9dsauH/dDjq6ewHo6XO+sH4neXnGrUsTzjyUVjKjniMikoHWbKrpTw4xHd29rNlUk6KIhkcJQkQkJI2tHcPanm6UIEREQjLYJHzpOjnfQEoQIiIhWb1iIYX5p09sXVKYz+oVC1MU0fAoQYiIhOTWpZX8zpyJmEXXP6gsL+ErH1qSER3UoFFMIiKh6u2Dy6on8uNPvTvVoQybahAiIiGqa25jfkVZqsM4J0oQIiIhOd7ezZHIKS6Ymn7rTSdDCUJEJCS1zREA5lcoQYiISJy6pmiCUA1CREROU9ccoaggj1kTS1MdyjlRghARCUltU4R5U8rIz7OzH5yGlCBEREJS1xzJ2P4HUIIQEQlFZ3cv+1vamZ+h/Q+gBCEiEop9R9vpczL2HghQghARCUVtho9gAiUIEZFQ1DVHMIN5U5QgEjKzlWZWY2a1ZnZfgv2rzWx78LPTzHrNbFIyZUVE0lltU4TK8hJKivJTHco5Cy1BmFk+8DCwClgE3GFmi+KPcfc17n6pu18K3A885+4tyZQVEUlnmT6CCcKtQSwHat19r7t3AY8Btwxx/B3AD86xrIhI2ujrc+qaIxnd/wDhJohK4EDc8/pg2xnMrBRYCfz4HMreZWZbzGxLc3PzeQctInK+Go930NndpxrEEBLdOuiDHPsB4AV3bxluWXd/xN2XufuyioqKcwhTRGRkZcMIJgg3QdQDVXHPZwGNgxx7O283Lw23rIhIWqlrbgMy+x4ICDdBbAYWmNlcMysimgSeGHiQmU0ArgV+MtyyIiLpqLYpwsTSQiaPLU51KOcltCVH3b3HzO4BNgH5wKPuvsvM7g72rw0O/SDwlLu3na1sWLGKiIykbBjBBCGvSe3uG4ANA7atHfD8O8B3kikrIpIJ6poi3LhoWqrDOG+6k1pEZAQda+viaFtXVtQglCBEREZQXXN2jGACJQgRkRGVLUNcQQlCRGRE1TVHKC7IY2Z5SapDOW9KECIiI6i2KcK8irEZu8xoPCUIEZERVNfclvE3yMUoQYiIjJDO7l4OHGvPiv4HUIIQERkxbx5pw52sGOIKShAiIiMmm0YwgRKEiMiIiS0zOndKjvRBmNkEM/vH2JoLZvYPwQR7IiISp7YpQtXEUsYUZu4yo/GSqUE8CpwAPhr8nAC+HWZQIiKZKJtGMEFyk/XNd/cPxz3/WzPbHlZAIiKZqLfP2dsc4eoLJqc6lBGTTA2iw8yujj0xs6uAjvBCEhHJPI2tHZzqyfxlRuMlU4P4FPDdoN/BgBbgj8IMSkQk02TbCCZIIkG4+3bgEjMbHzw/EXpUIiIZJjaLa07UIMzsY+7+72Z274DtALj710KOTUQkY9Q2RZhcVsTEsqJUhzJihqpBxLrixyXY5yHEIiKSsbJlmdF4gyYId//X4OHP3f2F+H1BR7WIiARqmyKsXDwj1WGMqGRGMf3vJLeJiOSklrYujrV3Z9U9EDB0H8SVwLuBigH9EOOB7LhNUERkBGTjCCYYug+iCBgbHBPfD3EC+EiYQYmIZJJsHMEEQ/dBPAc8Z2bfcfd9oxiTiEhGqW2KMKYwj8osWGY0XjI3yrWb2RrgYmBMbKO7v/dsBc1sJfDPRJukvunuDyQ45jrgn4BC4Ii7Xxtsfws4CfQCPe6+LIlYRURGXV1zhHlTxpKXBcuMxksmQfwH8J/A+4G7gY8DzWcrZGb5wMPAjUA9sNnMnnD33XHHlAPfAFa6+34zmzrgZa539yNJ/SUiIilS2xThsuqJqQ5jxCUzimmyu38L6Hb359z9k8C7kii3HKh1973u3gU8Btwy4Jg7gXXuvh/A3ZuGEbuISMp1dPXS0NqRdf0PkFyC6A5+HzSz95nZUmBWEuUqgQNxz+uDbfEuBCaa2S/NbKuZ/WHcPgeeCrbfNdibmNldsbUqmpvPWrERERlRe49EcM++EUyQXBPTl4OJ+j5H9P6H8cCfJ1EuUWPcwDuwC4DLgRuAEuDXZvaSu+8BrnL3xqDZ6Wkze8Pdnz/jBd0fAR4BWLZsme7wFpFRVdfcBsD8qdl1DwScJUEE/QgL3P3/AceB64fx2vVAVdzzWUBjgmOOuHsb0GZmzwOXAHvcvRGizU5m9jjRJqszEoSISCrVNkXIM5gzOfsSxJBNTO7eC/zeOb72ZmCBmc01syLgduCJAcf8BHiPmRWYWSlwBfC6mZWZ2TgAMysDbgJ2nmMcIiKhqWuOUDUpe5YZjZdME9OLZvYQ0ZFMbbGN7v7KUIXcvcfM7gE2ER3m+qi77zKzu4P9a939dTPbCLwG9BEdCrvTzOYBjwczxxYA33f3jefw94mIhKquKcIFWdhBDckliHcHv78Yt82Bs94H4e4bgA0Dtq0d8HwNsGbAtr1Em5pERNJWb5+z90gb11xYkepQQpHMgkHD6XcQEckZ9cfa6erpy9oaRDLDXEVEJIH+OZiycAQTKEGIiJyz2Cyu2XiTHChBiIics7qmNqaMLaK8NHuWGY131gRhZl8ys4K45+PN7NvhhiUikv5qs3CZ0XjJ1CAKgJfN7J1mdhPR+xu2hhuWiEh6c3dqmyLMz8IpNmKSGcV0v5k9A7wMHAOucffa0CMTEUljR9u6ON7RnbUjmCC5JqZriK7p8EXgl8BDZjYz5LhERNJafwd1LtcggK8Ct8XWcTCzDwG/AC4KMzARkXQWG+KajbO4xiSTIK4M5mQCwN3XmdlzIcYkIpL2apsilBTmM2P8mLMfnKGS6aSeYmbfCuZMwswWAbeGG5aISHqra25j/tSyrFtmNF4yCeI7RCfcmxE83wP8WVgBiYhkgrqm7B7iCknWINz9h0RnW8Xde4DeoYuIiGSv9q4eGlo7snoEEySXINrMbDLBanBm9i6iiweJiOSkvf2ryGV3gkimk/peogv9zDezF4AK4COhRiUiksZyYQQTJHej3Ctmdi2wkOg60zXu3h16ZCIiaSq2zOjsyaWpDiVUydwodxtQ4u67iI5e+k8zuyz0yERE0lRdc4TZk8soLsi+ZUbjJdMH8dfuftLMrgZWAN8F/iXcsERE0ldtU4T5Fdm5BkS8ZBJEbMTS+4B/cfefANk5t62IyFn09Pbx1pH2rO+ghuQSRIOZ/SvwUWCDmRUnWU5EJOscONZBV29f1t8DAcl90H+U6I1yK929FZgErA41KhGRNFXXlBsjmCC5UUztwLq45weBg2EGJSKSrmqbs3uZ0XhqKhIRGYa6pggV44qZUFKY6lBCF2qCMLOVZlZjZrVmdt8gx1xnZtvNbFf8LLHJlBURGW21zZGsn2IjJrQEYWb5wMPAKmARcEcwE2z8MeXAN4Dfc/eLgduSLSsiMtrcPTpJ39TsH+IK4dYglgO17r7X3buAx4BbBhxzJ7DO3fcDuHvTMMqKiIyq5sgpTnT2qAYxAiqBA3HP64Nt8S4EJprZL81sq5n94TDKAmBmd5nZFjPb0tzcPEKhi4icqa4pNybpi0lmsr5zlWgVDU/w/pcDNwAlwK/N7KUky0Y3uj8CPAKwbNmyhMeIiIyE2hyZpC8mzARRD1TFPZ8FNCY45oi7txGdVvx54JIky4qIjKq6pghlRflMz+JlRuOF2cS0GVhgZnPNrAi4nei04fF+ArzHzArMrBS4Ang9ybIiIqOqrjnC/KljMcveZUbjhVaDcPceM7uH6F3Y+cCj7r7LzO4O9q9199eDta5fI7pi3TfdfSdAorJhxSoikoy6pghXzJuc6jBGTZhNTLj7BmDDgG1rBzxfA6xJpqyISKq0neqh8XhnzvQ/gO6kFhFJSv8yozkwzXeMEoSISBJqm08CuTOCCZQgRESSUtfURn6eUT1JNQgREYlT2xRh9uRSigpy52Mzd/5SEZHzUNccyYkpvuMpQYiInEVPbx9vHW3Lqf4HUIIQETmr/S3tdPe6ahAiInK62hxaZjSeEoSIyFnUBfdAzMuheyBACUJE5KxqmyJMG1/M+DHZv8xoPCUIEZGzyMURTKAEISIypNgyo7nW/wBKECIiQ2o6eYqTp3pUgxARkdPV5egIJlCCEBEZUmyZUdUgRETkNHVNEcYWFzBtfHGqQxl1ShAiIkOobY4wv6IsZ5YZjacEISIyhLqmNubnYP8DKEGIiAzqZGc3h0505mT/AyhBiIgMKrbMaC6OYAIlCBGRQcUm6VMNQkRETlPXHKEgz5g9uTTVoaREqAnCzFaaWY2Z1ZrZfQn2X2dmx81se/DzP+P2vWVmO4LtW8KMU0Qkkdgyo4X5uflduiCsFzazfOBh4EagHthsZk+4++4Bh/7K3d8/yMtc7+5HwopRRGQodc25OQdTTJhpcTlQ6+573b0LeAy4JcT3ExEZMd29few72p6z/Q8QboKoBA7EPa8Ptg10pZm9amZPmtnFcdsdeMrMtprZXSHGKSJyhn1H2+np85yuQYTWxAQkuu3QBzx/BZjt7hEzuxlYDywI9l3l7o1mNhV42szecPfnz3iTaPK4C6C6unrkoheRnJbrI5gg3BpEPVAV93wW0Bh/gLufcPdI8HgDUGhmU4LnjcHvJuBxok1WZ3D3R9x9mbsvq6ioGPm/QkRyUl1skr4crkGEmSA2AwvMbK6ZFQG3A0/EH2Bm0y2Y4MTMlgfxHDWzMjMbF2wvA24CdoYYq4jIaeqaIkwfP4axxWE2tKS30P5yd+8xs3uATUA+8Ki77zKzu4P9a4GPAJ8ysx6gA7jd3d3MpgGPB7mjAPi+u28MK1YRkYFyfQQThNsHEWs22jBg29q4xw8BDyUotxe4JMzYREQG4+7UNbfx4csSjavJHbl594eIyBAOnzhF5FRPztcglCBERAbQCKYoJQgRkQFiI5hUgxARkdPUNkUYV1xAxbjcW2Y0nhKEiMgAdc0R5k8dm5PLjMZTghARGaC2KZLz/Q+gBCEicpoTnd00nTyV8/0PoAQhInKauv4RTGUpjiT1lCBEROLU5fg61PGUIERE4tQ2RSjMN6on5eYyo/GUIERE4tQ1R5gzuYyCHF1mNJ7OgIhInLomTdIXowQhIhLo6uljX0tuLzMaTwlCRCSw72gbvTm+zGg8JQgRkUD/KnKqQQBKECIi/WKzuM7TPRCAEoSISL+65jZmThhDWQ4vMxov58/C+m0NrNlUQ2NrBzPLS1i9YiG3Ls3tVaRkcLpeslttU3SSPonK6RrE+m0N3L9uBw2tHTjQ0NrB/et2sH5bQ6pDkzSk6yW79fV5dBZX9T/0y+kEsWZTDR3dvadt6+juZc2mmhRFJOls8OvljRRFJCPp0IlO2rt6NYIpTk43MTW2diTc3tDawV+v38nS6nKWVk9kzuTSnJ8XPpcdiZziqV2HaRj0eunkru9t4dLqcpZWTeSdsyaoDTsDaZnRM+X0VTyzvCThf/rigjzWvVLP/3lpHwDlpYVcWhX9z7+0upxLqsqZUFI42uHKKDp8opNNuw6xYcdBfvNmC30O+XlGb5+fcWxJYT6/bYrw1O7DAOQZLJw+nqXV5VxaVc5l1eXMmzKWvDx9yUhnWmb0TDmdIFavWMj963ac1mxQUpjPVz60hA9cMpPapgjb9h9j2/5Wth04xnN7mvHg82F+RRlLq6MJY2nVRC6cNvaMuVvUoZlYup6XhtYONu48xJM7DrJ1/zHco//On77+AlYtnkHNoRP8j8d3Jrxebl1aSUtbF68eaI1eMwda+emrjXz/5f0AjBtTEHzJiNZKL60qZ2JZ0RkxpOu5SbXROC+1TRHGjylgytgz/11ylbmf+Y1oxF7cbCXwz0A+8E13f2DA/uuAnwBvBpvWufsXkymbyLJly3zLli3DinE4F97Jzm5eqz8elzRaaWnrAqC0KJ8llRP6k8bh4x185cmaQT9MclWsozddzsv+o+08ufMgG3Ye4tUDrQBcNH0cqxbP4OYl01kwbdxpxw/neunrc/YeifDK/la2H2hl2/5Wag6dIFYJmTuljKVV5f1NU3sOn+Cv1u9Km3OTLkbrmrn9kV/T1dPHuv921Yi9ZiYws63uvizhvrAShJnlA3uAG4F6YDNwh7vvjjvmOuDz7v7+4ZZN5FwSxPlwdw60dLDtQJAw9h9j98ETdPcOfk4ry0t44b73jlqM6aK1vYttB1r5zA+2cbKz54z9xQV5fHRZFbMnl1I9qZTZk8uomlRCadHIV3LrmiNs3BltPtrVeAKAJZUTWLl4OqsWT2deiG3Qbad6eK3+eJAwojWN5pOnhiyTi9dMb5+z5/BJtu1v5cs/2017V+8Zx5QU5vMn75nbf73MnlzK1HHF59xfuOzLP+f6hRWsue2S8w0/owyVIMJsYloO1Lr73iCIx4BbgCE/5Eeg7KgxM6onl1I9uZRbLo1+k+ns7mVX4wk+/C8vJizT0NrBgZZ2qrJ4rvnu3j5qDp3s/wDcvr+VvUfahixzqqeP9dsbzkgeFeOKmT0peo5nT4p+CFQHSWRyWVHCD4OB3/I/f9OFXFw5gQ07DvLkjkPUHD4JwNLqcr5w8ztYuXj6qP17lBUXcOX8yVw5fzIQ/ZLR0NrB9gOt3PP9bQnLNLR20NXTR1FB9g46bDrZyfagVr5t/zFeqz+eMCnE6+ju5eFna4nvFhpTmEf1pFKqJ5UFiSN27ZQya2JpwnO4flsDf7/xDY5ETrFp1yGuumBKTtfY4oWZICqBA3HP64ErEhx3pZm9CjQSrU3sGkbZtDOmMJ/LZ0+kcpAOcID3PPgsSyonsGrJdFYtnsHcKZl9W/+h452nJYPXGlrp7O4DYMrYYpZWl/ORZbNYWjWRe3+4nYPHO894jdi35Nb2LvYdbWdfSzv7j7b1P36x9ijrTpx+v8HY4gKqJkX/88c+COpbOnj0hTc51RN9/4bWDu794as4YAa/M3sS/+sDi1hx8XRmlpeEfm7OxsyYNTH64fWVDW8Mes0s+/LT3LgoWsO5esEUxhTmj3KkI+dUT/RLVKzWvW1/a//fXZBnXDxzPLddPqu/ufbOf3uJhtbE18yzn7+OhtYO9g+4XvYfbeeF2iOnNUvlGcyYUNJfS62eXMrh4508tvlA//VyorOH+9ftAFCSINwEkaieN7Dt5RVgtrtHzOxmYD2wIMmy0Tcxuwu4C6C6uvrcox1hg3WAf/6mC+npc57ceYgHN9bw4MYaLpo+jpuXzGDV4jPbvFNlsLb2jq5edja+3Q+z/UBr/wd+UX4eF1eO587ls4MhwuVUlpec9i3/L1delPC8rF6xEIDy0iLKS4u4pKr8jJg6u3upP9Ye/RA42s7+lnb2HW1jT9NJfvFGE129fQn/FgcmlBTy9L3XMHXcmBE8SyMr0TUzpjCPj10xm5b2Lp7efYgfv1LP2OICbnjHVFYtns61F06lpCg9kkWia+aWS2ee3gx7oJXdjcf7m2Ery0u4tKqcT1w1h6XV5Vw8c8IZyW/1isGvmaKCPOZOKQu+ZFWcVs7daT55qj9h9H/paGnn6d2HORr0Hw4UuxdKCSLcPogrgb9x9xXB8/sB3P0rQ5R5C1hGNEkMqyyMfh/E2ZytQzM2ambjzoNs2RcdNXPB1LHcvHg6KxfP4B0zxqXk/otEnYL5ecaM8cUcOnGKnqBOXzWppH/o76VV5SyaOZ7igrN/WIUxIqW3zzl8opN3P/CLhPsNePOB953Xe4yGoc5NV08fL9Yd4ckdh3hq9yGOtXdTUpjPey+aysrF03nvRVNTdv9Fomsmz6If5G1BU1FJYT5LZk3oH/m3tLqcaeOTS9hhXDMnO7t55988lfCbZ6ZcLyMhVZ3UBUQ7mm8AGoh2NN8ZNCHFjpkOHHZ3N7PlwI+A2URHLg1ZNpF0SxDDERt3/+SOQ7z85lH6HOZMLmVVULNYUjkhlGTR1dNHQ2sH+462Bd/I2/mPl/bR2XPmt/Higjz+5D1zWVo1kUury5kytnjE4zlfVz3wi4TNNNnW0dvT28fLb7awYcdBNu06zJHIKYoL8rj2wgpWLZnODe+YxvgxI3+vjrtzrL37tOtl39F2fvpqY8IaXElhPl943ztYWl3Owmnj0m4Zz1y5XoaSkgQRvPHNwD8R/cB/1N3/zszuBnD3tWZ2D/ApoAfoAO519xcHK3u298vkBBEvdufukzsP8mLdUXr7nMryEm5eEq1ZLK0qJy/Pkv5WdbKzO65Jpp39LW//525s7Titk6+4IK+/PXagTPhWlW7DaEdDb5+z5a0Wntx5iI07D3HoRCdF+XlcvWAKKxdP56ZF0ygvLUr6eunp7ePg8c63E0BLW7SJ5mg7B1raOXnq9IEE08YXc/hE4pFY6X7N5OL1MlDKEsRoy5YEEe9YWxdPv36YjTsP8avfNtPd60wfP4YF08by8pstdMV9mBcV5PHhyyqZMra4PyHsb2nvv1cjZlJZ0emdu3HDBCvGFvOeB5/N6G9VuXyzWV+fs+1AK0/uOMiTOw/R0NpBQZ4xv6KMvUfaThuCXVyQx8euqGZGeclpAwPqj3X0NyMCFOYbVdQmHjkAAAeASURBVBPfHg1UFXe9VE0spaQoP6O/iefy9QJKEFnjRGc3z7x+OGiDPjzocXkWnUakf5hfbHhoMHLjbE0P+laVHdydHQ3H2bDjEP/2q70JpwmJGTemgNnBUOLYMOLY8OIZE0rIP8s0IbpmMpcSRBaae9/PBu1cq/nyqvMeM5/r36qyzVDXyyt/fSPlpYXn3celayYzpepGOQnRYBMNziwvGZEbqm5dWqn/3FlkqOsl0ZxQ50LXTPZJryEFkrTVKxZSMmC8ePz9BCLxdL3IuVANIkPFvqmpSi/J0PUi50J9ECIiOWyoPgg1MYmISEJKECIikpAShIiIJKQEISIiCSlBiIhIQlk1isnMmoF951h8CnBkBMMZTZkae6bGDYo9VRT7yJvt7hWJdmRVgjgfZrZlsKFe6S5TY8/UuEGxp4piH11qYhIRkYSUIEREJCEliLc9kuoAzkOmxp6pcYNiTxXFPorUByEiIgmpBiEiIgkpQYiISEJZmyDM7FEzazKznXHbLjGzX5vZDjP7qZmND7bPMbMOM9se/KyNK3N5cHytmX3dznfZrRGOPdj3zmDfrmD/mEyI3cz+IO6cbzezPjO7NENiLzSz7wbbXzez++PKjGrsw4y7yMy+HWx/1cyuS1XcwXtWmdmzwTncZWafDbZPMrOnzey3we+JcWXuD2KsMbMVqYp/uLGb2eTg+IiZPTTgtUb93CfF3bPyB7gGuAzYGbdtM3Bt8PiTwJeCx3PijxvwOr8BriS6OuOTwKo0i70AeA24JHg+GcjPhNgHlFsC7M2g834n8FjwuBR4C5iTitiHGfengW8Hj6cCW4G8FJ7zGcBlweNxwB5gEfAgcF+w/T7g74PHi4BXgWJgLlCXquv9HGIvA64G7gYeGvBao37uk/nJ2hqEuz8PtAzYvBB4Pnj8NPDhoV7DzGYA49391x79V/wecOtIxzrQMGO/CXjN3V8Nyh51994MiT3eHcAPIGPOuwNlZlYAlABdwIlUxD7MuBcBzwTlmoBWYFkKz/lBd38leHwSeB2oBG4Bvhsc9t24WG4hmphPufubQC2wPEXnfVixu3ubu/8X0Bn/Oqk698nI2gQxiJ3A7wWPbwOq4vbNNbNtZvacmb0n2FYJ1McdUx9sS4XBYr8QcDPbZGavmNlfBNszIfZ4v0+QIMiM2H8EtAEHgf3AV929hfSJfbC4XwVuMbMCM5sLXB7sS3ncZjYHWAq8DExz94MQ/SAmWtshiOlAXLFYnCmNP8nYB5Pycz+YXEsQnwQ+bWZbiVYJu4LtB4Fqd18K3At8P2izTdQOmKpxwYPFXkC02voHwe8PmtkNZEbsAJjZFUC7u8fa0DMh9uVALzCTaFPH58xsHukT+2BxP0r0A2gL8E/Ai0APKY7bzMYCPwb+zN1PDHVogm0+xPbQDSP2QV8iwba0uP8gp9akdvc3iDbJYGYXAu8Ltp8CTgWPt5pZHdFv5vXArLiXmAU0jmbMMYPFTjTG59z9SLBvA9H26H8n/WOPuZ23aw+QGef9TmCju3cDTWb2ArAM+BVpEPsQ13oP8Oex48zsReC3wDFSFLeZFRL9gP0Pd18XbD5sZjPc/WDQBNMUbK/n9BpoLM6UXDPDjH0waXO9D5RTNQgzmxr8zgP+ClgbPK8ws/zg8TxgAdEO04PASTN7VzCq4A+Bn6RT7MAm4J1mVhq0h18L7M6Q2GPbbgMei23LkNj3A++1qDLgXcAb6RL7ENd6aRAvZnYj0OPuKbtegvf6FvC6u38tbtcTwMeDxx+Pi+UJ4HYzKw6ayBYAv0lF/OcQe0Lpcs0klOpe8rB+iH4jPQh0E83Qfwx8luhIgz3AA7x9J/mHgV1E22dfAT4Q9zrLiLbn1gEPxcqkS+zB8R8L4t8JPJhhsV8HvJTgddI6dmAs8H+D874bWJ2q2IcZ9xyghmiH6s+JTvWcynN+NdHmlNeA7cHPzURH4z1DtHbzDDAprswXghhriBvtk4Lzfi6xv0V0QEEk+LdalKpzn8yPptoQEZGEcqqJSUREkqcEISIiCSlBiIhIQkoQIiKSkBKEiIgkpAQhIiIJKUGIpJHYDZsi6UAJQuQcmdmXYmsABM//zsw+Y2arzWyzmb1mZn8bt3+9mW0N1g64K257xMy+aGYvE53yWSQtKEGInLtvEUypEExpcTtwmOj0D8uBS4HLzeya4PhPuvvlRO+a/YyZTQ62lxFdy+EKj04HLZIWcmqyPpGR5O5vmdlRM1sKTAO2Ab9DdJK8bcFhY4kmjOeJJoUPBturgu1Hic4K++PRjF0kGUoQIufnm8AfAdOJTqV9A/AVd//X+IMsurTn7wJXunu7mf0SGBPs7nT33tEKWCRZamISOT+PAyuJ1hw2BT+fDNYIwMwqg5lVJwDHguRwEdHZX0XSmmoQIufB3bvM7FmgNagFPGVm7wB+HZ25mQjR2XY3Aneb2WtEZyF9KVUxiyRLs7mKnIegc/oV4DZ3/22q4xEZSWpiEjlHZrYIqAWeUXKQbKQahIiIJKQahIiIJKQEISIiCSlBiIhIQkoQIiKSkBKEiIgk9P8BQJyuaRJ32aUAAAAASUVORK5CYII=\" alt=\"\" />\n",
    "\n",
    "```\n",
    "year= [1950, 1955, 1960, 1965, 1970, 1975, 1980, 1985, 1990, 1995, 2000, 2005, 2010, 2015]\n",
    "sex_ratio = [0.51, 0.502, 0.49, 0.495, 0.503, 0.498, 0.51, 0.502, 0.49, 0.495, 0.503, 0.498, 0.73, 0.80]\n",
    "```"
   ]
  },
  {
   "cell_type": "code",
   "execution_count": null,
   "metadata": {
    "deletable": false,
    "nbgrader": {
     "cell_type": "code",
     "checksum": "1085e4e4a330ebb3bcd0ac1280d98c6d",
     "grade": true,
     "grade_id": "cell-369c41d4c436ea90",
     "locked": false,
     "points": 1,
     "schema_version": 3,
     "solution": true,
     "task": false
    }
   },
   "outputs": [],
   "source": [
    "# YOUR CODE HERE\n",
    "raise NotImplementedError()"
   ]
  },
  {
   "cell_type": "markdown",
   "metadata": {
    "deletable": false,
    "editable": false,
    "nbgrader": {
     "cell_type": "markdown",
     "checksum": "d157bdab1871da6182293ff1c34533aa",
     "grade": false,
     "grade_id": "cell-e3d96d589e391631",
     "locked": true,
     "schema_version": 3,
     "solution": false,
     "task": false
    }
   },
   "source": [
    "# Read more about this topic\n",
    "\n",
    "While the above \"data\" in this notebook are completely fake, it was inspired by the paper [here](https://www.int-res.com/abstracts/meps/v621/p209-219), which was covered in the press [here](https://www.washingtonpost.com/world/africa/the-warming-climate-is-turning-baby-sea-turtles-one-gender/2019/10/21/d571f3fe-e3a6-11e9-b0a6-3d03721b85ef_story.html)."
   ]
  },
  {
   "cell_type": "markdown",
   "metadata": {
    "deletable": false,
    "editable": false,
    "nbgrader": {
     "cell_type": "markdown",
     "checksum": "2546bb098a5bc0d7701d07bf8632b055",
     "grade": false,
     "grade_id": "cell-2bdb12b4d7152938",
     "locked": true,
     "schema_version": 3,
     "solution": false,
     "task": false
    }
   },
   "source": [
    "# --------"
   ]
  },
  {
   "cell_type": "markdown",
   "metadata": {
    "deletable": false,
    "editable": false,
    "nbgrader": {
     "cell_type": "markdown",
     "checksum": "439b7f8c8d39b57e502ea97b6de43b4e",
     "grade": false,
     "grade_id": "cell-0df247b5362fea0e",
     "locked": true,
     "schema_version": 3,
     "solution": false,
     "task": false
    }
   },
   "source": [
    "## Working with the Iris data set using for loops"
   ]
  },
  {
   "cell_type": "code",
   "execution_count": null,
   "metadata": {
    "deletable": false,
    "editable": false,
    "nbgrader": {
     "cell_type": "code",
     "checksum": "43d72a5469fba9edcb368c2afa0469ab",
     "grade": false,
     "grade_id": "cell-d1a16bc9fe6dc492",
     "locked": true,
     "schema_version": 3,
     "solution": false,
     "task": false
    }
   },
   "outputs": [],
   "source": [
    "iris_dataset = {'sepal length (cm)': [5.1, 4.9, 4.7, 4.6, 5.0, 5.4, 4.6, 5.0, 4.4, 4.9, 5.4, 4.8, 4.8, 4.3, 5.8, 5.7, 5.4, 5.1, 5.7, 5.1, 5.4, 5.1, 4.6, 5.1, 4.8, 5.0, 5.0, 5.2, 5.2, 4.7, 4.8, 5.4, 5.2, 5.5, 4.9, 5.0, 5.5, 4.9, 4.4, 5.1, 5.0, 4.5, 4.4, 5.0, 5.1, 4.8, 5.1, 4.6, 5.3, 5.0, 7.0, 6.4, 6.9, 5.5, 6.5, 5.7, 6.3, 4.9, 6.6, 5.2, 5.0, 5.9, 6.0, 6.1, 5.6, 6.7, 5.6, 5.8, 6.2, 5.6, 5.9, 6.1, 6.3, 6.1, 6.4, 6.6, 6.8, 6.7, 6.0, 5.7, 5.5, 5.5, 5.8, 6.0, 5.4, 6.0, 6.7, 6.3, 5.6, 5.5, 5.5, 6.1, 5.8, 5.0, 5.6, 5.7, 5.7, 6.2, 5.1, 5.7, 6.3, 5.8, 7.1, 6.3, 6.5, 7.6, 4.9, 7.3, 6.7, 7.2, 6.5, 6.4, 6.8, 5.7, 5.8, 6.4, 6.5, 7.7, 7.7, 6.0, 6.9, 5.6, 7.7, 6.3, 6.7, 7.2, 6.2, 6.1, 6.4, 7.2, 7.4, 7.9, 6.4, 6.3, 6.1, 7.7, 6.3, 6.4, 6.0, 6.9, 6.7, 6.9, 5.8, 6.8, 6.7, 6.7, 6.3, 6.5, 6.2, 5.9], 'sepal width (cm)': [3.5, 3.0, 3.2, 3.1, 3.6, 3.9, 3.4, 3.4, 2.9, 3.1, 3.7, 3.4, 3.0, 3.0, 4.0, 4.4, 3.9, 3.5, 3.8, 3.8, 3.4, 3.7, 3.6, 3.3, 3.4, 3.0, 3.4, 3.5, 3.4, 3.2, 3.1, 3.4, 4.1, 4.2, 3.1, 3.2, 3.5, 3.6, 3.0, 3.4, 3.5, 2.3, 3.2, 3.5, 3.8, 3.0, 3.8, 3.2, 3.7, 3.3, 3.2, 3.2, 3.1, 2.3, 2.8, 2.8, 3.3, 2.4, 2.9, 2.7, 2.0, 3.0, 2.2, 2.9, 2.9, 3.1, 3.0, 2.7, 2.2, 2.5, 3.2, 2.8, 2.5, 2.8, 2.9, 3.0, 2.8, 3.0, 2.9, 2.6, 2.4, 2.4, 2.7, 2.7, 3.0, 3.4, 3.1, 2.3, 3.0, 2.5, 2.6, 3.0, 2.6, 2.3, 2.7, 3.0, 2.9, 2.9, 2.5, 2.8, 3.3, 2.7, 3.0, 2.9, 3.0, 3.0, 2.5, 2.9, 2.5, 3.6, 3.2, 2.7, 3.0, 2.5, 2.8, 3.2, 3.0, 3.8, 2.6, 2.2, 3.2, 2.8, 2.8, 2.7, 3.3, 3.2, 2.8, 3.0, 2.8, 3.0, 2.8, 3.8, 2.8, 2.8, 2.6, 3.0, 3.4, 3.1, 3.0, 3.1, 3.1, 3.1, 2.7, 3.2, 3.3, 3.0, 2.5, 3.0, 3.4, 3.0], 'petal length (cm)': [1.4, 1.4, 1.3, 1.5, 1.4, 1.7, 1.4, 1.5, 1.4, 1.5, 1.5, 1.6, 1.4, 1.1, 1.2, 1.5, 1.3, 1.4, 1.7, 1.5, 1.7, 1.5, 1.0, 1.7, 1.9, 1.6, 1.6, 1.5, 1.4, 1.6, 1.6, 1.5, 1.5, 1.4, 1.5, 1.2, 1.3, 1.4, 1.3, 1.5, 1.3, 1.3, 1.3, 1.6, 1.9, 1.4, 1.6, 1.4, 1.5, 1.4, 4.7, 4.5, 4.9, 4.0, 4.6, 4.5, 4.7, 3.3, 4.6, 3.9, 3.5, 4.2, 4.0, 4.7, 3.6, 4.4, 4.5, 4.1, 4.5, 3.9, 4.8, 4.0, 4.9, 4.7, 4.3, 4.4, 4.8, 5.0, 4.5, 3.5, 3.8, 3.7, 3.9, 5.1, 4.5, 4.5, 4.7, 4.4, 4.1, 4.0, 4.4, 4.6, 4.0, 3.3, 4.2, 4.2, 4.2, 4.3, 3.0, 4.1, 6.0, 5.1, 5.9, 5.6, 5.8, 6.6, 4.5, 6.3, 5.8, 6.1, 5.1, 5.3, 5.5, 5.0, 5.1, 5.3, 5.5, 6.7, 6.9, 5.0, 5.7, 4.9, 6.7, 4.9, 5.7, 6.0, 4.8, 4.9, 5.6, 5.8, 6.1, 6.4, 5.6, 5.1, 5.6, 6.1, 5.6, 5.5, 4.8, 5.4, 5.6, 5.1, 5.1, 5.9, 5.7, 5.2, 5.0, 5.2, 5.4, 5.1], 'petal width (cm)': [0.2, 0.2, 0.2, 0.2, 0.2, 0.4, 0.3, 0.2, 0.2, 0.1, 0.2, 0.2, 0.1, 0.1, 0.2, 0.4, 0.4, 0.3, 0.3, 0.3, 0.2, 0.4, 0.2, 0.5, 0.2, 0.2, 0.4, 0.2, 0.2, 0.2, 0.2, 0.4, 0.1, 0.2, 0.2, 0.2, 0.2, 0.1, 0.2, 0.2, 0.3, 0.3, 0.2, 0.6, 0.4, 0.3, 0.2, 0.2, 0.2, 0.2, 1.4, 1.5, 1.5, 1.3, 1.5, 1.3, 1.6, 1.0, 1.3, 1.4, 1.0, 1.5, 1.0, 1.4, 1.3, 1.4, 1.5, 1.0, 1.5, 1.1, 1.8, 1.3, 1.5, 1.2, 1.3, 1.4, 1.4, 1.7, 1.5, 1.0, 1.1, 1.0, 1.2, 1.6, 1.5, 1.6, 1.5, 1.3, 1.3, 1.3, 1.2, 1.4, 1.2, 1.0, 1.3, 1.2, 1.3, 1.3, 1.1, 1.3, 2.5, 1.9, 2.1, 1.8, 2.2, 2.1, 1.7, 1.8, 1.8, 2.5, 2.0, 1.9, 2.1, 2.0, 2.4, 2.3, 1.8, 2.2, 2.3, 1.5, 2.3, 2.0, 2.0, 1.8, 2.1, 1.8, 1.8, 1.8, 2.1, 1.6, 1.9, 2.0, 2.2, 1.5, 1.4, 2.3, 2.4, 1.8, 1.8, 2.1, 2.4, 2.3, 1.9, 2.3, 2.5, 2.3, 1.9, 2.0, 2.3, 1.8], 'species': ['setosa', 'setosa', 'setosa', 'setosa', 'setosa', 'setosa', 'setosa', 'setosa', 'setosa', 'setosa', 'setosa', 'setosa', 'setosa', 'setosa', 'setosa', 'setosa', 'setosa', 'setosa', 'setosa', 'setosa', 'setosa', 'setosa', 'setosa', 'setosa', 'setosa', 'setosa', 'setosa', 'setosa', 'setosa', 'setosa', 'setosa', 'setosa', 'setosa', 'setosa', 'setosa', 'setosa', 'setosa', 'setosa', 'setosa', 'setosa', 'setosa', 'setosa', 'setosa', 'setosa', 'setosa', 'setosa', 'setosa', 'setosa', 'setosa', 'setosa', 'versicolor', 'versicolor', 'versicolor', 'versicolor', 'versicolor', 'versicolor', 'versicolor', 'versicolor', 'versicolor', 'versicolor', 'versicolor', 'versicolor', 'versicolor', 'versicolor', 'versicolor', 'versicolor', 'versicolor', 'versicolor', 'versicolor', 'versicolor', 'versicolor', 'versicolor', 'versicolor', 'versicolor', 'versicolor', 'versicolor', 'versicolor', 'versicolor', 'versicolor', 'versicolor', 'versicolor', 'versicolor', 'versicolor', 'versicolor', 'versicolor', 'versicolor', 'versicolor', 'versicolor', 'versicolor', 'versicolor', 'versicolor', 'versicolor', 'versicolor', 'versicolor', 'versicolor', 'versicolor', 'versicolor', 'versicolor', 'versicolor', 'versicolor', 'virginica', 'virginica', 'virginica', 'virginica', 'virginica', 'virginica', 'virginica', 'virginica', 'virginica', 'virginica', 'virginica', 'virginica', 'virginica', 'virginica', 'virginica', 'virginica', 'virginica', 'virginica', 'virginica', 'virginica', 'virginica', 'virginica', 'virginica', 'virginica', 'virginica', 'virginica', 'virginica', 'virginica', 'virginica', 'virginica', 'virginica', 'virginica', 'virginica', 'virginica', 'virginica', 'virginica', 'virginica', 'virginica', 'virginica', 'virginica', 'virginica', 'virginica', 'virginica', 'virginica', 'virginica', 'virginica', 'virginica', 'virginica', 'virginica', 'virginica']}"
   ]
  },
  {
   "cell_type": "markdown",
   "metadata": {
    "deletable": false,
    "editable": false,
    "nbgrader": {
     "cell_type": "markdown",
     "checksum": "4a675615ebbac6afb85be24b6dedd67f",
     "grade": false,
     "grade_id": "cell-2adbd9fd2346cd92",
     "locked": true,
     "schema_version": 3,
     "solution": false,
     "task": false
    }
   },
   "source": [
    "## Q9 Compute the average value for each measurement for each species.\n",
    "\n",
    "Put the results in a dict `average_by_species` with the following structure:\n",
    "\n",
    "```\n",
    "{'setosa': {'sepal length (cm)': 5.005999999999999,\n",
    "            'sepal width (cm)': 3.428000000000001},\n",
    " 'versicolor': {'sepal length (cm)': 5.936}}\n",
    "```\n",
    "\n",
    "In total, there should be 3 keys at the top level (the species names) with each value a new dictionary. Each of these per-species dictionaries will have 4 keys - the measurement names. Finally, the value of the per-species dictionaries will be the average value of that measurement.\n",
    "\n",
    "The example dictionary above is correct but incomplete. There are many keys, and their values, that are missing.\n",
    "\n",
    "Hint: use the code from the lecture. This will require substantially more code than the previous answers."
   ]
  },
  {
   "cell_type": "code",
   "execution_count": null,
   "metadata": {
    "deletable": false,
    "nbgrader": {
     "cell_type": "code",
     "checksum": "733fa3174da4d5362699a1e55d876390",
     "grade": false,
     "grade_id": "cell-069495da826776c8",
     "locked": false,
     "schema_version": 3,
     "solution": true,
     "task": false
    }
   },
   "outputs": [],
   "source": [
    "# YOUR CODE HERE\n",
    "raise NotImplementedError()"
   ]
  },
  {
   "cell_type": "code",
   "execution_count": null,
   "metadata": {
    "deletable": false,
    "editable": false,
    "nbgrader": {
     "cell_type": "code",
     "checksum": "d1f8ec09179bff39584bbcb2c365757d",
     "grade": true,
     "grade_id": "cell-250ddb58d79f7e87",
     "locked": true,
     "points": 1,
     "schema_version": 3,
     "solution": false,
     "task": false
    }
   },
   "outputs": [],
   "source": [
    "# If this runs without error, it means the answer in your previous cell was correct.\n",
    "assert ads_hash(average_by_species)=='43d8bb5142'"
   ]
  },
  {
   "cell_type": "markdown",
   "metadata": {
    "deletable": false,
    "editable": false,
    "nbgrader": {
     "cell_type": "markdown",
     "checksum": "8f44092acccc56e0a2e27fed5322bb23",
     "grade": false,
     "grade_id": "cell-293ccdf5e42bf800",
     "locked": true,
     "schema_version": 3,
     "solution": false,
     "task": false
    },
    "tags": []
   },
   "source": [
    "## Reading files\n",
    "\n",
    "Step 1: Download file from https://archive.ics.uci.edu/ml/datasets/Wine+Quality . Go to the \"Data Folder\" and download `winequality-red.csv`. Place it in the folder alongside this notebook.\n",
    "\n",
    "Let's look at the first lines of this file."
   ]
  },
  {
   "cell_type": "code",
   "execution_count": null,
   "metadata": {},
   "outputs": [],
   "source": [
    "fobj = open('winequality-red.csv')\n",
    "for line_num, line in enumerate(fobj.readlines()):\n",
    "    line = line.strip()\n",
    "    print(f\"line {line_num}: '{line}'\")\n",
    "    if line_num > 3:\n",
    "        break"
   ]
  },
  {
   "cell_type": "markdown",
   "metadata": {
    "deletable": false,
    "editable": false,
    "nbgrader": {
     "cell_type": "markdown",
     "checksum": "07bef2899c4a820ce322b4af4e0d6e64",
     "grade": false,
     "grade_id": "cell-65efe24785650af1",
     "locked": true,
     "schema_version": 3,
     "solution": false,
     "task": false
    },
    "tags": []
   },
   "source": [
    "## Q10 Read the file into a dict called `data`"
   ]
  },
  {
   "cell_type": "code",
   "execution_count": null,
   "metadata": {
    "deletable": false,
    "nbgrader": {
     "cell_type": "code",
     "checksum": "4440c7d3e2dcc5e7b6cfb03c6975c20d",
     "grade": false,
     "grade_id": "cell-bbe508684824a047",
     "locked": false,
     "schema_version": 3,
     "solution": true,
     "task": false
    },
    "tags": []
   },
   "outputs": [],
   "source": [
    "# YOUR CODE HERE\n",
    "raise NotImplementedError()"
   ]
  },
  {
   "cell_type": "code",
   "execution_count": null,
   "metadata": {
    "deletable": false,
    "editable": false,
    "nbgrader": {
     "cell_type": "code",
     "checksum": "a205654f9a79e0ca05b841f9c4c2f341",
     "grade": true,
     "grade_id": "cell-1978372e733238bd",
     "locked": true,
     "points": 0,
     "schema_version": 3,
     "solution": false,
     "task": false
    },
    "tags": []
   },
   "outputs": [],
   "source": [
    "assert len(data.keys()) == 12\n",
    "assert len(data['\"alcohol\"'])==1599\n",
    "acc = 0; [acc := acc+x for x in data['\"quality\"']]\n",
    "assert acc==9012"
   ]
  },
  {
   "cell_type": "markdown",
   "metadata": {
    "deletable": false,
    "editable": false,
    "nbgrader": {
     "cell_type": "markdown",
     "checksum": "21c8b3acef0f4f4276f68d5f5b3d6f4b",
     "grade": false,
     "grade_id": "cell-c76a021eff929a4e",
     "locked": true,
     "schema_version": 3,
     "solution": false,
     "task": false
    },
    "tags": []
   },
   "source": [
    " ## Q11 Plot the \"Density\" (Y axis) versus \"Alcohol\" (X axis).\n",
    " \n",
    " Your plot should look like this:\n",
    " \n",
    "<img src=\"data:image/png;base64,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&#10;\" >"
   ]
  },
  {
   "cell_type": "code",
   "execution_count": null,
   "metadata": {
    "deletable": false,
    "nbgrader": {
     "cell_type": "code",
     "checksum": "734c1d9fe9608c5903b3f922b1e41f1e",
     "grade": true,
     "grade_id": "cell-0dd13f6a5af90429",
     "locked": false,
     "points": 1,
     "schema_version": 3,
     "solution": true,
     "task": false
    },
    "tags": []
   },
   "outputs": [],
   "source": [
    "# YOUR CODE HERE\n",
    "raise NotImplementedError()"
   ]
  }
 ],
 "metadata": {
  "kernelspec": {
   "display_name": "Python 3 (ipykernel)",
   "language": "python",
   "name": "python3"
  },
  "language_info": {
   "codemirror_mode": {
    "name": "ipython",
    "version": 3
   },
   "file_extension": ".py",
   "mimetype": "text/x-python",
   "name": "python",
   "nbconvert_exporter": "python",
   "pygments_lexer": "ipython3",
   "version": "3.10.4"
  }
 },
 "nbformat": 4,
 "nbformat_minor": 4
}
