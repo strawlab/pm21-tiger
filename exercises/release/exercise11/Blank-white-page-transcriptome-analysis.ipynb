{
 "cells": [
  {
   "cell_type": "markdown",
   "id": "1d3267e2-1041-4801-90f8-7b13008d980c",
   "metadata": {},
   "source": [
    "# Transcriptome analysis\n",
    "\n",
    "For this excercise, you have a dataset from a (fake) transcriptomics experiment. In this experiment, a tissue was surgically isolated from the surrounding body and submitted for single-cell sequencing. Typically, there are several cell types within such a tissue. Your job is to find out - using clustering on the RNA transcript count data - how many cell types were in the tissue. Use both *silhouette score* and *agglomerative clustering* to come up with an estimate of how many cell types were in the tissue. Please show your work. The dataset has 200 genes and is titled `RNAseq_data_200genes.csv`.\n",
    "\n",
    "Please show your work here and write a conclusion of your results at the bottom of the page."
   ]
  },
  {
   "cell_type": "code",
   "execution_count": null,
   "id": "91f722f3-dfed-4cf0-898d-a355060b9510",
   "metadata": {},
   "outputs": [],
   "source": []
  }
 ],
 "metadata": {
  "kernelspec": {
   "display_name": "Python 3 (ipykernel)",
   "language": "python",
   "name": "python3"
  },
  "language_info": {
   "codemirror_mode": {
    "name": "ipython",
    "version": 3
   },
   "file_extension": ".py",
   "mimetype": "text/x-python",
   "name": "python",
   "nbconvert_exporter": "python",
   "pygments_lexer": "ipython3",
   "version": "3.10.4"
  }
 },
 "nbformat": 4,
 "nbformat_minor": 5
}
