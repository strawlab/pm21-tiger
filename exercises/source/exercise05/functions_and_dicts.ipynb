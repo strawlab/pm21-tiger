{
 "cells": [
  {
   "cell_type": "code",
   "execution_count": 4,
   "metadata": {
    "nbgrader": {
     "grade": false,
     "grade_id": "cell-494826e8c27cdbcb",
     "locked": true,
     "schema_version": 3,
     "solution": false,
     "task": false
    }
   },
   "outputs": [],
   "source": [
    "# You must run this cell, but you can ignore its contents.\n",
    "import hashlib\n",
    "\n",
    "def ads_hash(ty):\n",
    "    \"\"\"Return a unique string for input\"\"\"\n",
    "    ty_str = str(ty).encode()\n",
    "    m = hashlib.sha256()\n",
    "    m.update(ty_str)\n",
    "    return m.hexdigest()[:10]"
   ]
  },
  {
   "cell_type": "code",
   "execution_count": 5,
   "metadata": {
    "nbgrader": {
     "grade": false,
     "grade_id": "cell-592b21fffec74d63",
     "locked": true,
     "schema_version": 3,
     "solution": false,
     "task": false
    }
   },
   "outputs": [],
   "source": [
    "# You must also run this cell.\n",
    "import matplotlib.pyplot as plt"
   ]
  },
  {
   "cell_type": "markdown",
   "metadata": {
    "nbgrader": {
     "grade": false,
     "grade_id": "cell-c6115c6a8fc2824f",
     "locked": true,
     "schema_version": 3,
     "solution": false,
     "task": false
    }
   },
   "source": [
    "## Practice with functions"
   ]
  },
  {
   "cell_type": "markdown",
   "metadata": {
    "nbgrader": {
     "grade": false,
     "grade_id": "cell-2ce1883510b6a1b4",
     "locked": true,
     "schema_version": 3,
     "solution": false,
     "task": false
    }
   },
   "source": [
    "### Q1 Make a function `compute_seq1(n)` which computes the a sequence of length `n` according to the following pattern:\n",
    "\n",
    "`1, 1, 1, 2, 3, 4, 6, 9, 13, 19, 28, ...`\n",
    "\n",
    "Hint: this is very similar to the Fibonacci sequence, but each element at index `n` is the sum of the elements at index `n-1` and `n-3`. The first three elements are `1`."
   ]
  },
  {
   "cell_type": "code",
   "execution_count": 3,
   "metadata": {
    "nbgrader": {
     "grade": false,
     "grade_id": "cell-5aeb59f4e391239b",
     "locked": false,
     "schema_version": 3,
     "solution": true,
     "task": false
    }
   },
   "outputs": [],
   "source": [
    "def compute_seq1(n):\n",
    "    if n == 0:\n",
    "        return [1]\n",
    "    elif n == 1:\n",
    "        return [1,1]\n",
    "    elif n == 2:\n",
    "        return [1,1,1]\n",
    "    else:\n",
    "        result = compute_seq1(n-1)\n",
    "        a = result[-3]\n",
    "        b = result[-1]\n",
    "        result.append(a+b)\n",
    "        return result"
   ]
  },
  {
   "cell_type": "code",
   "execution_count": 4,
   "metadata": {
    "nbgrader": {
     "grade": true,
     "grade_id": "cell-0c52f8d0b74caa5e",
     "locked": true,
     "points": 1,
     "schema_version": 3,
     "solution": false,
     "task": false
    }
   },
   "outputs": [],
   "source": [
    "# If this runs without error, it means `compute_seq1()` behaves correctly.\n",
    "assert compute_seq1(15)==[1, 1, 1, 2, 3, 4, 6, 9, 13, 19, 28, 41, 60, 88, 129, 189]"
   ]
  },
  {
   "cell_type": "markdown",
   "metadata": {
    "nbgrader": {
     "grade": false,
     "grade_id": "cell-6e6f3ca73e99b3e7",
     "locked": true,
     "schema_version": 3,
     "solution": false,
     "task": false
    }
   },
   "source": [
    "### Q2 Make a function `compute_seq2(n)` which computes the a sequence of length `n` according to the following pattern:\n",
    "\n",
    "`2, 2, 4, 6, 10, 16, 26 ...`\n",
    "\n",
    "Hint: this is a Fibonacci sequence with initial elements 2."
   ]
  },
  {
   "cell_type": "code",
   "execution_count": 5,
   "metadata": {
    "nbgrader": {
     "grade": false,
     "grade_id": "cell-8d48778fdbfb317e",
     "locked": false,
     "schema_version": 3,
     "solution": true,
     "task": false
    }
   },
   "outputs": [],
   "source": [
    "def compute_seq2(n):\n",
    "    if n == 0:\n",
    "        return [2]\n",
    "    elif n == 1:\n",
    "        return [2,2]\n",
    "    else:\n",
    "        result = compute_seq2(n-1)\n",
    "        a = result[-2]\n",
    "        b = result[-1]\n",
    "        result.append(a+b)\n",
    "        return result"
   ]
  },
  {
   "cell_type": "code",
   "execution_count": 6,
   "metadata": {
    "nbgrader": {
     "grade": true,
     "grade_id": "cell-e7e80f9bdb4eeb08",
     "locked": true,
     "points": 1,
     "schema_version": 3,
     "solution": false,
     "task": false
    }
   },
   "outputs": [],
   "source": [
    "# If this runs without error, it means `compute_seq2()` behaves correctly.\n",
    "assert compute_seq2(15)==[2, 2, 4, 6, 10, 16, 26, 42, 68, 110, 178, 288, 466, 754, 1220, 1974]"
   ]
  },
  {
   "cell_type": "markdown",
   "metadata": {
    "nbgrader": {
     "grade": false,
     "grade_id": "cell-03d11f5c31865fa6",
     "locked": true,
     "schema_version": 3,
     "solution": false,
     "task": false
    }
   },
   "source": [
    "## Practice converting types and using loops\n",
    "\n",
    "You are a biologist at Cape Verde to study one of the most important nesting sites for loggerhead sea turtles. You are studying the numbers and sexes of young turtles as they hatch. During the data collection part of your project, you have taken notes by typing \"m\" for male and \"f\" for female."
   ]
  },
  {
   "cell_type": "code",
   "execution_count": 7,
   "metadata": {
    "nbgrader": {
     "grade": false,
     "grade_id": "cell-06a01be28c18339a",
     "locked": true,
     "schema_version": 3,
     "solution": false,
     "task": false
    }
   },
   "outputs": [],
   "source": [
    "# Here are your data.\n",
    "\n",
    "nest1 = \"fffffmmmfmmfffmfmmmfffffffmmffmmfffmmmmffmmffmmmfmmmffmmmmffffmmmfffmffmfmfmfmmffmfmmffmfmmf\"\n",
    "nest2 = \"mmmfmffffmmmfmmfmfmmffmffmfmfmffmffmmmfmfffmfmfffmffmmfmfmfmmffmfmmf\"\n",
    "nest3 = \"ffffffmmmfmmfffmfmmmffmfmmmfffmmfffmffffmffmmmffffffmmmfmmfffmfmmmffmfmm\"\n",
    "nest4 = \"fmfmfmmffmffmfmffffffmfmfmffmffmfmfmmfffffmfmfmmffmffmfmmmfmmmmmmfmfmmm\""
   ]
  },
  {
   "cell_type": "markdown",
   "metadata": {
    "nbgrader": {
     "grade": false,
     "grade_id": "cell-c998e2a3545270ce",
     "locked": true,
     "schema_version": 3,
     "solution": false,
     "task": false
    }
   },
   "source": [
    "A string (`str` in Python) is a *sequence* which can be *iterated*, as in a for loop. You also know the `range` and `list` types, which can also be iterated. When you iterate over an `str`, each item is a signle character `str`:"
   ]
  },
  {
   "cell_type": "code",
   "execution_count": 8,
   "metadata": {
    "nbgrader": {
     "grade": false,
     "grade_id": "cell-7f96e853d095f8fc",
     "locked": true,
     "schema_version": 3,
     "solution": false,
     "task": false
    }
   },
   "outputs": [],
   "source": [
    "count = 0\n",
    "for char in nest1:\n",
    "    assert type(char)==str\n",
    "    count = count + 1"
   ]
  },
  {
   "cell_type": "code",
   "execution_count": 9,
   "metadata": {
    "nbgrader": {
     "grade": false,
     "grade_id": "cell-23e2ec7eac2011ae",
     "locked": true,
     "schema_version": 3,
     "solution": false,
     "task": false
    }
   },
   "outputs": [
    {
     "data": {
      "text/plain": [
       "92"
      ]
     },
     "execution_count": 9,
     "metadata": {},
     "output_type": "execute_result"
    }
   ],
   "source": [
    "count"
   ]
  },
  {
   "cell_type": "markdown",
   "metadata": {
    "nbgrader": {
     "grade": false,
     "grade_id": "cell-e874a549c51ed6e9",
     "locked": true,
     "schema_version": 3,
     "solution": false,
     "task": false
    }
   },
   "source": [
    "## Q3 How many male turtles are in nest1? Count the number of `\"m\"` characters are in the `nest` string. Put the answer in a variable `num_males`."
   ]
  },
  {
   "cell_type": "code",
   "execution_count": 10,
   "metadata": {
    "nbgrader": {
     "grade": false,
     "grade_id": "cell-efbc7c6cbe040063",
     "locked": false,
     "schema_version": 3,
     "solution": true,
     "task": false
    }
   },
   "outputs": [],
   "source": [
    "num_males = 0\n",
    "for char in nest1:\n",
    "    assert type(char)==str\n",
    "    if char=='m':\n",
    "        num_males = num_males + 1\n",
    "    else:\n",
    "        assert char=='f'"
   ]
  },
  {
   "cell_type": "code",
   "execution_count": 11,
   "metadata": {
    "nbgrader": {
     "grade": false,
     "grade_id": "cell-62ab53f78c7a1aa4",
     "locked": true,
     "schema_version": 3,
     "solution": false,
     "task": false
    }
   },
   "outputs": [
    {
     "data": {
      "text/plain": [
       "44"
      ]
     },
     "execution_count": 11,
     "metadata": {},
     "output_type": "execute_result"
    }
   ],
   "source": [
    "num_males"
   ]
  },
  {
   "cell_type": "code",
   "execution_count": 12,
   "metadata": {
    "nbgrader": {
     "grade": true,
     "grade_id": "cell-f6cf427c0e834b6d",
     "locked": true,
     "points": 1,
     "schema_version": 3,
     "solution": false,
     "task": false
    }
   },
   "outputs": [],
   "source": [
    "# If this runs without error, it means the answer in your previous cell was correct.\n",
    "assert ads_hash(num_males)=='71ee45a3c0'"
   ]
  },
  {
   "cell_type": "markdown",
   "metadata": {},
   "source": [
    "## Q4 What fraction of all turtles from nest1 are male? Put the answer in a variable `sex_ratio`."
   ]
  },
  {
   "cell_type": "code",
   "execution_count": 13,
   "metadata": {
    "nbgrader": {
     "grade": false,
     "grade_id": "cell-545e9eaa06507765",
     "locked": false,
     "schema_version": 3,
     "solution": true,
     "task": false
    }
   },
   "outputs": [],
   "source": [
    "sex_ratio=num_males / len(nest1)"
   ]
  },
  {
   "cell_type": "code",
   "execution_count": 14,
   "metadata": {
    "nbgrader": {
     "grade": true,
     "grade_id": "cell-aec1f9ca60c05951",
     "locked": true,
     "points": 1,
     "schema_version": 3,
     "solution": false,
     "task": false
    }
   },
   "outputs": [],
   "source": [
    "# If this runs without error, it means the answer in your previous cell was correct.\n",
    "assert ads_hash(round(sex_ratio*1000))=='200dd69b70'"
   ]
  },
  {
   "cell_type": "markdown",
   "metadata": {
    "nbgrader": {
     "grade": false,
     "grade_id": "cell-9a788ebd56edca64",
     "locked": true,
     "schema_version": 3,
     "solution": false,
     "task": false
    }
   },
   "source": [
    "## Q5 Create an empty dict called `empty_observations` with keys 'nest1', 'nest2', 'nest3', 'nest4'. Each value should be an empty list."
   ]
  },
  {
   "cell_type": "code",
   "execution_count": 15,
   "metadata": {
    "nbgrader": {
     "grade": false,
     "grade_id": "cell-cc33b612e98cae30",
     "locked": false,
     "schema_version": 3,
     "solution": true,
     "task": false
    }
   },
   "outputs": [],
   "source": [
    "empty_observations = {'nest1':[],'nest2':[],'nest3':[],'nest4':[]}"
   ]
  },
  {
   "cell_type": "code",
   "execution_count": 16,
   "metadata": {
    "nbgrader": {
     "grade": true,
     "grade_id": "cell-b24ea76aaa1c504a",
     "locked": true,
     "points": 1,
     "schema_version": 3,
     "solution": false,
     "task": false
    }
   },
   "outputs": [],
   "source": [
    "# If this runs without error, it means the answer in your previous cell was correct.\n",
    "assert ads_hash(tuple([item for item in empty_observations.items()]))=='5c604a4cc5'"
   ]
  },
  {
   "cell_type": "markdown",
   "metadata": {
    "nbgrader": {
     "grade": false,
     "grade_id": "cell-73e0ee5363629b1a",
     "locked": true,
     "schema_version": 3,
     "solution": false,
     "task": false
    }
   },
   "source": [
    "## Q6 Create a dict called `observations` with keys 'nest1', 'nest2', 'nest3', 'nest4'. The values for each key should be as given above in the section just after \"Here are your data.\"\n",
    "\n",
    "The key 'nest1' should have value given above for the `nest1` variable (i.e. `\"fffffmmmfmmfffmfmmmfffffffmmffmmfffmmmmffmmffmmmfmmmffmmmmffffmmmfffmffmfmfmfmmffmfmmffmfmmf\"`)"
   ]
  },
  {
   "cell_type": "code",
   "execution_count": 17,
   "metadata": {
    "nbgrader": {
     "grade": false,
     "grade_id": "cell-40c757b8f13d8839",
     "locked": false,
     "schema_version": 3,
     "solution": true,
     "task": false
    }
   },
   "outputs": [],
   "source": [
    "observations = {'nest1': \"fffffmmmfmmfffmfmmmfffffffmmffmmfffmmmmffmmffmmmfmmmffmmmmffffmmmfffmffmfmfmfmmffmfmmffmfmmf\",\n",
    "'nest2': \"mmmfmffffmmmfmmfmfmmffmffmfmfmffmffmmmfmfffmfmfffmffmmfmfmfmmffmfmmf\",\n",
    "'nest3': \"ffffffmmmfmmfffmfmmmffmfmmmfffmmfffmffffmffmmmffffffmmmfmmfffmfmmmffmfmm\",\n",
    "'nest4': \"fmfmfmmffmffmfmffffffmfmfmffmffmfmfmmfffffmfmfmmffmffmfmmmfmmmmmmfmfmmm\",}"
   ]
  },
  {
   "cell_type": "code",
   "execution_count": 18,
   "metadata": {
    "nbgrader": {
     "grade": true,
     "grade_id": "cell-41699e4baeb4f512",
     "locked": true,
     "points": 1,
     "schema_version": 3,
     "solution": false,
     "task": false
    }
   },
   "outputs": [],
   "source": [
    "# If this runs without error, it means the answer in your previous cell was correct.\n",
    "assert ads_hash(tuple([item for item in observations.items()]))=='19ea06edbc'"
   ]
  },
  {
   "cell_type": "markdown",
   "metadata": {
    "nbgrader": {
     "grade": false,
     "grade_id": "cell-d2bdc242834633ea",
     "locked": true,
     "schema_version": 3,
     "solution": false,
     "task": false
    }
   },
   "source": [
    "## Iterating through a `dict`\n",
    "\n",
    "Consider the following:"
   ]
  },
  {
   "cell_type": "code",
   "execution_count": 19,
   "metadata": {
    "nbgrader": {
     "grade": false,
     "grade_id": "cell-57062ecaa6dd4e24",
     "locked": true,
     "schema_version": 3,
     "solution": false,
     "task": false
    }
   },
   "outputs": [],
   "source": [
    "data = {'a': 1, 'b': 2, 'c': 3}"
   ]
  },
  {
   "cell_type": "code",
   "execution_count": 20,
   "metadata": {
    "nbgrader": {
     "grade": false,
     "grade_id": "cell-1a4e6fb36a964a4c",
     "locked": true,
     "schema_version": 3,
     "solution": false,
     "task": false
    }
   },
   "outputs": [
    {
     "name": "stdout",
     "output_type": "stream",
     "text": [
      "key: a, value: 1\n",
      "key: b, value: 2\n",
      "key: c, value: 3\n"
     ]
    }
   ],
   "source": [
    "for key in data:\n",
    "    value = data[key]\n",
    "    print(f\"key: {key}, value: {value}\")"
   ]
  },
  {
   "cell_type": "markdown",
   "metadata": {
    "nbgrader": {
     "grade": false,
     "grade_id": "cell-7a45e8eeafa0152b",
     "locked": true,
     "schema_version": 3,
     "solution": false,
     "task": false
    }
   },
   "source": [
    "We see in the above that we can iterate through this dictionary. Let's create a new dictionary based on the first one:"
   ]
  },
  {
   "cell_type": "code",
   "execution_count": 21,
   "metadata": {
    "nbgrader": {
     "grade": false,
     "grade_id": "cell-154ab8a613fe8638",
     "locked": true,
     "schema_version": 3,
     "solution": false,
     "task": false
    }
   },
   "outputs": [
    {
     "name": "stdout",
     "output_type": "stream",
     "text": [
      "{'a': 1, 'b': 4, 'c': 9}\n"
     ]
    }
   ],
   "source": [
    "squared_data = {}\n",
    "for key in data:\n",
    "    value = data[key]\n",
    "    squared_data[key] = value*value\n",
    "print(squared_data)"
   ]
  },
  {
   "cell_type": "markdown",
   "metadata": {
    "nbgrader": {
     "grade": false,
     "grade_id": "cell-55d5e2b1c6ca9071",
     "locked": true,
     "schema_version": 3,
     "solution": false,
     "task": false
    }
   },
   "source": [
    "## Q7. Putting things together: create a dict called `sex_ratios`.\n",
    "\n",
    "There should be key for every key from the `observations` dictionary and the value for each key should be the sex ratio for each value in the `observations` dictionary."
   ]
  },
  {
   "cell_type": "code",
   "execution_count": 22,
   "metadata": {
    "nbgrader": {
     "grade": false,
     "grade_id": "cell-d890f019a87700d7",
     "locked": false,
     "schema_version": 3,
     "solution": true,
     "task": false
    }
   },
   "outputs": [],
   "source": [
    "def calc_sex_ratio(x):\n",
    "    num_males = 0\n",
    "    for c in x:\n",
    "        if c == 'm':\n",
    "            num_males = num_males + 1\n",
    "        else:\n",
    "            assert c=='f'\n",
    "    return num_males/len(x)\n",
    "\n",
    "sex_ratios = {}\n",
    "for nest in observations:\n",
    "    sex_ratios[nest] = calc_sex_ratio(observations[nest])"
   ]
  },
  {
   "cell_type": "code",
   "execution_count": 23,
   "metadata": {
    "nbgrader": {
     "grade": true,
     "grade_id": "cell-a583495a57a86cfe",
     "locked": true,
     "points": 1,
     "schema_version": 3,
     "solution": false,
     "task": false
    }
   },
   "outputs": [],
   "source": [
    "# If this runs without error, it means the answer in your previous cell was correct.\n",
    "assert ads_hash(tuple([(k,round(v*10000)) for (k,v) in sex_ratios.items()]))=='9d19a5431a'"
   ]
  },
  {
   "cell_type": "markdown",
   "metadata": {
    "nbgrader": {
     "grade": false,
     "grade_id": "cell-839a79cbcdf3f3cf",
     "locked": true,
     "schema_version": 3,
     "solution": false,
     "task": false
    }
   },
   "source": [
    "## Q8. Plotting data\n",
    "\n",
    "Given the following data, make a plot that looks like the following:\n",
    "\n",
    "<img src=\"data:image/png;base64,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\" alt=\"\" />\n",
    "\n",
    "```\n",
    "year= [1950, 1955, 1960, 1965, 1970, 1975, 1980, 1985, 1990, 1995, 2000, 2005, 2010, 2015]\n",
    "sex_ratio = [0.51, 0.502, 0.49, 0.495, 0.503, 0.498, 0.51, 0.502, 0.49, 0.495, 0.503, 0.498, 0.73, 0.80]\n",
    "```"
   ]
  },
  {
   "cell_type": "code",
   "execution_count": 24,
   "metadata": {
    "nbgrader": {
     "grade": true,
     "grade_id": "cell-369c41d4c436ea90",
     "locked": false,
     "points": 1,
     "schema_version": 3,
     "solution": true,
     "task": false
    }
   },
   "outputs": [
    {
     "data": {
      "image/png": "[encoded data removed]",
      "text/plain": [
       "<Figure size 640x480 with 1 Axes>"
      ]
     },
     "metadata": {},
     "output_type": "display_data"
    }
   ],
   "source": [
    "year= [1950, 1955, 1960, 1965, 1970, 1975, 1980, 1985, 1990, 1995, 2000, 2005, 2010, 2015]\n",
    "sex_ratio = [0.51, 0.502, 0.49, 0.495, 0.503, 0.498, 0.51, 0.502, 0.49, 0.495, 0.503, 0.498, 0.73, 0.80]\n",
    "plt.plot(year,sex_ratio,'o-');"
   ]
  },
  {
   "cell_type": "markdown",
   "metadata": {
    "nbgrader": {
     "grade": false,
     "grade_id": "cell-e3d96d589e391631",
     "locked": true,
     "schema_version": 3,
     "solution": false,
     "task": false
    }
   },
   "source": [
    "# Read more about this topic\n",
    "\n",
    "While the above \"data\" in this notebook are completely fake, it was inspired by the paper [here](https://www.int-res.com/abstracts/meps/v621/p209-219), which was covered in the press [here](https://www.washingtonpost.com/world/africa/the-warming-climate-is-turning-baby-sea-turtles-one-gender/2019/10/21/d571f3fe-e3a6-11e9-b0a6-3d03721b85ef_story.html)."
   ]
  },
  {
   "cell_type": "markdown",
   "metadata": {
    "nbgrader": {
     "grade": false,
     "grade_id": "cell-2bdb12b4d7152938",
     "locked": true,
     "schema_version": 3,
     "solution": false,
     "task": false
    }
   },
   "source": [
    "# --------"
   ]
  },
  {
   "cell_type": "markdown",
   "metadata": {
    "nbgrader": {
     "grade": false,
     "grade_id": "cell-0df247b5362fea0e",
     "locked": true,
     "schema_version": 3,
     "solution": false,
     "task": false
    }
   },
   "source": [
    "## Working with the Iris data set using for loops"
   ]
  },
  {
   "cell_type": "code",
   "execution_count": 25,
   "metadata": {
    "nbgrader": {
     "grade": false,
     "grade_id": "cell-d1a16bc9fe6dc492",
     "locked": true,
     "schema_version": 3,
     "solution": false,
     "task": false
    }
   },
   "outputs": [],
   "source": [
    "iris_dataset = {'sepal length (cm)': [5.1, 4.9, 4.7, 4.6, 5.0, 5.4, 4.6, 5.0, 4.4, 4.9, 5.4, 4.8, 4.8, 4.3, 5.8, 5.7, 5.4, 5.1, 5.7, 5.1, 5.4, 5.1, 4.6, 5.1, 4.8, 5.0, 5.0, 5.2, 5.2, 4.7, 4.8, 5.4, 5.2, 5.5, 4.9, 5.0, 5.5, 4.9, 4.4, 5.1, 5.0, 4.5, 4.4, 5.0, 5.1, 4.8, 5.1, 4.6, 5.3, 5.0, 7.0, 6.4, 6.9, 5.5, 6.5, 5.7, 6.3, 4.9, 6.6, 5.2, 5.0, 5.9, 6.0, 6.1, 5.6, 6.7, 5.6, 5.8, 6.2, 5.6, 5.9, 6.1, 6.3, 6.1, 6.4, 6.6, 6.8, 6.7, 6.0, 5.7, 5.5, 5.5, 5.8, 6.0, 5.4, 6.0, 6.7, 6.3, 5.6, 5.5, 5.5, 6.1, 5.8, 5.0, 5.6, 5.7, 5.7, 6.2, 5.1, 5.7, 6.3, 5.8, 7.1, 6.3, 6.5, 7.6, 4.9, 7.3, 6.7, 7.2, 6.5, 6.4, 6.8, 5.7, 5.8, 6.4, 6.5, 7.7, 7.7, 6.0, 6.9, 5.6, 7.7, 6.3, 6.7, 7.2, 6.2, 6.1, 6.4, 7.2, 7.4, 7.9, 6.4, 6.3, 6.1, 7.7, 6.3, 6.4, 6.0, 6.9, 6.7, 6.9, 5.8, 6.8, 6.7, 6.7, 6.3, 6.5, 6.2, 5.9], 'sepal width (cm)': [3.5, 3.0, 3.2, 3.1, 3.6, 3.9, 3.4, 3.4, 2.9, 3.1, 3.7, 3.4, 3.0, 3.0, 4.0, 4.4, 3.9, 3.5, 3.8, 3.8, 3.4, 3.7, 3.6, 3.3, 3.4, 3.0, 3.4, 3.5, 3.4, 3.2, 3.1, 3.4, 4.1, 4.2, 3.1, 3.2, 3.5, 3.6, 3.0, 3.4, 3.5, 2.3, 3.2, 3.5, 3.8, 3.0, 3.8, 3.2, 3.7, 3.3, 3.2, 3.2, 3.1, 2.3, 2.8, 2.8, 3.3, 2.4, 2.9, 2.7, 2.0, 3.0, 2.2, 2.9, 2.9, 3.1, 3.0, 2.7, 2.2, 2.5, 3.2, 2.8, 2.5, 2.8, 2.9, 3.0, 2.8, 3.0, 2.9, 2.6, 2.4, 2.4, 2.7, 2.7, 3.0, 3.4, 3.1, 2.3, 3.0, 2.5, 2.6, 3.0, 2.6, 2.3, 2.7, 3.0, 2.9, 2.9, 2.5, 2.8, 3.3, 2.7, 3.0, 2.9, 3.0, 3.0, 2.5, 2.9, 2.5, 3.6, 3.2, 2.7, 3.0, 2.5, 2.8, 3.2, 3.0, 3.8, 2.6, 2.2, 3.2, 2.8, 2.8, 2.7, 3.3, 3.2, 2.8, 3.0, 2.8, 3.0, 2.8, 3.8, 2.8, 2.8, 2.6, 3.0, 3.4, 3.1, 3.0, 3.1, 3.1, 3.1, 2.7, 3.2, 3.3, 3.0, 2.5, 3.0, 3.4, 3.0], 'petal length (cm)': [1.4, 1.4, 1.3, 1.5, 1.4, 1.7, 1.4, 1.5, 1.4, 1.5, 1.5, 1.6, 1.4, 1.1, 1.2, 1.5, 1.3, 1.4, 1.7, 1.5, 1.7, 1.5, 1.0, 1.7, 1.9, 1.6, 1.6, 1.5, 1.4, 1.6, 1.6, 1.5, 1.5, 1.4, 1.5, 1.2, 1.3, 1.4, 1.3, 1.5, 1.3, 1.3, 1.3, 1.6, 1.9, 1.4, 1.6, 1.4, 1.5, 1.4, 4.7, 4.5, 4.9, 4.0, 4.6, 4.5, 4.7, 3.3, 4.6, 3.9, 3.5, 4.2, 4.0, 4.7, 3.6, 4.4, 4.5, 4.1, 4.5, 3.9, 4.8, 4.0, 4.9, 4.7, 4.3, 4.4, 4.8, 5.0, 4.5, 3.5, 3.8, 3.7, 3.9, 5.1, 4.5, 4.5, 4.7, 4.4, 4.1, 4.0, 4.4, 4.6, 4.0, 3.3, 4.2, 4.2, 4.2, 4.3, 3.0, 4.1, 6.0, 5.1, 5.9, 5.6, 5.8, 6.6, 4.5, 6.3, 5.8, 6.1, 5.1, 5.3, 5.5, 5.0, 5.1, 5.3, 5.5, 6.7, 6.9, 5.0, 5.7, 4.9, 6.7, 4.9, 5.7, 6.0, 4.8, 4.9, 5.6, 5.8, 6.1, 6.4, 5.6, 5.1, 5.6, 6.1, 5.6, 5.5, 4.8, 5.4, 5.6, 5.1, 5.1, 5.9, 5.7, 5.2, 5.0, 5.2, 5.4, 5.1], 'petal width (cm)': [0.2, 0.2, 0.2, 0.2, 0.2, 0.4, 0.3, 0.2, 0.2, 0.1, 0.2, 0.2, 0.1, 0.1, 0.2, 0.4, 0.4, 0.3, 0.3, 0.3, 0.2, 0.4, 0.2, 0.5, 0.2, 0.2, 0.4, 0.2, 0.2, 0.2, 0.2, 0.4, 0.1, 0.2, 0.2, 0.2, 0.2, 0.1, 0.2, 0.2, 0.3, 0.3, 0.2, 0.6, 0.4, 0.3, 0.2, 0.2, 0.2, 0.2, 1.4, 1.5, 1.5, 1.3, 1.5, 1.3, 1.6, 1.0, 1.3, 1.4, 1.0, 1.5, 1.0, 1.4, 1.3, 1.4, 1.5, 1.0, 1.5, 1.1, 1.8, 1.3, 1.5, 1.2, 1.3, 1.4, 1.4, 1.7, 1.5, 1.0, 1.1, 1.0, 1.2, 1.6, 1.5, 1.6, 1.5, 1.3, 1.3, 1.3, 1.2, 1.4, 1.2, 1.0, 1.3, 1.2, 1.3, 1.3, 1.1, 1.3, 2.5, 1.9, 2.1, 1.8, 2.2, 2.1, 1.7, 1.8, 1.8, 2.5, 2.0, 1.9, 2.1, 2.0, 2.4, 2.3, 1.8, 2.2, 2.3, 1.5, 2.3, 2.0, 2.0, 1.8, 2.1, 1.8, 1.8, 1.8, 2.1, 1.6, 1.9, 2.0, 2.2, 1.5, 1.4, 2.3, 2.4, 1.8, 1.8, 2.1, 2.4, 2.3, 1.9, 2.3, 2.5, 2.3, 1.9, 2.0, 2.3, 1.8], 'species': ['setosa', 'setosa', 'setosa', 'setosa', 'setosa', 'setosa', 'setosa', 'setosa', 'setosa', 'setosa', 'setosa', 'setosa', 'setosa', 'setosa', 'setosa', 'setosa', 'setosa', 'setosa', 'setosa', 'setosa', 'setosa', 'setosa', 'setosa', 'setosa', 'setosa', 'setosa', 'setosa', 'setosa', 'setosa', 'setosa', 'setosa', 'setosa', 'setosa', 'setosa', 'setosa', 'setosa', 'setosa', 'setosa', 'setosa', 'setosa', 'setosa', 'setosa', 'setosa', 'setosa', 'setosa', 'setosa', 'setosa', 'setosa', 'setosa', 'setosa', 'versicolor', 'versicolor', 'versicolor', 'versicolor', 'versicolor', 'versicolor', 'versicolor', 'versicolor', 'versicolor', 'versicolor', 'versicolor', 'versicolor', 'versicolor', 'versicolor', 'versicolor', 'versicolor', 'versicolor', 'versicolor', 'versicolor', 'versicolor', 'versicolor', 'versicolor', 'versicolor', 'versicolor', 'versicolor', 'versicolor', 'versicolor', 'versicolor', 'versicolor', 'versicolor', 'versicolor', 'versicolor', 'versicolor', 'versicolor', 'versicolor', 'versicolor', 'versicolor', 'versicolor', 'versicolor', 'versicolor', 'versicolor', 'versicolor', 'versicolor', 'versicolor', 'versicolor', 'versicolor', 'versicolor', 'versicolor', 'versicolor', 'versicolor', 'virginica', 'virginica', 'virginica', 'virginica', 'virginica', 'virginica', 'virginica', 'virginica', 'virginica', 'virginica', 'virginica', 'virginica', 'virginica', 'virginica', 'virginica', 'virginica', 'virginica', 'virginica', 'virginica', 'virginica', 'virginica', 'virginica', 'virginica', 'virginica', 'virginica', 'virginica', 'virginica', 'virginica', 'virginica', 'virginica', 'virginica', 'virginica', 'virginica', 'virginica', 'virginica', 'virginica', 'virginica', 'virginica', 'virginica', 'virginica', 'virginica', 'virginica', 'virginica', 'virginica', 'virginica', 'virginica', 'virginica', 'virginica', 'virginica', 'virginica']}"
   ]
  },
  {
   "cell_type": "markdown",
   "metadata": {
    "nbgrader": {
     "grade": false,
     "grade_id": "cell-2adbd9fd2346cd92",
     "locked": true,
     "schema_version": 3,
     "solution": false,
     "task": false
    }
   },
   "source": [
    "## Q9 Compute the average value for each measurement for each species.\n",
    "\n",
    "Put the results in a dict `average_by_species` with the following structure:\n",
    "\n",
    "```\n",
    "{'setosa': {'sepal length (cm)': 5.005999999999999,\n",
    "            'sepal width (cm)': 3.428000000000001},\n",
    " 'versicolor': {'sepal length (cm)': 5.936}}\n",
    "```\n",
    "\n",
    "In total, there should be 3 keys at the top level (the species names) with each value a new dictionary. Each of these per-species dictionaries will have 4 keys - the measurement names. Finally, the value of the per-species dictionaries will be the average value of that measurement.\n",
    "\n",
    "The example dictionary above is correct but incomplete. There are many keys, and their values, that are missing.\n",
    "\n",
    "Hint: use the code from the lecture. This will require substantially more code than the previous answers."
   ]
  },
  {
   "cell_type": "code",
   "execution_count": 26,
   "metadata": {
    "nbgrader": {
     "grade": false,
     "grade_id": "cell-069495da826776c8",
     "locked": false,
     "schema_version": 3,
     "solution": true,
     "task": false
    }
   },
   "outputs": [
    {
     "data": {
      "text/plain": [
       "{'setosa': {'sepal length (cm)': 5.005999999999999,\n",
       "  'sepal width (cm)': 3.428000000000001,\n",
       "  'petal length (cm)': 1.4620000000000002,\n",
       "  'petal width (cm)': 0.2459999999999999},\n",
       " 'versicolor': {'sepal length (cm)': 5.936,\n",
       "  'sepal width (cm)': 2.7700000000000005,\n",
       "  'petal length (cm)': 4.26,\n",
       "  'petal width (cm)': 1.3259999999999998},\n",
       " 'virginica': {'sepal length (cm)': 6.587999999999998,\n",
       "  'sepal width (cm)': 2.9739999999999998,\n",
       "  'petal length (cm)': 5.552,\n",
       "  'petal width (cm)': 2.026}}"
      ]
     },
     "execution_count": 26,
     "metadata": {},
     "output_type": "execute_result"
    }
   ],
   "source": [
    "def compute_average(my_list):\n",
    "    sum = 0.0\n",
    "    for item in my_list:\n",
    "        sum = sum + item\n",
    "    average = sum / len(my_list)\n",
    "    return average\n",
    "\n",
    "rows_for_species = {'setosa':[], 'versicolor':[], 'virginica':[]}\n",
    "for species_name in rows_for_species:\n",
    "    row_index = 0\n",
    "    for row_species in iris_dataset['species']:\n",
    "        if row_species == species_name:\n",
    "            rows_for_species[species_name].append(row_index)\n",
    "        row_index = row_index + 1\n",
    "\n",
    "average_by_species = {}\n",
    "for species_name in rows_for_species:\n",
    "    species_indexes = rows_for_species[species_name]\n",
    "    average_by_species[species_name] = {}\n",
    "    for column_name in iris_dataset:\n",
    "        if column_name=='species':\n",
    "            continue\n",
    "        all_rows_for_this_column = iris_dataset[column_name]\n",
    "        species_values = []\n",
    "        for species_index in species_indexes:\n",
    "            row_value = all_rows_for_this_column[species_index]\n",
    "            species_values.append(row_value)\n",
    "        species_average = compute_average(species_values)\n",
    "#         print(f\"{species_name} average {column_name}: {species_average}\")\n",
    "        average_by_species[species_name][column_name] = species_average\n",
    "        \n",
    "average_by_species"
   ]
  },
  {
   "cell_type": "code",
   "execution_count": 27,
   "metadata": {
    "nbgrader": {
     "grade": true,
     "grade_id": "cell-250ddb58d79f7e87",
     "locked": true,
     "points": 1,
     "schema_version": 3,
     "solution": false,
     "task": false
    }
   },
   "outputs": [],
   "source": [
    "# If this runs without error, it means the answer in your previous cell was correct.\n",
    "assert ads_hash(average_by_species)=='43d8bb5142'"
   ]
  },
  {
   "cell_type": "markdown",
   "metadata": {
    "nbgrader": {
     "grade": false,
     "grade_id": "cell-293ccdf5e42bf800",
     "locked": true,
     "schema_version": 3,
     "solution": false,
     "task": false
    },
    "tags": []
   },
   "source": [
    "## Reading files\n",
    "\n",
    "Step 1: Download file from https://archive.ics.uci.edu/ml/datasets/Wine+Quality . Go to the \"Data Folder\" and download `winequality-red.csv`. Place it in the folder alongside this notebook.\n",
    "\n",
    "Let's look at the first lines of this file."
   ]
  },
  {
   "cell_type": "code",
   "execution_count": 31,
   "metadata": {},
   "outputs": [
    {
     "name": "stdout",
     "output_type": "stream",
     "text": [
      "line 0: '\"fixed acidity\";\"volatile acidity\";\"citric acid\";\"residual sugar\";\"chlorides\";\"free sulfur dioxide\";\"total sulfur dioxide\";\"density\";\"pH\";\"sulphates\";\"alcohol\";\"quality\"'\n",
      "line 1: '7.4;0.7;0;1.9;0.076;11;34;0.9978;3.51;0.56;9.4;5'\n",
      "line 2: '7.8;0.88;0;2.6;0.098;25;67;0.9968;3.2;0.68;9.8;5'\n",
      "line 3: '7.8;0.76;0.04;2.3;0.092;15;54;0.997;3.26;0.65;9.8;5'\n",
      "line 4: '11.2;0.28;0.56;1.9;0.075;17;60;0.998;3.16;0.58;9.8;6'\n"
     ]
    }
   ],
   "source": [
    "fobj = open('winequality-red.csv')\n",
    "for line_num, line in enumerate(fobj.readlines()):\n",
    "    line = line.strip()\n",
    "    print(f\"line {line_num}: '{line}'\")\n",
    "    if line_num > 3:\n",
    "        break"
   ]
  },
  {
   "cell_type": "markdown",
   "metadata": {
    "nbgrader": {
     "grade": false,
     "grade_id": "cell-65efe24785650af1",
     "locked": true,
     "schema_version": 3,
     "solution": false,
     "task": false
    },
    "tags": []
   },
   "source": [
    "## Q10 Read the file into a dict called `data`"
   ]
  },
  {
   "cell_type": "code",
   "execution_count": 1,
   "metadata": {
    "nbgrader": {
     "grade": false,
     "grade_id": "cell-bbe508684824a047",
     "locked": false,
     "schema_version": 3,
     "solution": true,
     "task": false
    },
    "tags": []
   },
   "outputs": [
    {
     "data": {
      "text/plain": [
       "dict_keys(['\"fixed acidity\"', '\"volatile acidity\"', '\"citric acid\"', '\"residual sugar\"', '\"chlorides\"', '\"free sulfur dioxide\"', '\"total sulfur dioxide\"', '\"density\"', '\"pH\"', '\"sulphates\"', '\"alcohol\"', '\"quality\"'])"
      ]
     },
     "execution_count": 1,
     "metadata": {},
     "output_type": "execute_result"
    }
   ],
   "source": [
    "fobj = open('winequality-red.csv')\n",
    "data = {}\n",
    "for line_num, line in enumerate(fobj.readlines()):\n",
    "    line = line.strip()\n",
    "    #print(f\"line {line_num}: '{line}'\")\n",
    "    entries = line.split(';')\n",
    "    if line_num == 0:\n",
    "        column_names = entries\n",
    "        for column_name in column_names:\n",
    "            data[column_name] = []\n",
    "        continue\n",
    "    for (colname, entry) in zip(column_names, entries):\n",
    "        data[colname].append(float(entry))\n",
    "data.keys()"
   ]
  },
  {
   "cell_type": "code",
   "execution_count": 2,
   "metadata": {
    "nbgrader": {
     "grade": true,
     "grade_id": "cell-1978372e733238bd",
     "locked": true,
     "points": 0,
     "schema_version": 3,
     "solution": false,
     "task": false
    },
    "tags": []
   },
   "outputs": [],
   "source": [
    "assert len(data.keys()) == 12\n",
    "assert len(data['\"alcohol\"'])==1599\n",
    "acc = 0; [acc := acc+x for x in data['\"quality\"']]\n",
    "assert acc==9012"
   ]
  },
  {
   "cell_type": "markdown",
   "metadata": {
    "nbgrader": {
     "grade": false,
     "grade_id": "cell-c76a021eff929a4e",
     "locked": true,
     "schema_version": 3,
     "solution": false,
     "task": false
    },
    "tags": []
   },
   "source": [
    " ## Q11 Plot the \"Density\" (Y axis) versus \"Alcohol\" (X axis).\n",
    " \n",
    " Your plot should look like this:\n",
    " \n",
    "<img src=\"data:image/png;base64,iVBORw0KGgoAAAANSUhEUgAAAjoAAAGwCAYAAACgi8/jAAAAOXRFWHRTb2Z0d2FyZQBNYXRwbG90bGliIHZlcnNpb24zLjUuMSwgaHR0cHM6Ly9tYXRwbG90bGliLm9yZy/YYfK9AAAACXBIWXMAAA9hAAAPYQGoP6dpAACBbElEQVR4nO3de3wU9b0//tdsyBXIjSTkYkJCxARJBCJQuYgBPEJQKxKt9qJ4rVV71NqWS+053/7OsQJtbWsv2lPqrV4qRcALFS8NIAIKBCSAAiIkJEJCiCwbSEICZH5/hFl2Z2dmZ3Znd2d3X8/Hg0ebzezM5/OZye7H3dfnPYIoiiKIiIiIIpAt1A0gIiIiChROdIiIiChicaJDREREEYsTHSIiIopYnOgQERFRxOJEh4iIiCIWJzpEREQUsfqFugGB1tvbiyNHjmDgwIEQBCHUzSEiIiIdRFHEyZMnkZubC5vN989lIn6ic+TIEeTn54e6GUREROSDpqYmXHTRRT4/P+InOgMHDgTQN1DJyckhbg0RERHp0d7ejvz8fOf7uK8ifqIjfV2VnJzMiQ4REVGY8Td2wjAyERERRSxOdIiIiChicaJDREREEYsTHSIiIopYnOgQERFRxArpRGf9+vW4/vrrkZubC0EQ8MYbb7j9/o477oAgCG7/rrjiitA0loiIiMJOSCc6HR0dGDlyJP70pz+pbjNjxgw0Nzc7/73zzjtBbCERERGFs5DW0amqqkJVVZXmNvHx8cjOzg5Si4iIiCiSWD6js27dOmRlZeGSSy7Bvffei9bWVs3tu7u70d7e7vaPiIiIopOlJzpVVVV45ZVXsGbNGjz55JPYunUrpk6diu7ubtXnLFy4ECkpKc5/vM8VERFR9BJEURRD3Qigr8TzypUrMWvWLNVtmpubMWTIELz22muYPXu24jbd3d1uEyHpXhkOh4O3gCAiIgoT7e3tSElJ8fv9O6zudZWTk4MhQ4Zg//79qtvEx8cjPj4+iK0iokjV7OhCfVsHijL6IyclMdTNISIfhNVE5+uvv0ZTUxNycnJC3RQiinBLtzZiwYpd6BUBmwAsnF2OW8YWhLpZRGRQSDM6p06dwo4dO7Bjxw4AQH19PXbs2IHGxkacOnUKP/nJT/Dxxx+joaEB69atw/XXX4+MjAzceOONoWw2EUW4ZkeXc5IDAL0i8LMVu9Hs6Aptw4jIsJB+olNbW4spU6Y4f3700UcBAHPmzMEzzzyDXbt24e9//ztOnDiBnJwcTJkyBUuXLsXAgQND1WQiigL1bR3OSY7knCiioa2TX2ERhZmQTnQqKyuhlYV+7733gtgaIqI+RRn9YRPgNtmJEQQUZiSFrlFE5BNLLy8nIgqFnJRELJxdjhhBANA3yXlidhk/zSEKQ2EVRiYiCpZbxhZg8iWZaGjrRGFGEic5RGGKEx0iIhU5KYmc4BCFOX51RURERBGLEx0iIiKKWJzoEBERUcTiRIeIiIgiFic6REREFLE40SEiIqKIxYkOERERRSxOdIiIiChicaJDREREEYsTHSIiIopYnOgQERFRxOJEh4iIiCIWJzpEREQUsTjRISIioojFiQ4RERFFLE50iIiIKGJxokNEREQRixMdIiIiilic6BAREVHE4kSHiIiIIhYnOkRERBSxONEhIiKiiMWJDhEREUUsTnSIiIgoYnGiQ0RERBGLEx0iIiKKWJzoEBERUcTiRIeIiIgiFic6REREFLE40SEiIqKIxYkOERERRSxOdIiIiChicaJDREREEYsTHSIiIopYnOgQERFRxOJEh4iIiCIWJzpEREQUsTjRISIioogV0onO+vXrcf311yM3NxeCIOCNN95Q3fa+++6DIAj4/e9/H7T2hVqzowtv1x3Gqp1H0OzoCsj+Nx1oQ82eFiz56ADqmuxujwfimGQMzwURkX/6hfLgHR0dGDlyJO68805UV1erbvfGG29g8+bNyM3NDWLrQmvp1kbMX74L4vmfBQCLqstxy9gC0/a/YMUu9Iruj1cUpGJH0wn0ioBNABbONu+YZIzrOeK5ICLyTUg/0amqqsLjjz+O2bNnq25z+PBh/PCHP8Qrr7yC2NhYr/vs7u5Ge3u7279w0+zocpvkAIAIYMGKXab8l32zo0txkgMA2xtPOB/vFYGfrdjNTxNCQH6OeC6IiHxj6YxOb28vbrvtNvz0pz/FiBEjdD1n4cKFSElJcf7Lz88PcCvNV9/WAYU5CHpFoKGt05T9K01ylJwTRVOOScYonSOeCyIi4yw90Vm8eDH69euHhx56SPdzFixYAIfD4fzX1NQUwBYGRlFGfwgKj9sEoDAjyZT925QOoCBGEEw5JhmjdI54LoiIjLPsRGfbtm146qmn8MILL0AQdL4rA4iPj0dycrLbv3CTk5KIRdXlbpMd4XxGIycl0ZT9L5xdjhiFca0oSHU+HiMIeGJ2mSnHJGPk54jngojIN4Ioijq/xAgsQRCwcuVKzJo1CwDw+9//Ho8++ihstgtzsXPnzsFmsyE/Px8NDQ269tve3o6UlBQ4HI6wm/Q0O7qwrcEOQQAqhqSZ/ibX7OhCQ1snOnvOoKGtE2MK0zAyP835eGFGEt9YQ4zngoiilVnv3yFddaXltttuw9VXX+322PTp03HbbbfhzjvvDFGrgisnJRHXjQzcm1tOSqLim6fa4xR8PBdERP4J6UTn1KlT+PLLL50/19fXY8eOHUhPT0dBQQEGDRrktn1sbCyys7NRUlIS7KYSERFRGArpRKe2thZTpkxx/vzoo48CAObMmYMXXnghRK0iIiKiSBHSiU5lZSWMRIT05nKIiIiIAAuvuiIiIiLyFyc6REREFLE40SEiIqKIxYkOERERRSxOdIiIiChicaJDREREEYsTHSIiIopYnOgQERFRxOJEh4iIiCIWJzpEREQUsTjRMVGzowubDrSh2dEV6qbopqfN4dgvuUjoAxERGRfSe11FkqVbG7FgxS70ioBNABbOLsctYwtC3SxNetocjv2Si4Q+EBGRb/iJjgmaHV3ON1IA6BWBn63YbelPD/S0ORz7JRcJfSAiIt9xomOC+rYO5xup5JwooqGtMzQN0kFPm8OxX3KR0AciIvIdJzomKMroD5vg/liMIKAwIyk0DdJBT5v7x8UoPjcpLnwum3A8N0REZJ7weceysJyURCycXY4Yoe8dNUYQ8MTsMuSkJIa4ZdrunlTknAQotbmj55zi8zp7eoPRPFOE67khIiJzMIxsklvGFmDyJZloaOtEYUaSpd9IXcO5AoDvTy7CnROLPNosfRri+tVPOH4aEk7nhoiIzMVPdEyUk5KI8cWDLP1GKg/nigCe/ahBcdtI+jQkHM4NERGZj5/oRBmtcK7SJICfhhARUTjjRCfK+PJ1VE5KIic4REQUlvjVVZSJpK+j6AJWfu4TbeMQbf0l8gU/0YlC/DoqsrDyc59oG4do6y+Rr/iJTpRiODcysPJzn2gbh2jrL5E/ONEhCmOs/Nwn2sYh2vpL5A9OdIjCGCs/94m2cYi2/hL5gxMdojDGcHmfaBuHaOsvkT8EURRF75uFr/b2dqSkpMDhcCA5OTnUzSGZZkcX6ts6UJTRny/Sfmh2dCmGy6NtfNXGIVLVNdmxtcGOsYVpGJmfFurmEJnKrPdvrrqikOGqEfMo1TqKxvGNpppP0Xh+iXzBr64oJLhqJLA4vpGN55dIP050KCS4aiSwOL6RjeeXSD9OdCgkuGoksDi+kY3nl0g/TnQoJLhqJLACMb683YB18O+HSD+uuqKQirZVMsFm1vgy+GpN/PuhSGbW+zcnOkSkqdnRhYmL1njc8X7D/Cl8cyWigDHr/ZtfXRGRJgZfiSiccaJDRJoYfCWicMaJDgWFlYKsVmpLOGDwlYjCGSsjU8BZKchqpbaEk1vGFmDyJZkMvhJR2OEnOhRQVqrgaqW2hKOclESMLx7ESQ4RhRVOdCigrBRktVJbiIgoODjRoYCyUpDVSm0hIqLgCOlEZ/369bj++uuRm5sLQRDwxhtvuP3+F7/4BUpLS9G/f3+kpaXh6quvxubNm0PTWPKJPMhqE4C7JhX6tC9/Q8RGQ7V1TXYs+egA6prsPh2PiIwL18UC4druaBDSgoGrV6/Gxo0bUVFRgerqaqxcuRKzZs1y/v7VV19FVlYWhg4diq6uLvzud7/DsmXL8OWXXyIzM1PXMVgw0BqaHV14fmM9lqyvhwjjQWAzQ8R6qsn++J87sHz7YefP1RV5ePJbo3w6HhHpE66LBcK13VYXcZWRBUHwmOjISZ3+97//jWnTpilu093dje7ubrfn5Ofnc6ITYv5U1w12Zd66Jjtu+PMmj8fffHACRuanmX48IgrfCtzh2u5wEHWVkXt6evDXv/4VKSkpGDlypOp2CxcuREpKivNffn5+EFtJavwJAgc7RLyl4bji47UN/AqLKFDCdbFAuLY7mlh+orNq1SoMGDAACQkJ+N3vfocPPvgAGRkZqtsvWLAADofD+a+pqSmIrSU1/gSBgx0iHleYrvj4mEJ+mkMUKOG6WCBc2x1NLD/RmTJlCnbs2IFNmzZhxowZ+Na3voXW1lbV7ePj45GcnOz2j7wLdJBOCgJLrwcC4AwCNzu6sGrnEbxddxh1TXaPdvhSmddof1y3H5mfhuqKPLffV1fkGf7aiuFEIv3CtQJ3uLY7moRVRgcAhg0bhrvuugsLFizQtV+Gkb0LVpBOKeA7rigd85fvgvwiVGqHnhAxYLw/atvXNdlR22DHmMI0w5MchhOJfKP379xqwrXdVmbW+3fY3QJCFEW3sDH5R61a8ORLMk39Y61rsrtNcgBg+fbDHo9JlNqRk5KoK7hspD9a24/MNz7B8aUNRHSBnr9zKwrXdkeDkH51derUKezYsQM7duwAANTX12PHjh1obGxER0cHfvazn+GTTz7BoUOHsH37dtxzzz346quvcPPNN4ey2RElWEE6tYCvFl/aYbQ/geg/w4lERNYR0k90amtrMWXKFOfPjz76KABgzpw5+Mtf/oK9e/fixRdfRFtbGwYNGoSxY8fio48+wogRI0LV5IgjBenkSyPNDtKpBXy1+NIOo/0JRP+DNaZERORdSD/RqayshCiKHv9eeOEFJCQkYMWKFTh8+DC6u7tx5MgRvPnmmxg7dmwomxxxzArSeQveqgV8F1eXQxA8t3dth2uFYm/HMdofaXtp1YRNgNv2zY4uvPRxA558f6+hCsn3TCpy/nH5G04MRqhZfgy1Y0ZKwDpS+kFE3oVdRofMd8vYAky+JNPnIJ0/wVvp2NsP2SGKQH56Ijp7ep3tkAeYJVrHMdqfLfXH3fI0W+qP45axBVi6tRHzlu9ybvfHNQe8VkiWj8X3Jw3FnZMKfZ7kBCPULD/GjaPzsPLTwx7HjJSAdaT0g4j0scyqq0DhqqvA0lsV1Jdqw2rP0TqOUWrHeHbO5bjn79ug9Neh1mazK6QGo+Kq0jHkYgQBKx4Yjxuf3hT21V9ZxZYofERdZWSyJr3BW1+qDXsLMJsR8FU7xrq9xxQnOYB6m80OIQcj1Kx0DLlzooitDfaICFgzKE4UfTjRIb/orQrqS7VhbwFmMwK+aseoLM1UzA4B6m02u0JqMCquKh1DLkYQMLYwLSKqv7KKLVH04USH/KI3/OtLtWGl50jvUWZVH1Vr17Th2VjkUslZT5vNrpAajIqrSseorsjzOObI/LSIqP7KKrZE0YcZHT/UNdmxpeE4xhWmR/1drfVWBfWl2rDrc7KSE3Qdp9nRhfq2DhRl9Nf1JqbWrmZHF2r2HMWx9m5MHZ6lq83Nji5sP2RHryhizPlPjIy0RWl/3vpstL/ejlHXZMfWBjvGKoxHJFR/jZR+UPjh+4Z+Zr1/c6LjI6XbGWitxqHgCfWqGtfjS58IiQjeqil/jxHq8SOKVHzfMIZh5BBSu52BkTorFBhqt18IVr0U+fHF8/8C1Raz+xvq8SOKVHzfCB1OdHzgywoiCo5Qr6rxtoopGKumrL7Siyga8X0jdDjR8YEvK4goOEK9qsbbKqZgrJqy+kovomjE943Q4UTHB76sIKLg0FpVo7fsv9Z2Rm9BIQDOZepmrfBxbYPRVURm30Ij0vFWEWQWvm+EDsPIfvBlBREFh3xVjd6ArdZ2RkK6rscHYNoKH7U26FlF5Gv7o3WSw1A2BQLfN/TjqiudeAsI0lv2X2s7ACG/dYA/ty/grQ+M4XgRhR5XXRHppDdgq7WdFUK6/rTBCu0PJxwvosjBu5dTxJMCtvL/OpcHbL1tp2cfgaS3H2Y/NxpxvIgiBz/RIUuoa7JjyUcHdNWUMBoQlQdsbQJw16RCt/2t2nkEr29rwpSSTMXbTEj7kFYk2QT4HdKt2dOCx1buRM2eFsX+1TXZPfp569h8ZxuMBIUD0f5A0HNugxEQ9ieUbeRaJqLA4yc6FHJGqoX6GhC9ZWwBJl+Siec31mPJ+nos+agez26ox42j87Bi+2HIg2qTh2Vg8U2XebyxSYk2f5Nts5/eiO2NJwAAr2xuQkVBKlY8MNGtfxKbAMV2zp1RYjgca1b7A0HPuQ1mQFi6ZoyEsln5lsh6+IkOhZSRaqFmVO3920f1bpWKlytMcgBg/f42tLaf9ji2tK0I3ysG1+xpcU5yJNsbT2BZreckR6udi9/dq/v4ZrY/EPSc21BUbc5JScT44kG6P8lh5Vsi6+FEh0LKSLVQfwOi3qoWa7XBzHDqmr2tio+//9lRQ+3rFeFX360UrtXTPqv3gZVviayJEx0KKSPVQv2t2uutarFWG8ysGDy1NEvx8WtGDDbUPpsAv/pupXCtnvZZvQ+sfEtkTZzoUEgZqRbqa0BUCq8CfZkO6aIXAFSVZTsrF7uqKst2a4NHoBnA3S6BZkB/CHXa8GyU5brXhKgoSMXNYwrcjiGJEQRUV+TB9VHhfD5F6rtrQFcprJuTkoh5M0qdffe34rHZgWA959bqVZtZ+ZbImlgwkCzBSLVQI1V75eFVeahXADB/ZikOfd2BVzc3OZ8nAFhU7Rl0bXZ04fkNDfjbhoNugdgt9cd9ClQDwB3jh+AXN5R59C8pzobOnl5nP5sdXdjWYIcgABVD0px9d92fNBkS4R7WddtGAOZXleK+ycWaY6d3TM0MBOs5t1av2szKt0TmYGVknTjRiV5K1W2VCIBiINkmABvnT/VaPVleb0Xy5oMTPN7ozK64662PMYKAFQ+Mx41PbzLlmKwYTETBwsrIRF7oDR+rbaIU9lXap9oxAhGo1rM/+b63NthNO6bVA8FERHKc6FDE0hs+VttEKeyrtE+1YwQiUK1nf/J9jy1MM+2YVg8EExHJcaJDpgtG5VotUii4tf20R3i1uiLPLXwsAHhwSjGuLc9224dr2Ne1P0qB2IWzywMWqPY2lvL9CYBbZef7K4diS8NxPFBZrHlMvecskIHgUF83RBSZmNEhUwWzcq0Spcq0P5le4hZebXZ0YfshO0QR+NeuZqzefeEWDN8oTMPtEwqdYV+1/igFYs0OVBsZy2ZHl7Pqs4i+idqInGTsPtLu3KaqLBu3jy/0OKYv58zsQHCorxsish6GkXXiRCd4Qh1UrWuy44Y/b/J4XCkUrGf7UPbH6LH1Bq/lYxHqc2aVNhCR9TCMTJYT6qCq0cq03rYPZX+MHltv8Fo+FqE+Z1ZpAxFFLk50yDShDqoarUzrbftQ9sfosfUGr+VjEepzZpU2EFHk4kSHdDMajPUnqOrtWEq/N1qZ1tv2/lZilrfdSNjW6LGVtq8oSPXoW1ZyAjYdaENdk92tWnQwqw3LqzjXt3VgXlWp1zaYGVaO5uBzNPedohMzOqSL0WCsP0FVb8fy9nujlWm9be9PJWalysRGwrZGx1K+vWvf9rac9Lg7utSWyZdkBqXasFYV53kzSnHZRamKbTAzrBzNwedo7juFH4aRdeJEx3/BDIt6O5aVg6tqbTOzMrGZbQt2W/RUcVZqh5nn3MrXT6BFc98pPDGMTEETzLCot2NZObiq1jYzKxOb2bZgt0VPFWeldph5zq18/QRaNPedohsnOuRVMMOi3o5l5eCqWtvMrExsZtuC3RY9VZyV2mHmObfy9RNo0dx3im6c6JBXgayGa/RYwWyLUWptG5mfFvI2y9smCWZbPKo4C+5VnNXaYeY5t/L1E2jR3HeKbszokG5mV8P151jy30urd4oy+ju3V3osGNTarmf8fGmz1nPqmuzY0nAc4wrTnUUQG9o6kRRnQ2dPr6Fz6Xqc1vbTbvs1wnUcAKiOldL5NBrMVhsX13FosndBFEWMKUyPijf9YP4dE/mDYWSdONGJfEorSQCE3eoSX1bEaD1H6XYYT35rlN9tk/Nnv96O5eu507OPpVsbMX/5Lufd6wUAi6qtf50QRQtOdHTiRCeyKa0ksQmAKAKuF7bVV5f4siJG6zmt7acN3Q7DaNvM2K/eYxk9d3r2odYnG4CNC6Za9johiiZcdUUE5ZUkvbJJDmD91SW+rIjReo7R22EYbZsZ+9V7LKPnTs8+1PrUC1j6OiEi4/rp2eitt97SvcNvfvOburddv349fv3rX2Pbtm1obm7GypUrMWvWLADAmTNn8POf/xzvvPMODh48iJSUFFx99dVYtGgRcnNzdR+DIpu0kkTPJzpWXl2i1A9vbdZ6TlKc8n/DqN0Ow2jbzNiv3mMZPXd69qHWJxtg6euEiIzTNdGRJh/eCIKAc+fO6T54R0cHRo4ciTvvvBPV1dVuv+vs7MT27dvxX//1Xxg5ciTsdjseeeQRfPOb30Rtba3uY1Bkk1aS/GzFbpwTRedKEgAej/n7dYQUbu3qOYuDbR0eQVx/ws9K/ZhbVYL6tg7n7/U8R+pnTkoiqivyPDI6UnuVQspKbXfeomFGKX717j6cU/imW+s2G82OLmw7ZEdDWwe6z57D1cMHO7dVOqZWn/wZS/k+pG3mr9gF1y7dc2WRR/tDEWj3tw3y80vGWOG8k3ksk9ERBMHtEx0lW7duxbhx43Do0CEUFOgLDDKjEx2UVpKYubpELYwrBXHNKq0vtXnnVyew+N29ft9yQ+n2FvKQckVBKnY0nfB624p5VaW4LC8VOw+fwKLVeyGKfUvEF6m0TR72dR2zcUXpmuNlxrnTu8pt+yE7Nn75NV7b2mi5QLsv15WZIfRoxNtkWEfEhZH1THT+/e9/45prrsGJEydUO93d3Y3u7m7nz+3t7cjPz+dEhzzo/a82b2HcZ+dcjnv/vs200vqBLNVf12RXDCm70rpthd7bWXgbM+H814ta+wgWqwbafbkO1M6vWWHxSMfbZFhLSMPIH374Ia6//npcfPHFGDZsGL75zW/io48+8rkRepw+fRrz58/Hd77zHc0OL1y4ECkpKc5/+fn5AW0XhaelWxsxcdEafGfJZkxctAZLtzaqbustjLtu7zFTS+sHslS/WkhZfiy121bovZ2FtzGT/+dVKMPiVg20+3IdmBlCj0a8TUZkMjzRefnll3H11VcjKSkJDz30EH74wx8iMTER06ZNw6uvvhqINuLMmTO49dZb0dvbi6efflpz2wULFsDhcDj/NTU1BaRNFL6aHV1uX0P1in15nmZHl+L23m5dUFmaaWpp/UCW6h9XmO51G63bVui9nYW3MRMC1D9fKLXV5lK1WWKF23Z4a4Pa+TUrLB7peJuMyGR4ovPLX/4Sv/rVr7B06VI89NBDePjhh7F06VIsWrQI//u//2t6A8+cOYNvfetbqK+vxwcffOD146v4+HgkJye7/YsmzY4ubDrQpvqmTer/1bb9kB1v1x3Gqp1H3MZP7fYJQF/+YdrwbNNK60vh3VvH5jv/OG0A5s4oMbQ/tetgZH4aqivy3B4rz0t2vrgLAG4bX6B62wpvt7OQjgv0ZRsUhgxVZdm4d1KRcyIhAJhRNhit7ad1989MSrdGWDi7HIuqrXXbDj1tUDq/WmHxSGf09ZC3yYhMhjM68fHx+Oyzz3DxxRe7Pf7ll1+irKwMp0/79mKllNGRJjn79+/H2rVrkZmZaXi/0RRGZohOn2ZHF8YvXKO5jVKVXCnc2tlzBg1tnW4BX9ff+xqgVQrvCuj7CsXI+dRzHUgh5eMdPXjmwwMeE7+KglSseGCiodtZKB138iWZ+NOaL/Hq5kaIuPApidqLTiiDs4EOtJvZLm+UQujRxp/XQyucdzLv/VvX8nJX+fn5qKmp8Zjo1NTUGM7DnDp1Cl9++aXz5/r6euzYsQPp6enIzc3FTTfdhO3bt2PVqlU4d+4cWlpaAADp6emIi4sz2vSIpvZ1zORLMvmHKqPnkwMRfStuXMdPWratxtvvtUjnTz4BkH7Wez71Xgcj89OQlZygGhje3ngCNXtaMG14turSdvnER+m4Kx4Yj39saXT2w9t/VS3ffhi3jx8SkjdnpfPnzzk1iy9tGJkfvRMcwP/XQyucdzKP4YnOj3/8Yzz00EPYsWMHJkyYAEEQsGHDBrzwwgt46qmnDO2rtrYWU6ZMcf786KOPAgDmzJmDX/ziF85ChaNGjXJ73tq1a1FZWWm06RFNK0THP1h3egK5QN+LY7DGT0/1YT3n08h14DVkve8Ypg3P9tZ0zeMqhZe9qW2wR/WbNPmPr4fkyvBE5/7770d2djaefPJJ/POf/wQADB8+HEuXLsUNN9xgaF+VlZXQ+ubMIivfw4IZFWWjhZ5ALtD3cXewxk9P9WE959PIdeDtmJUl+r8qVjuuFF42MtlhcJb8xddDcuXT8vIbb7wRGzZswNdff42vv/4aGzZsMDzJIXMxRKfNNZSoFNisKEh1W2UjCMADlcVYtfMI6pp8W5qrFITUCkfeOjbfY6WPM7ArAHOrStyyI677aXZ04aWPG/Dq5kO4/6pij+ugtf00lnx0wK0vOSmJuP+qYo9jAn0B5c6ecx7BbDVq119WcgLunlR0IeyssJrJlTw4azRM2uzoUgyUy/dV12T3GA9/+LsIgIsIzMXXQ3Llc8HAnp4etLa2ore31+1xvRWLgyWawsgAQ3RK1EKJ8sBms6ML2xrsEARg1c5mrN7d4tyH0ZCs0jEB5Uq7SiHk74wrwInOHrzj0gYAWFztuZ8bR7vf6gEAZpZn47YrClGYkYTfvLdPsVKuR4XkIakYkZMMGwT8/ZNDzvYoBbPVuF5/67845mynAODeyUW4c2LfLRYa2jqRFGdDZ0+varjbaJhUPo6u7VarbO06Hr7ydxEAFxEEDl8Pw1vIKiPv378fd911FzZtcq++KYqi4XtdBUO0TXTIXSiqyypW2gUAhY/SVzwwHrP+vMkjpKv2dY9SxV41bz44AQAU+/Lrm8rx09d3eTz+7JzLcc+L2xTbs3H+VN1vFv5WmDX6/GZHFyYsXKPY7pUPTPCo5izna+XgYPeTKJqEbNXVHXfcgX79+mHVqlXIycmBoFQog8gifAklalWX1fNmqFhpF/CYnUhhXaX3X7U3ZSNZl9oGO3pVpkTvfdai+PjafcdU22MkyOlvGNTo8+vbOlTbrScQ7WsAOtj9JCLjDE90duzYgW3btqG0tDQQ7SEylS+hRH+ryyodU+0TnbGFac5aOa7M+ERHq73TR2Tj33uOeTw+pSQTr3zSqNgeI0FOf8OgRp9flNFfdRz1BKJ9DUAHu59EZJzhMPKll16Ktra2QLQlapkdjKQ+0k07580o9VrJ1zUEaqS6rNLzFSvtVpe7PWYDcPekQmQlJ2BRdbl7EBp91YOnylY9CYBixd7qijyPgG91RR6+OHoSf6jZj8vykj1+N2lYJq4cluHx+LTh2Z7tOZ8b8Va/x3UctMKgrtuqhXCNhklzUhJV2y1Vc1Z7sfOncrC/oVc9z4/EoDJf8yiYdGV02tvbnf+/trYWP//5z/HEE0+gvLwcsbGxbttaLQdj9YyOPBAaysqwkUQe8JxXVYrL8lK9VvJ1DYF6qy7r7flqlXaf39CAv2046FFBeFuDHX//uAFbXG7AWFmSiZF5KchMjse04YNVK/Y2O7pQs+cojrV3Y+rwLPznPz5F43HPN8YHK4tRMCjJLZh73WXZuPfKoR6rnaRgdsWQNM03bq1xkLfTdVvXKslqIVwjYVL531JVWTae+d7lim18oLIYaUlxplUO9jf0qvb8SAwq8zWP9ApqGNlms7llcaTgsSuGkY3zN/RKyvQEPEMVItV6Xmv7aVOuh2W1jYpBY0D5qy9/wq9GxkFpW1f+tEPrb0mpAnQ4BH4jMajM1zwyIqhh5LVr1/p8AFLnb+iVlOkJeIYqRKr1vN1HTig+x+j18O5u5aAxoJxT8Sf8amYlZn/aofW3NDw3OSwDv5EYVOZrHoWCronOVVddFeh2RCV/Q6+kTE/AM1QhUq3nJcUpp0iMXg8zyrJRs9czaAyof6Lja/jVzErM/rRD628pKzkhLAO/kRhU5msehYJPlZFPnDiBJ598Evfccw/uvfde/O53v4PD4TC7bRHPSOiV9NMT8AxGiNTo88y6Hm4eU4CCdM92xAiCYpjZn4qxRsZBvq2AvsCwGe3QGrtwrZIbru3Wwtc8CgXDBQNra2sxffp0JCYmYty4cRBFEbW1tejq6sL777+PioqKQLXVJ1bO6Ei8hV5JP2mlVVFGfwDwGhD1FiJtdnRh2yE7RFHEmMJ0xdzJtgY7IACXewnt6j2u0vUg9at/XAw6es6hKKO/12Mtq23E+58dxbii8+12aaPZFWObHV3YfsiOXpVxkvdva4MdY89/2rKtwQ57Vw/SkuIMjaHavqWxy0pOcF4LWn12vWasOImIxOq+y2ob8d5nLZg+Ihs3jwnvcDUFTsgqI1955ZW4+OKLsWTJEvTr1/fN19mzZ3HPPffg4MGDWL9+vc+NCYRwmOiQOcxeoaJ1S4FAHVOtHfLbFxg5VrDbqHUM+XY3js7Diu2HfbrdRCDaEwmrmqyOq65Ir5BNdBITE/Hpp596FAz8/PPPMWbMGHR2dvrcmEDgRCc6mL1CRW2FkA3AxgVTnZ8QBHpVjNZKJX9XeQWyjUrH8LbqSmL0dhNmtifcVzVZHVddkRFmvX8bzugkJyejsbHR4/GmpiYMHDjQ54YQ+UNrhYpZ+wP6buUg7dPsYxpph95jhaqNSsfwtupKIt1uIhTtMXtsyJ3WqiuiQDE80bnllltw9913Y+nSpWhqasJXX32F1157Dffccw++/e1vB6KNRF5JK1RcmbGaSM6GC7dCMPuYRtqh91ihaqPSMbT64sro7SbMbE+4r2qyOq66olAwPNH5zW9+g9mzZ+P2229HYWEhhgwZgjvuuAM33XQTFi9eHIg2UpgJRcl6bytUXEvOK7VP7RYGrnUxBfRVWHb9WuPuSUXON8tArIqR90tiE4C7JhXi8yMOLPnoAGr2tGDTgTbU7GlxK62v91YMrvSMj1YbYwQBc6tKUN/W4fXWGPLbVyiNsb9jpnZeWttPY2ZZtvP4Rs6f1nj4+jt/+XtbhWD83QZq1VUk3iaDzGM4oyPp7OzEgQMHIIoiLr74YiQlWfO/gpjRCa5QhzuVVqjIw48SqX0ANG9h8Mc1+/Hq5ibV5wgA7p1chDsnFgUs23HdHz7C7iPt3jd04Rry1LoVg2uflR4H1MfHlXSMnV+dwOJ39+q+NYbaGPt73WitVpJfE5OHZWDxTZfpOn9a17ivv/OXvwHfYP/dmrnSNNSvORQ4IQsjOxwOnDt3Dunp7h9BHj9+HP369bPcZIITneCxYrhTLfwoUburuNRmpT55e47Zava04O4Xt/n0XKWQp9p5WvHAeNz49Ca/+urLNRDs68afQKxWWwH49Dt/++hvwNeKf7d6hXPbybuQhZFvvfVWvPbaax6P//Of/8Stt97qc0Mo/Fkx3KkWfpT0wrNSr2ublfrk7TlmW7O31efnKoU81c7T1ga733315RoI9nXjTyBWq62+/s5f/gZ8rfh3q1c4t52Cx/BEZ/PmzZgyZYrH45WVldi8ebMpjaLwZMVwp1r4UWIDNNus1CdvzzHb1NIsn5+rFPJUO09jC9P87qsv10Cwrxt/ArFabfX1d/7yN+Brxb9bvcK57RQ8hic63d3dOHv2rMfjZ86cQVcXg2DRzIol65XCjxIbgHuuLML9VxU7/xDkbVbq08LqcsyrKvUaQq7Z04LHVu7EstpGt6Ckt+Ck6++bHV3o7DmHokHGX7jVQp6t7adRVZbtbL9NAG4ZexGykhM8btFw/5RiXee02dGFt+sOY9shO277xhCPgC8AQ2FmX68bPaFUfwKxWgFmrX7400dvffI34Cu1zfV6CPXfrV5WfM0h6zGc0amsrER5eTn++Mc/uj3+4IMPYufOnfjoo49MbaC/mNEJPiuWrJffGuD5DQ3424aDbh97CwIwv6oU900u9ni+a5/Wf3HMLYg8v6oU913l/pzZT2/E9sYTbo9JlYBXfnpYNTjpGqwU4H7zTS13TBiC6SNy0NlzBg1tnaohT7VgNnChKvGH+47hHZc7oFdX5OEn00tUz6m8grSrmeXZuOqSTENhZl+vG6OhVKOBWL0BZq1+GO2jkT75E/AN92rFVnzNIf+FLIy8ceNGXH311Rg7diymTZsGAKipqcHWrVvx/vvv48orr/S5MYHAiQ7J+VNtWE/40Uh42FvwWS891YS9BbO1qAVbmx1dmLBwje4JGRCYsGigQ6mhqOgbrKAtqxWTVYUsjDxx4kR8/PHHyM/Pxz//+U+8/fbbuPjii7Fz507LTXKIlPhTbVhP+NFIeNhb8FkvPdWEvQWztagFW+vbOgxNcoDAhEUDHUoNRUXfYAVtWa2YIl0/X540atQovPLKK2a3hSgopACj2ic6eoKz8v/Kdn3O1NIsvHK+Jow3SsFnXz/R8RbA9BbM1qIWbC3K6G/oKzYgMGFRPefFH6Go6BvoPklYrZgina5PdNrb23X/I7I6tWrDeoKM8ufaBOB7VxRg1c4jzoq004ZnozzP82NWqRKwFPoUANw9qVB13zrultC33fnshlK7XavlagWzpeMtri732ObKYRn44uhJPLZyJ2r29GV3pIAsAMyfWara1uqKPCyuDnxYVBo7V/Lj+FI9V3pOVnJCQCr6atETtDWjInCgqhVbASsmE6Azo2Oz2SAI2i+7oihCEAScO3fOtMaZgRkdUiMFGJPibOjs6TUUZPy/Dw9g0eq9Hp9kVFfkYVxRujNACgA3VeSh+vJ8Z5BZHtxVqsbc0NaJlz5pwDu7WqBE+hRFLQwNqAdM73p+C9bsO+a27XfGFeA/p13srJo8b/ku1b4XpCfiK3uXMzANeH6ic91l2bj3yqHON8tghEXlAfCKglSseGAiAN+q5yo9pzR7oGkVffVSGzszKwIv3dqI+St2QRT7Js6LIqC6MCsmh7+ghpE//PBDXTv79NNP8cgjj/jcmEDgRIfMZjQ0rFUdV76N67259AaHlQKqas//9U3l+OnrnpMYKcys1UYjgl2dVi0A/uycy3FpborlqzUbZWb7rN5XX0Rin6KRWe/fujI6V111lervHA4HXnnlFfztb39DXV2d5SY6RGYzGhqWAqQiRK8haOlF2EhwWP5cree/99lRxcelMLNWG41QalMgqQXA1+07hsS4fqqhXrX2aQWBrfBGaWb7rN5XX0Rin8h3hlddSdasWYPvfe97yMnJwR//+EfMnDkTtbW1ZraNyJKUqrFq0aqOK99GYiQ4rBRQVXv+9BGDFR+XwsxG+2akTYGkVj26siQzLKo1G2Vm+6zeV19EYp/Id4YmOl999RUef/xxDB06FN/+9reRlpaGM2fOYPny5Xj88ccxevToQLWTyBKaHV2ob+vAvBmlHmFmwDN8awMwd0YJADifJ6dUPVgrOCzgQjZGAHDLuIvQ2n7aLXSZlZyA0fkpHm27eUyB4n5vHZuPbYf6wtRKQW1Xg/rHXQhUC56haTOr/rqSgtU1e1qw6UAb6prszudOG56NioJUt+0rClIxbXi2T9VzrVRxV2mMzGyfv6Fn18C7VTirPZ//2YbwqfYcbNEQ2NZdMHDmzJnYsGEDrrvuOnz3u9/FjBkzEBMTg9jYWNTV1eHSSy8NdFt9wowOmUUebpxXVYqN+9uwfn+bcxsp8Pt/68+HlTUCu5IFVaVITYpVDE7WNdlRs6cVWcnxKM9LQWdPL3YePoGF7+xV3JdUfVle/biyJBMv3DnO2Q+1sLFUHXnyJZloaOvExi+P4c9rDyi2/fuTi3DnxCIA8CnUbSQsqlXR2fW5NXtasG7fMVSWZGLa8Gy37XwJRIe64q63MTKzfb6Enq1cUZlhZO+sPkZBr4zcr18/PPTQQ7j//vsxbNgw5+Oc6FA0UAo3qtW8eXbO5bj379t0Z12UJkJqwUlfKhFL3nxwArKSE7yGjfUGk20ANi7QrsasxkhYVE8wOxKDplYI1Gq1obX9tGUrKlth7KwuHMYo6JWRP/roI5w8eRJjxozBN77xDfzpT3/CsWPHvD+RKAIohRvVJgDr9h4zFOgV4flpj1oFXF8qEUtqG+y6gtRSMNnbtr3wXo1ZjZGqv3qC2YGoGBxqwaqM7GsbrFxR2QpjZ3XRNEa6Jzrjx4/HkiVL0NzcjPvuuw+vvfYa8vLy0Nvbiw8++AAnT54MZDuJQkop3KgW2q0szTQU6HXN3EjUgpNSJWJfjClM0xU21htMtsF7NWY1RsKieoLZkRg0tUKgVqsNVq6obIWxs7poGiPDq66SkpJw1113YcOGDdi1axd+/OMfY9GiRcjKysI3v/nNQLSRKKTqmuxYtfMIHqgsdgtsLpztWUW4qiwbiXH93MLKAvpCu2oWVZdjkc7qwTkpiVhUXe7xuESqvixXMSQVHT19xTy1qi8L6MseAX3/xXf7FUMUjyMAWFitXI1Z4hpylAcelQKwc2eUoL6twxkylv5XqSqxK5sAzCgbjNb206rbhKNgB6KNhp6tXFHZSmFyq8pJScRt37jw9x3JY2T47uVKzp07h7fffhvPPfcc3nrrLTPaZRpmdMgf8rBlVVk2bh9f6BbYrGuyo7bBDntnD55ed8AtrHxZXqrzv5CkoOeG/cfw1o4jGJGbjDkTi5z70RssdQ0QupKqJKcmxXpUX5ZIgUMpbCy17Y9r9uPV8/fn8haeFtB324f7JntWY1Zqo+v+1KpA7zx8AotX71X8qkx6TtPxTmcwWhCAByuLsfMrh2IYPJIEIxDtT+hZuv6DWS1ar1CHya1MXkm8PC8Zb/+ntW7MHfQwcrjiRId8pRaCVQpbBivY560qsw0AvNwYVN4uo5WelfZhpI2+HF+pX2phcCuEYcNJOIRSyVxalcTlqxVDKehhZKJoYyRsGaxgn56AsLcJi7xdRis9K+3DSBt9Ob5Sv9SeY4UwbDiJplAq9dGqJB6JONEhUmEkbBmsYJ+egLC3sLG8Xb5UQ9bqm7f9+XJ8pX6pPccKYdhwEk2hVOqjVUk8EoV0orN+/Xpcf/31yM3NhSAIeOONN9x+v2LFCkyfPh0ZGRkQBAE7duwISTspOhkJWwYr/Cg/jmtl4hhBwMLqcs3Kxkrt8tinlzZ465vS/qTm6Dm+0vHk/VILg1slDBtOGNyNPlqVxCNRSDM6q1evxsaNG1FRUYHq6mqsXLkSs2bNcv7+pZdeQn19PXJzc3Hvvffi008/xahRowwdgxkdkki3byjK6K+aLVH6vVrYsq7Jji0NxzGuMN35eLDCj9JxkuJsaLJ3ASJweWEaclIS0ezowgeft6DtVA8GxvfDnuZ2ZA2MR/lFqagYkoYN+4/h3d0tmFGWjZvHXAgFbztkR0NbB3rO9SI/LRFzl++C/NXhB1cVYURuCsYUpiuGUmv2tiJjQBz+49JstLafxtYGO8YWpuGLoyfx5o4jyBwQh/xB/THyohQkxvXDYXsndjSdwKj8VHSdOYevT/XgsotSkBQXi92HT2DzweOYXjYYk4Zlor6tA/3jYtB0vAsQgMRYGw62dSA1MRbtXWcxpjANWckJqudYfr68XQ9KYy5t39p+2uPce6N0veg5llbbava0YM3eVkwtzcK04dl+9QlAQK9drb8vo2NJ5tCqJG4FERdGFgTBY6IjaWhoQFFRESc65DNvq0qMlkK3Qul7pTYD8FhxJeDCiqfUpFgc7zjj/F1BeiIenHKx4iquioJU1DU5cE7hJcLbrQBcj2uUACA/PRGNxz3vvaO2Iqy6Ig/jitJ136qgoiAVO5pO6D7faivdpGN7O/dGrhe916J81UxBeiK+snf51KdAl/9XO5YV/o7IuhhGVtHd3Y329na3fxTdmh1dbm9SvSLwsxW7nfVCvP1erq7J7vGmvnz74aDe1FCpzQtW7MI8hWXl0s+9ItwmOQDQeLwL85crv4FvbzyB+VUlisd3HSOl8XA9rlHi+Xap/U5pv8u3H8Z8lXOo1L7tjSd0n2/5WCsdW+vcG7le9F6LNXta3CY5QN+Y+donb9v7Q+1YNXtaQv53RNEh4iY6CxcuREpKivNffn5+qJtEIeZtVYnRVSdWKH1v5JYU3mg9bctB9dsveLsVQLDJP3gy0j5/VpEB2uc+EKv31FbNeHue0eOYQe1Ya/cqr/DhqjkyW8RNdBYsWACHw+H819TUFOomUYh5W1VidNWJFUrfG7klhTdaT7umbLDq77zdCiDY5FlmI+3zZxUZoH3uA7F6T23VjLfnGT2OGdSONaVUeYUPV82R2SJuohMfH4/k5GS3fxTdvK0qMbrqJFil711L8tc12fHbD/bhj2u+wKqdR9Dafhr3TCpy/gFLq5AWK9wewnVVVnr/WLffZSfHY1F1ueIbeXVFHm4eU6B4+wUbgCdmlwEAOnrOoarMM8ioddsLbzIGxCk+rnY7jeqKPCyaXe4cDwHAD64aivq2DsVbSJQMHuA831q3kJACtPJbesiPrXXu/V29N7eq79YYrl8rKa2aKUhPVLylhtrXUXdPKnKed19WWindMkLrNhLSuZGunWnDs7lqjoKiX6gbQBQMt4wtcLvtgfwF3dvv5Z781ijcPn5IwErfa4VfXdkE4PuThuLOSYXISUnE0q2NHtuIAL4/uQh3nr/dxI1Pb8Sn5/MdLe3d+PPaLxVvJzGuSOOTEAHYUn/cLWD6wynFiLEJyBgQj6sv7fsk6PmN9fjr+npdfe4fF+O8H1fbqR4UZ/ZH5sB4bK4/DlHsm+DMryrFN0fmoqGtE509Z9DQ1ukc/6VbG51fw4kA/rzuAP687gBsAnDjaPc31H1HT6GqLBsd3Wexfn8b/rWrBf/a1eIWhpUHaF1v6dHaftrQuTdyvbheizu/unBrDHlgeMUDEz1WzSjdUkP+PPntOVyvDb3UgvCa4WYpne4yUwz03xEREOJVV6dOncKXX34JABg9ejR++9vfYsqUKUhPT0dBQQGOHz+OxsZGHDlyBNdeey1ee+01lJSUIDs7G9nZ+pbCcdUVhRujt2SQyvUDwPiFaxS3EQBsWjAVre2nFW9robbfv95eoVgqXqsdrrd2mLBwjc+hZKBvcuP6CqV2awJfbmOh5s0HJyArOSHkt0Xw9dYMWs8D4He/lPZvO3+eXIffzGNSdIqIVVe1tbUYPXo0Ro8eDQB49NFHMXr0aPz3f/83AOCtt97C6NGjce211wIAbr31VowePRp/+ctfQtZmokAzeksGKURa39ahuo0IGA4OawVGtdohqW/r8GuSA6gHjOV8uY2FmtoGuyVui+BrG7SeZ0a/1ILw8uE385hE/gjpV1eVlZXQ+kDpjjvuwB133BG8BhFZgBTeNPKJjrcQqQCgMCMJSXH6/9tGCoy+vNnz6zA97SjK6O9zLR2J0ic6Sn01OmZapMKD8v0F+7YISn3S0wZvz/O3X0r7V/tEx6xjEvkj4sLIROFGHuA0cksGmwBniDQnJVExjAwAE4rT8fq2JjTZuzCz3P1r34J05a8PrrssB5fmpqiGkStLMt3C0Eq3dlik0h4l8qB0yeABWKQzJC6NmdJYxQgCqivyPH5XVZaNqbJ7+1RX5DmrK8+rKnU+RwA0w7pKIVz543VNdjz5/l689HGDrno1zhDv+Ua4nms9z1MaN63fLattxN0vbMGyWs+JrWs/lPaxcHY5FlXrP6ZSwNpK1M4nhSfLVEYOFGZ0yMq0qtO63k6itf001uxtRWyMDUdOdOHVLX1lEwQAi6qVg6ZqBAAPVBYjvX+cMwB61/NbsEblzsWLq8tRmj0QtQ12NNk78eLHh9w+ZZFCwvdNLlZ8/nV/+Ai7j1wo3FmUkYQf/0cJttYfx4ufHHLuY9Hscry54zA2Hbjw9Vp1RR5+Mr1EV0h86dZGzFu+y+2x7195Iajd7OjC4tV78eaOI4qfMlWWZKKqLNtwBWS1c+jtXCyu9l6JeOnWRmela/m59kbrdiTy303+1Rq3Io0F6YlYP3eqZv+U9q/nmDu/OoHF7yoHpa0gmBWjSVvE3QIiUDjRIavSGzaV34/ISNBUjU0ANs6fipyURNQ12TUDytK2WvtXC5fW7GlRDDP/+qZyzJNVZFb7muvNByfoujeUUttsADYumOqc6PgbWJa3Re0crnhgPG58epPmsVzPgd4+BSLEu6y2ET99fZfH47++qRyThmWa2oZg9clXVm9ftImIMDJRNNMT0ly6tRETF63Bd5ZsxsRFa/DchnpDQVM1vSKcx/EWUJa21dq/WrhUrYLve58d9diXWtP1VMpVa1svLvTTjMCyvC1q53Brg93rsVzPgZJghXjf3d2i+Pj7nx01vQ1WDyZbvX3kG050iELEW3VapXsEPbuh3iNrIj1HTwVfiU2A8zjeKgdL22rtXy1cqlbBd/qIwR77Umu6nkq5am2zAZoVsI2St0XtHI4tTPN6LNdzoCRY1YtnKBR7BIBrRgw2vQ3BrMjsC6u3j3zDiQ5RiHiryKy2jPfeyUUez2ltP41VO4/ggcriCyFmlTda4XzuQPo6p6PnHCYMVZ7sCLiwrby9Enm7pSBnXZMdiXH9UJbr/pFz6eABuHlMgUffb7o8DznJ8W7blud5/7jaWb24qtStzwKAhdXlzna1tp9GVVm2841MqcLx4mrP/rn+Xv4Vmto5HJmfpjhWbm2bXa75tZW8InOMIOB7VxTgT2v2o2aP8qcwrs/XG6a9eUyBRyC9ID0RN48pMFw13Bu1Ksl69heMgLDZ/SVrYEaHKMTUApzeCr9Jz/nNe/vc7gJdVZaN28cXOv8rdPHqPXhjR7Pz9wuqSnHfVcWqYdnRBamYfHEGMpPjMW34YNVQaVKcDZ09vW7tVtqnUvZGCvZK+/rxsh04cuLCLRhibQLOuOxEbxB43oxSXJSWCFEELi9Mc7brx//c4TZGk4dlYPFNlylWOJaHwPVU7dU6h26B8j2tquOq2qfzFZmf+Nfn2OUS6q4oSMWKByZ6fb7eMO2y2ka8/9lRXDNiMG4e4769VsjYKF/aF+yAsJn9Jd8xjKwTJzoUzpZubcTPVuzGOVF0/tel6wu8WpBYCs36GpbVEwCWMxr2lY6hFob11ia9wVFvY2Qlan1aVF2mOEbPzrkc04Zne32+VcK0vrTP6n2iwGEYmSgK3DK2ABvmT8E/7r0CG+ZP8fivWLUgsRSa9TUsqycALGc07CsdQy0M661NeoOj3sbIStT69N5nymO0TlYSwOphWl/aZ/U+kfVxokNkcTkpiRhfPEjxv17VgsRSaNbXsKyeALCc0bCvdAy1MKy3NukNjnobIytR69P0EcpjVCkreGj1MK0v7bN6n8j6ONEhChPyyrXNji402bswTvaG7RqazUlJxLwZpR4VjLXCskqhWz2VfwHgnklFHi8qSnncUReloGZvK+qa7Iph2P5xMW4/zyzLRkfPOdQ12Z1B522H7Lh1bL5qdWapbVnJCR7VnZX6qKSuyY4lHx1AXZN/n/7Ix0m+X+n3ABSrCOelJaFcFuquKEjFpbkpmlW1zQrTmhUE9qV9DAiTv5jRIQoD8sq16f1jYe844xbyva48B/dOLnJ7A3cNcSpVMJZCl509Z9DQ1qkYutVT+Veay4jo2+aeSUNx7WXZzrAyAPz786NY98Ux1Oxxr60jBY1dw7C9ItyqHGvdM0sAcK9LBWS1NkvVnb0FiyXyALNaINobeVtG5adie+MJ5+8rClKxo+mEW1snX5KpWEX4tiuGoFcUUVmSibZTPbqqaociPOyNL+1jQDj6MIysEyc6FO70hnVdqwAD5oQ4fQ0zq1V4Hr9wjeL2rsFgXyoYe6uAbLTfZgWYfemLVqVrPb8zcxLAIDCFEsPIFFZ4kzzf6Q3rulYBbnZ0YdXOI36HOH0NMysdp76tQ3V712CwLxWMvVVANtpvswLMvvRFq9K1nt+ZiUFgigT9Qt0Ainy8SZ5/ZpRlo2av8g03XUlVgLVuJmk0xCkFQeX/RS+FmbU+0ZEfR7pXlxLXYLDSMb1RqoAsb7ORfpsVYPalL65t1eqHv33Uw4yxJAo1TnQooJRuY/CzFbsx+ZJMvz76dr3RZTA+Qg/28VzdPKYAf1zzpVtGJzWxH050nXX+LFUBBqA5yZk7owT1bR1YVXcEnxz8GjPKsj2KwwF9X91saTiO1MRYVJVlY/XuFvSKF4KgWckJuGdSEf72UT16zx8fAiCKfZOOuTNKnDcMlfZzousMfjilGH9ae8DtWFcOywAAbDrQhqKM/mhtP40pJZm6JndS3+++ssj5sxReldcfAoC36w5DEAQ0n+jCun2tKMtLwczyHHT0nENXz1kcbOvA0Iz+6Ow5h28UpWFz/YVPcKor8tB2qhuPrdyJOJsNjfZOXDF0EHJSE2Hv7EFqYiwK0pOw8ysHWk+extXDBztD31JbbAIwZFAS6l0+EakoSMWOxhPohWel4IWzy93+I0H+O3kf1a5N6TyMK0xX/epN6RqXxtK1DXdNKtR1XkL5N0PkihkdCqhNB9rwnSWbPR7/x71XYHzxIJ/2GexPiKzyiZQU1k1NisXy7YedIeBvjyvAf067GDkpiarj/V/XDsdZUcTi1Xs9JkEF6YlYP3eq82d5CFciVRNe/8Uxt/G4Z1JfEPituiNYtHpv32RHIXQrqSrLxoTiQVi3r1X3ZEbNNwrTsKXB7gxBqwVy139xDPOX71INNHsjCEB+WqLbZFMP1wrQz2+sx1/X17v9/sHKYhQMSlK9vmY/vdEjuOxaDVlPQFdPqFrrGl+6tdFj7Lz9HVjlb4bCGzM6FBbMroGh9glRoLI/wT6elpvHFOB/ZpU5JzlA30qkpVubnNuojfeYwjTFSQ4ANB7vci5Zr2uyK05yAGD9/jZ8fsSheKPR1vbTWHx+kiM9rjTJAYDVu1uQm5qAtfv8m+QAwObzkxzpmK7nRqo/BMCvSQ7Q90mV0UkOACzffti5hHyJbJIDAM98eADzlytfXzV7WjzGcHvjCbf7XGnVWAKUz6drmwDta1z6nXzstP4OrPQ3QwRwokMBZnYNjGCHI60WxvTWHrXx7ug5p5kTef+zowDUQ7iStfuO+RROllu313M/ZlALQYfyY+vaBrtqG3pFz2XzUh/W7G1VeIZnNWQtekLVRkPP8m3krPY3Q8SMDgXcLWMLnHVB/K2BEexwpNXCmHraozTezY4uzVDsNSMGA1AP4UqmlGTi1c2NhsPJcpWlmXhlS6Ppkx21ELRWHZ5AG1OYhqzkBMU22M7nmlwfl/owtTQLr2xugpy8GrIWPaFqb9eU2nlV+zuw2t8MET/RoaDw9hG7kf0Es0qq1aqy6m2PfLzlz3NVkJ7oDCSPzE/zqCIsqa7Iw7Th2YrHl1dajhEEVBSk6t6PROsOEoLs98L5fekZi0XV5Zr79iZGEDyqN+shVWBWaoNwPruyqFr5fE4bnu0xhhUFqW438fRG6XzKq0JrXVNq143W34HV/maIGEamsBTsKqlKxwvlqhLX9rS2n/a6okZSs6cFa/ceQ6xNwFcnunDNiMGYNCzTox9L1h/Au7tacNlFKUhOisWgAXH4j0uz3fr+78+PYvdhB5LiYjBrdJ7zbumu41TXZEdtgx3Jif3Q3nUWyYn9cKLrDFITY9Fk70JcPxsK0/sjPz0RX9m70CuKSIqLwc6vHOg+ew7xMTG4LD8FSXGxSIqzofF4JxxdZ5CaGIfLC/smEFKfppRmak4CpDa3nepGb6+IHU0nMCI3GVXlOejs6cVX9g7UfeXAyItSkBjbDye6euDoPIPus72YNjwLWckJWLHtKxw4dgr9BAF7Wk7i4qwBuLwwDY6uM+g+04uR+SlodpzGsfZuTB2e5XE+6prsqNnTiqzkeEwbPtj5adu2Q3ZAhLNP8nO2bt8xFKQnAQJ0nWc56TxoVYWua7Jja4MdY89v43p9t7afxtYGO4oyktDV0wsIwOVDPNuqtT8yRzStZmNlZJ040aFAsMqqEiO3KVDadlxRukc/lm5tUgwSu/ZTaWWWt1skqK3mkp678tPDquOpNt5G+u9tZZHr724cnYcV2w+7faUkffWk9BWU9JjWtaB0fAC6riOzbkehRqn/0vlwvb2H/FYfRvrKVVf+i7Zx5URHJ050yGxWKYtv5DYFatvK37S95WxiBAF/vb0Cd7+4TfH3ardIUDu+1nGk8VQbb7V2KLVB65wBnrdT8Ifa7S/kx1DL58ifa9btKNT4cpsKid6+8rYR/ovGceXycqIQscqqEiO3KVDbVmnZsJZzooi1GrVv1G6R4G01l9JxvN3SYe0+5VVJSm3wdWWRL9RWfsmPobXiypVZt6NQ40//9faVq678x3H1HSc6RAaZXRvIV0ZuU6C2rTygK++XXIwgYEqp+qoftVskeFvNpXQc+S0dPNpRkqW7DVrnTOl3/lBb+SU/hk3wHH+l55p1Owo1/vRfb1+56sp/HFffcaJDZJAVVpVIJf3lS43lK2okI/PTUFWW7bHtoupy54uADX3f+autlooRBMytKkFiXD/MLPcM/VaVZaPJ3oW36/oK0q3aeQRv1x1Gs6NLczWX1Ba18cxJScS8qlLni7xNAG4ZexG6zvR6tGNCcTo6es55FKfru63EhYmR/Bj3TCpyjkOMIKC6Ig/yBWrSzx6P48KERWvll/ya0Vpx5SorOcF5mwzX8dL62qquyY4lHx1wKwwokd9gV2qb6/i6ng/BZULm2lf5LSm0+mrk70Or7dHMCq874YoZHSIfBXvll0QeTJ1akomJF2dorqhxDTEKAB6cUoyfTC9VDTfe+teP8cnBC1+ZTB6WgYkXZ2Dxu3ud206+JFNX8ToBwKLz9+Gat3yX8/FppZmoLMnC1ZdeWH2kNJ5aNylV4y04vaCqFPddVezRf+l2FlJ7th+yQzy/GgqAs30AsK3BDkEAKoa4/07rWlBbvaf2XLfzJgDXluXg3slFmpMcreCy2vl2vc2DdL5cazFJ/dv51Ym+23y4bKcWhvXl7yPQoetIEKrXnVBgGFknTnQokvgSTFULMa54YDxufHqT7pCvPwT0vVEbDVL6G5RV64sA4I0HJyj23yrhTl/Cp1rXR1ZygqHrINgh40CHrin8MIxMFIV8CaaqhRiVbtugFfL1hwjPoLOeIKW/QVm14LQIqPbfKuFOX8KnWteH0esg2CHjQIeuKXpxokMURnwJpqqFGKXbNsgfVwv5+kOAZ9BZT5DS36CsWnBaAFT7b5Vwpy/hU63rw+h1EOyQcaBD1xS9ONEhCiO+BFPVQozSbRtcXwRuGZePS3NTPEK+1RV5WFBVeiGIev4x6bny2zPIzZ9ZirsnFTnfKAUAP7hqKAC4BWNdNTu6UNtwHLeOzdfYs7IYQcDcGerB6UXV5chKTsA9k4rc+uQa7pSHduU/A8rBWdftlJ6jRGk/esKnNXta8NjKnc47mmvd8qG1/TRmlmW7BafnVpWgo+cc5s0odQsca4WMvW2nNA56eLtdhdH9EUmY0SEKE74EU10phRhdQ6iuXAsJPlhZjIJBSW7bCQBmy6oZz5tRiovSErHxy6/x6pZGQ31TqlSs1C65stxk7D7S7vx5zvghmFGWg52HT2DxauXgtLztSm3QqhQsbbel/rhmpWm9VYS9BXDVwqezn97oVsG6oiAVKx6YCMDzlg/yY8jD5XJqIWC9YWF/Kvgq3a4i2ioCUx+GkXXiRIciQSCCoHqDvjYA4vkqvlqkYOuspzd53Vbt+VKl4gkL1/h0t3G1cK3Zzzdyp3bXfZtV9bhmT4tiyPrZOZd73O/LaFVqtTbobavZ12o0VgSmPgwjE0WRQARB9QZ9e+F9kiO1Z2uD3adJjvR8qVKxr//1pRauNfv5vuzfzKrHa/YqB8aVlvsbrUqt1ga9bTX7WmVFYPIXJzpEYSAQQVC9QV8bPIvkKZGCrXq2VXu+VKnY10LFauFas5/vy/7NrHo8tVQ5MC4vIKl1DG/kbdDbVrOvVVYEJn9xokNkQfJwqlYwtdnRhZc+bsCT7+/1Wk3WNdApD5cqiREELKwuxyKF7ca5vMFJQd6R+WlYdP6u3Ea4VtnNSUnEomrtdkkqClKdY2IDcPekQmQlJ7hV+hUAXDkswy1EO6UkU/HN0zWk7TrW8srNC2eXewRny/OSMeeKIYoBbdf+uZ5btQBuVnKCZqB52vBsjwrWFQWpHl9bAX0h36kKFbQXu1RllpMH3JfVNuIPNfsxZkiq5naA+RV8WRGY/MWMDpHFaAU+5cHUpVsb3aoNy7d3pRTo/PPaL9F4XH0Vy4KZpbhvcrHicVy5VsmVB4kfrCzG98YP6ause/gEFr2zVzH87FplV76POVcMQcGgJOenB65h1WZHF57f0IC/bTjoFh5esf2w16/ABAAPVBZj0rBMj7CvfKyVQsF1TXb81xufYedhh/t+BaBqRDZW725xqyKsFGCub+twCxUXpCfiK3uXrkBzzZ4WrNt3DJUlmYqTHMDzeqosycQLd45z9vH5jfVYsr7e7Xz9dEapc/vJv1rjdo0MTo7H968cqlmJW2n8/BVNFYGpD8PIOnGiQ+HESDi12dGFCYvWKGZi9ARE9bABWPngBF0BY2lbtSq7ADTboLWdVvjUn+rJ3vbtjZGgr+tKNl8Zbau368lb0HdZbSN++rrnBPfXN5Xj5jFc9USBxTAyUQQyEk6tb+tQnXzoCYjq0QvoDhhL26oFR721QWs7rfCpP9WTve3bGyNBXzP+i9JoW71dT97G+t3dLYrPf/+zo7rbQBRqnOgQWYiRcGpRRn/V4K+egKgeNkB3wFjaVi046q0NWttphU/9qZ7sbd/eGAn6+tFEJ6Nt9XY9eRvrGWXKX4ddM2Kw7jYQhVpIJzrr16/H9ddfj9zcXAiCgDfeeMPt96Io4he/+AVyc3ORmJiIyspKfPbZZ6FpLJGJ1Kq8ZiUnYFR+ittjapWPc1ISFUPC8u2bHV2ob+vAvKpSt0Dn4upyFKSrfwUiALh/SjE6es5hvktmQ839lcVosnfh1rH5HtWGAXi0wbXdAoBbxl6E2objaG0/jXsmFTlfnGwA5s4oAdBXRXlZbSMeW7kTy2obselAGz4/4sBMlTdkbwQAVWWD0dp+2vmYa1hYqWKx6zYAPIK+0n4nDE136+u15dkoz3P/+L00ewDy0xLcHitIT3QLUrtWMjYawlUKO08tycSWhuOoa7J7BH2lsZaOcfOYAo9rpCA9UdfXVt4qGVu50rHaeQ/X40S7kGZ0Vq9ejY0bN6KiogLV1dVYuXIlZs2a5fz94sWL8ctf/hIvvPACLrnkEjz++ONYv3499u3bh4EDB+o6BjM6ZDVqVV6VAr9TSjLx/PngqJr/+/AAFq7eC6AvBLtIVmHY9VjzZpTisotS3QKdy2ob8XbdEQzPScbM8hws3dqEV7c0mdJXparC00dk493zIV0trkFc1//vCwHAA1OKUdtgx+Z65a9zpAmBa3BX/vsnvzXKI9yrpTwvGWlJcVi/v01fOwVgtkuQWgAwv8rznBklVRv+6Ms2t1o7Up/+b/0BLFq9F6JK5eFltY14/7OjuGbEYF2THG+VjK1c6Vhv9edwOU44i7gwsiAIbhMdURSRm5uLRx55BPPmzQMAdHd3Y/DgwVi8eDHuu+8+xf10d3eju7vb+XN7ezvy8/M50SFLUAt/alUU1qqSqxUmBYyFetX2FynMCAP/+qZyxXBuIJlVBVgtmPzsnMtx79+3Ba2SsZUrHftaqdqqxwl3ER9Grq+vR0tLC6655hrnY/Hx8bjqqquwaZP6KoeFCxciJSXF+S8/3/gNAYkCRS38qRX41aqSqxUm9aWirL/BXiszo1vvhSCEa1YVYLVg8tp9x4JaydjKlY59rVRt1eNQH8tOdFpa+tL+gwe7h94GDx7s/J2SBQsWwOFwOP81NZnzETyRGdTCn1qBX60quVphUl8qyvob7LUyM7o1PQQhXLOqAKsFk9WKJwaqkrGVKx37WqnaqsehPpad6EgE2au/KIoej7mKj49HcnKy2z8iK1ALBbtWFPYWLJbTqhrrS0VZ6TlmvjDIb0swszxbtSKvK9cgriAYm6jIqxnbAEwpzUR6Uqzqc6or8jyCu66qyrKRl5aEKgPB59LsAbgsT/9rkFIVZl+qACsFfdWqME8bnu1WIVsAPI7pGpqV71v+s7frztvvQxlSVhsjs79OCtZxqI9lMzoHDx5EcXExtm/fjtGjRzu3u+GGG5CamooXX3xR134ZRiYr0BMKBvpe5Gv2HMWx9m5MHZ6l+4VPq2qs0Yqyrm0VBODKizPw0f42U776kcwsy8bqz1ognj/Gg5XFGJ6TDFEE8tMT8a9dzc5qvVIg95ujctHQ1okV25uwbFtfiFMQgNuvGIKC9L6qyVnJCW59dQ3ZukqMteEbQwd5BHPHFaW7VWRWYhP6qimnJcVhTGEafvfv/W77mTA0HcVZA3Cg9RQ2HbzwFcVFqQn46sRppV06LagqxX1XFftVBdhb0FcKJrtWNtYKxqqFr5WC5q7H8tYHpd9bJaSsNEbhfJxwFTVh5B/96EeYO3cuAKCnpwdZWVmaYWQ5TnQo1KwcvpQLVRhZb1gV0B+wDmRfpGO2tp9WDJX6Glq2CcDG+VN9vi58uda0grEAdFd+1nMsLeH0d0LBYdb7dz8T22TYqVOn8OWXXzp/rq+vx44dO5Ceno6CggI88sgjeOKJJzBs2DAMGzYMTzzxBJKSkvCd73wnhK0mMkYrfGm1F/BQhZFdx0NrvESIuscykH2Rjrn7yAnF3/saWu4V4dd14cu1phWM7TX4OZ4/13U4/Z1QeAnpRKe2thZTpkxx/vzoo48CAObMmYMXXngBc+fORVdXFx544AHY7XZ84xvfwPvvv6+7hg6RFUjhS/l/qVohfCmn1Fa9bAD+Z9YI/PwN40U9lcKqauOldyz96Yve9ibFKaeZpo8YjH/vaTW8X5sAv64LX641M4OxZoSYw+HvhMJLSMPIlZWVEEXR498LL7wAoO/rrF/84hdobm7G6dOn8eGHH6KsrCyUTSYyzJdQcKgotbW6Is/rLSBiBAELq8vxvSsKsbi63OtxtAK3ZgWs5du6Su8fqxgGXVytvD2gXKFYLVR685gCj8crClIVq0I7938+k+LPdeHLtaYVjFX6ncSs4LQ/bSfSwzIZnUBhRocCTVpNVZTR3yNY7Pq4noBpXZMdWxqOY1xhuvPu0kr79vY8b497a3+zowvbD9nRK4oYc/6/+Gv2HMXOJgcGJPTD8JyBaO86e/5TjVjnf3VL+wGAFzfV461Pj6Cz5ywK0vvjZM9ZlGQNwMRhmUhNikVSXAze/+woHJ09uHlsPqYNz0azowvLt32FA8dO4aLURNi7ejClJAsZA+Kd/chKTkBtw3HYBAFHTnThk4NfY0ZZNm4eU+DRl5o9LVhVdwQXDx6ItvZubDzQhonFGcgYGI+tDccRYxOQFBeDjAHxyE1NxLaG4+jXz4ZvFA3C1ZcOxudHHFi77ximlGTi0twU1fNXs6fFuR0ArNnbiqmlfe12DZsuWX8Aq3c3o6osB+OK0rFmTyviYm1ISYxFSmIsxhSma55nvdeDL2FmrWCs6++Avpu3jj2/XV2T3e1nb8fwdn37E8SW0zteZE0RF0YOFE50KJC0budgdPWIfHVLRUEqdjSd8LoPtRUzekrM623/jS63JQD6PpFYVK1+q4lR+anY3njC0FgWpCei8bjvS4rT+8fiROcZZxsuSvNvf3rH37XvSvtY8cBEAMDkX61xa09BeiLWz52q+1qxwookpetCbdWVnK/Xt1lttdJtJkgfTnR04kSHAkXrdg43Pr3JlJUvrpT2ofY8tVU/riXmjbRfibRCCPBcCRWJlMZfz8quZ+dcjuMdPYrn47GZpVi4eq/Xa8UKK5L09FWtTb5e32a2lSu4wk/E3wKCyOq0budgtMS92soXb/tQe957nylXD3ctMW+k/UqkFUKRfNsIV0rjr6fv6/Ydw7u7lc/H6t0tuq4VK9w2QU9f1drk6/XtKyuMF1kHJzpEPtK6nYPREvdqK1+87UPtedNHKFfvdV1JY6T9SqQVQpF82whXSuOvp++VJZmYoVJNuaosW9e1YoXbJujpq1qbfL2+fWWF8SLr4ESHyEdqq0RG5qeZsvLFdZWO2j6MrPq5clgGspIT3B67e1KR8w3BBuDuSYXISk5wa79N6Huu/D1uXlUpgL7/ep4348JtLQQAeakJMKog3b+vFNL7xzpf0AQAaUn+Vc+oKEi9MDYCFG9TAPRlP9QmAOW5yUiM64dJwzI9+leQnoh7JxfrvlbumVTk/P/SbRoA+HW7BCO3W5Cud9euXjksQ3WMXI3MT/O4dcawrP7O86Xnb8SXtnIFFwHM6BD5TW2ViBkrX/TuQ23FTF2THUvW1+Nfu5shuoQyAVy4zQP63rA2fNnmFtycfEkmnt9Y77wVgxIBfXcFtwl9E5+N+9uwfn+b8/eD+sfCJgBTLsnCjZfnIynOhq/sXfjN+1+gvq3DbV/VFXn4yfQSrNj+FWr2HMWnjY6+W0AIwJRLMrF23zHFdlyaMxB3TixErwjVUPAVQ9Pxu1tGoaGtE0lxNmz4sg1bG46j4/RZbD10QrFv1RUXAtiu4WtvQW0l0nauYdzF1fpul6AWdvY3zGtGYN6VPKCupw82Abhn0lDcOalQ8/r2NVhs5gouCj6GkXXiRIeimVIo0yYAogjNN2YjoWTX/Spt6xqABvqWYt/94jbFfbz54ARkJScYCjfbBGDlAxO8tlXejmZHFyYsWuNxHyw1voyJt/15C8cauY2FkbCtmbeK8NYGb33wdlwGi6MXw8hE5JVSKLPXyyQHMBZKdt2vEtcANNBXY0ZNbYPdcLi5V4SutsrbUd/WoXuSA/g2Jt725y0ca2QsjIRtfQnr+hoo9tYHb8dlsJj8xYkOUQRTCmXaBOXKvK6MhJJd96tEfiuBqaVZqvsYU5hmONxsE6CrrfJ2FGX091rx2ZUvY+Jtf97CsUbGwkjY1pewrq+BYm998HZcBovJX5zoEEUQeWBTHsq0CcADlcW498oityBodUWe82cboBiqViL9RspNyAPQE4amo6PnnFuAdNrwbFQUpHrsa2pJJrY0HEdr+2m3gK8guIde5cefV1WKjp5zmFdVqtrWqrJsfHH0JO5+YQuW1TairsmOVTuP4MHKYtW+yfsyd0ZJ33FmlLqNlettENTYhL42OMcLyuHmuia78/xJbXR9nquKglTn4wLUg8Cu+1e7LmIEAT+4aihW7TyCuia74j60bgch7UOpDfJjuQ6Vt3artZXBYjKCGR2iCKEV2Py/Dw9g0eq9bl9ZuQZB139xTPW5roHOz4848M6uZhRlDEBsjM25T9cg6p0vbMHavcfc2qYUIK3Z04LXt32F5PhYHD3VjXX7LjwnvX8sjneccduHAODirP7Y33ohxFyWm4zPm9ud7Z43oxSXXZSK/1t/wG1/Ri2oKsX/rT/g0QapHcCFELYzuL2hAX/96KCu/auFm70ZmpGE735jCMYUpuHvHx/yWvka0L4upHP70icNeGdXi9d9AZ4Bd0EA7tURKJaO9fePG7B6t75jKT2fweLowTCyTpzoUDTQCmwC6pWLfa3krHa8v95eoRo09qdqrl7e2hAI0hjOenqTocyPDcDKB72HqOWenXM5MgbEK46ZUuDaW5BXbfzl+zKyTzVGj0XRjWFkInLSCmxqhUF9reSsdjz5Jzl69qkn5KqXtzYEgjSGRv+TsRf6QtRy6/YdUx0zpcC1t3Ord19G9qnG6LGIzMCJDlEE0ApsaoVBfa3krHa8KaWZqs/xp2quXt7aEAjSGBoJNgN9L76+hJsrSzJVx0wpcO3t3Ordl5F9qjF6LCIzcKJDUcdIhdVgqNnTgsdW7kTNHuX7IemhFdjMSUnEvKpSxTenJ2aXISs5wb1CsgDMKBuM1vbTANzHq67JjiUfHUBr+2nc9o0hzn0JAL53RQEOtnVgaonnREOqlryq7ghq9rTgR0s/xZ/W7Mf/9+Zu/PifdSjNHuC2fUI/z3d/AUDJYPft4mXbXXdZDnY0ncCo/BQdo6YtMVb55VGA+6q1711RgJq9rbhhZI7qvpTmMvdPKcaWhuO4/6pir2FmScngATh4vtCiPBhcnnfho3155Wat0LFadW21r5KUAu53TSr02E7+d1bXZMeWhuMeE1H5saRrTC0UHQxWe40g/zCjQ1HF1wqrgTL76Y3Y3njC+XNFQSpWPDDR5/0pBTZd+yygb9XVpGGZKMxIcgshK4V9XavvRpuSwQOw7+ipoBxrZnk2bruiEElxNnT29GLn4RN9Qe/z5+UbQ9MhCMDHBy589VNRkIpPm054fGWmVDF58iWZmqFjX67DZkeXW+Vs178n+d/ZqPxUt/1PKcnEpIszPCp5yysv6w0qm8lqrxHRjBkdIoOaHV1uq1t6ReBnK3aH7L/aava0uL34A8D2xhN+f7IzvniQ27Jl1z6LAP7y4UHn1wzy37lOcqT2ROMkB0DQJjkA8M6uFiTF2TAyPw2FGUlYfH6SA/Sdly31x90mOUDfuVH6z1TXcyZd4wCQFGdzm+QAwPLth7Fk/QGfr8O/fXTh9iDSseqa7B5/Z/L9r913TPF2JfLbSyzffjion+xY7TWCzMGJDkUNq1VYVasQ7M+yaDlfQ8oUfFIgV62ata+k860WBF69u1nxcW/Xodq1pTdgLQ8gWyGobLXXCDIHJzoUNaxWYVWtQnClQsbFV76GlCn4pECuWjVrX0nnWy0IXFWmnC3ydh2qXVt6A9byALIVgspWe40gc3CiQ1HDahVWlSoEVxSkYtrwbNOO4a3PriFkQQCKM/q7Pd+MyVA4zqWyBsajLDd4mb4JQ9Pxz9om1OxpUQz7VpVle0w8ynKTFV/AKwpSPc7350cceGFTA4ZluZ/fmeXZGJGX4hZklvbheh0qhXOldrqG2JUqascIgsd1rhR29haKDkZA2GqvEWQOhpEp6litwmrNnhas23cMlSWZpk5yXMn7bKQar0QA8MCUYqQnxWFMYRraTnXjnV3N2NnkwP5j7tmeywtSkd4/DteMGIxPDh73yF4EQ1KcDROLM1CaPRDbG+3YeMC8ej2+GJY1APtbved+pCBws6ML817fifX72zS3FwRgzvghyE9LcuZeXM/3g69s98jIeOMaAtYK5y7d2oj5y3d5VMcGPK+5uiY7ahvsHtkcV0u3NmL+il3OisuLVMLNgQ4IW+01IlqxMrJOnOgQuVOqbKuX3qq6QF+1WwCmVT32xWMzS3HdyFyf+xsqWtWPlahVJq7Z0+Jzleg3H5yArOQEQxW39VZIVqJWcdmXyt0UGbjqioh84k8IWW9VXaAvRGpm1WNfvLu7JSxD11rVj5WoBWbVAu961DbYDYfZ/QnuGgk3MyBMRvQLdQOIKLik3I2vn+joqaoLWKPa7YyybL/6GyqVJZnIGBCve3u1wOzU0iy8srnJpzaMKUxDVnKCx9i5Hkvrd0YpnSfXcLNZx6How090iMKYUhVZb6FNeeBSb1hYADB3Ronb1wVZyQm4cliGx7ZSiFTt996Oo1dcjPrWyQn9AAFobT+NhbPLde03RvAvPC1/rvSzUiBXjRQEVgrnKu3bJgBzq9zPi3QNXJqbovu4rqTz563ituu4CoBbcFfrOtQKN8uPpRRu1hsQ9jXAHAmVkSOhD2bhJzpEYUqpiuy4onRdoc1bxhZcqJb7cQPe2X2hONzkYRn48TWXoOl4Fz4++DVe3dwIEX2F6xat3ovUpFiPgCgATCwehJLBA3HD6FyMzE8zHHh+sLIYZ3p7sWR9vR+jckH76bP45b/2AgAK0hOhpxkjZRV8XQ3qH4uvO854PD5rVA7unFjkrGi8ePVe5/jPqyrFZXmpzirUnzaecAZ358/s+528WnGRy8q3cUXpbudYQN95EARgxohsvLu7Bb0isHj1XqQmep4X6Rp4cEox3tnVjIwB8UhOjEX3mV5MG56FrOQENLR1uldiFvqOK3G9VuTh3KVbm5zjKp7/2Vt4WOt3asfSaoMaXwPMkVAZORL6YCaGkYnCkFYI2JW30KbaftSCqEDfx8ArH5ygGRD1JfBsA4Aw+4oJ0BfOVfvdX2+vUAwLa42/Vjt8Ce6qhYC9hX3Vgs6/vqkc85bvMjQOZgeLfe2Tr8+zkkjog4RhZKIopjeo6i20qVWNVi3E2wt4DYj6EgDuRfhNcgB94Vy1363dq1x9WGv8tdrhS3DX11CxWtD5/c+OBi3ArMbX40RCZeRI6IPZONEhCkNaIWBX3kKbWtVo1YoF2gDF6reux/Kl0KAN/lUADhWtStPefie/k7fE3tljeAzVqhJ7uwZ8rQasVtn7mhGDDY+D2cFiX48TCZWRI6EPZuNEhygMqVWRXVxtLLSpVY3WGTZ1edEUACysLvcaEDUaeI4RBCysLnd7jh5aYWRXBeneP7IXBGgGdwvSEz3aphTO1Qruyn83bXg2qso8i0T+ed0BAPAYQ+nwMYKA6oo8U4K7vlYDVqvsffOYAsPjYPZXKr4eJxIqI0dCH8zGjA5RGKtrsqNmTysyk+Nx9fDBznyMntBms6ML9W0dKMroj8+POLB23zFMUajO3HeMo8hKTkBOSgIOtnVgXGE6RuanYcn6A1i9uxlVZTm4bmSuc39A30foXT1nUd/WibGFafji6Em89ekRxNgEnBVF3DAqF5OGXQiYSs/pHxeDzp5eJMXZ0HS8C4eOd2DTl21ocZzGsKyBONV9Bm2nulF9eT7unVyMZbWNeO+zo5g+YjAuGTwQb3x6BACQm5qAQ8c7nX36/97cjff3HMU1wwdjVkUeava0ovvsOdg7zmBAQj/cMKovRO1awfeLoyed+540LBPbDtkBEUiMszn7Ja/yu2T9Aaze1Yyq8hyMK0rHlobjzvGq2dOCVXXNuDhrAEpzBuJgWwd6zvTi1+9/4XF+/vyd0bj2slzU7GnB2n2tmFKShYwB8djaYHcet2ZPC9buPYYppX19rGvqq100NKM/kuJiDVX29bUasFpl777z0oLh2clITop1joE/xzKqrsnuNl56ubavtf202zkMNde/W29/3+Fe3ZmVkXXiRIcimRkrS6TPKERor5CR6x8Xg46ecx6Pu+5Pi+stA9T6IV9ZJn/+7Io8rPz0sLMfSse0CUBirHJb1doDqI+R1nhN/tUaNB5XXs5bkJ6o+jslf/r2aKzd16rYf5sAjJKtEJPv3/U2DsE2++mNiqvXgtkmM1YeKa1sDNWYAtG3mophZKIo1+zocpuE9IrAz1bs9lo3Q/48aem4fB/y7eTUJg6u+9MiAliwfBfqmuyK/ajZ06J5jywRwPLth936oaRXVG+rUnuU+u7aJ7XxWlbbqDmRMTLJEdD3qZFa/3tFeEwk5Ptfvv2wW32lYKnZ06K6RD9YbfL1b8NVXZPdY/xDNaaAOX2KVpzoEIUpM1eWKO0jGLdO0FrBpbYiKdDtMdp3abzedalF5K97rxyKg20d3jf0orYh+G/K3m47EYw2mbHySGtFYihwNZXvONEhClNmrixR2ocvK6eM0lrBpbYiKdDtMdp3abxmKISKfW3DnZMKda+s0xKK23CorcaSBKNNZqw80lqRGApcTeU7TnSIwpRZK0tcV/PYBOCuSYWK28n1j4tRfFzQeRsFtRVcAoBbxl6ES3NTtG+BIMBt5ZHaMW0abZW35/7KYqzaecR52wilMXLtnwCgqmwwPj/iQF5aEnJTE1T3r2fll03oG5OclETFFXFat5SQ719aPRdsSquxJMFqkxkrj7RWJIYCV1P5jmFkojDn6+oK1+cBwPMb67Fkfb1HyFa+AkVakTQyPw3Lahvx/mdHcc35VUmu+2to60RSnA2dPb3O567Z04q4WBuGpPfH5YVpbu39v/UHsOidvc78ixQObvy607ncGui75cJ/XJqNiiFpbqvMnnjnc+w63O7RT6XgblVZNq4tz8HfNhzEjiaH4vhUV+ThJ9NLPPok/f95r+/E+v1tmmM8tSQTEy/OwJjCNOxtOYl5y3c5fzfniiEoGJSE4x09eHrdAWfQ2TUQDcBtFZh0y4bCjCT85r19HkHZ28cPcTs/oSStxipIT4JNEELSJjNWHrmOf6jHFIiM1VR6cdWVTpzoEHlntGy83iWu/hwfUF7BpdQutdsRaPn1TeX46eu7NLd588EJim9uem/BIe1D6XYOvt6yQev4au0lCkdcdUVEpjESdFy6tRETF63Bd5ZsxsRFa7B0a2NAjg8or+BSape3AKyS9z476nUbteCp3ltwSPtQG19fbtmgdfxQBWWJrMzyE52TJ0/ikUcewZAhQ5CYmIgJEyZg69atoW4WUUTRG3QM1BJXtfCvAM/sjVK7vAVglUwfMdjrNmrBUyNBYbXbafh6ywat44cqKEtkZZaf6Nxzzz344IMP8NJLL2HXrl245pprcPXVV+PwYfX6GkRkjDzo6BpKduXrEtdmRxc2HWhTnRCp3W5iUXU5FlW7B6LHFqbi8yMO1DXZseSjA6hrsmsGYGMEAWW57h97V1fk4eYxBZphZ63gadupbhTpWO0iv52G2i0bpMmOTYCugKnRoKzrWAWLt3OuRq2tWn3w9Vjkv1BcW0ZZOqPT1dWFgQMH4s0338S1117rfHzUqFG47rrr8Pjjj3vdBzM6RPo1O7pUQ8nS741keQBj1VybHV3YfsgOUYRbWLnZ0YXbn92C/a2nFJ8nVayt2dOCX/5rr1sNmvK8ZI+QckVBKlY8MBFLtzZi/vJdziDwA5XFSO8fpxk8lVf9TU3shxNdZ4Hz43V/ZTHSk5T3oRQk9af6rp6gbCiq+/pawVetrVp9iLZqwVYS6GsrKjI6Z8+exblz55CQ4L5kMzExERs2bFB8Tnd3N9rb293+EZF+f/uoXrHyL2B8iavRr7pyUhJx7WW5uG5krts+Pz/iUJ3kABcq1mYMiPcotKe0Emt74wksq+17g3StePyXDw9i5mU5qpMGpaq/0iRH6t9f1qnvIyclEeOLBzn75m/13ZH5abj7yqGan+QEu7qvr19vqrV1WW2jah9YLTh0rFY5WoulJzoDBw7E+PHj8b//+784cuQIzp07h5dffhmbN29Gc3Oz4nMWLlyIlJQU57/8/Pwgt5oofOn5auqWsQXYMH8K/nHvFdgwf4rmfz2bVc1VT9i4tsFuKCT83mdHDbdNTzuM9C/QoeJQhJZ9PedqbVULjWuFvFktOPDCKRBv6YkOALz00ksQRRF5eXmIj4/HH/7wB3znO99BTIxyAbAFCxbA4XA4/zU1NQW5xUThS28oWf7JhL/780ZP2HhMYZqhkPD0EYMNt01PO4z0L9Ch4lCEln0952ptVQuNa4W8WS048MIpEG/5iU5xcTE+/PBDnDp1Ck1NTdiyZQvOnDmDoqIixe3j4+ORnJzs9o+I9DG7+qpZ+9MKGwMXgrhKIV2l51UUpOLmMQWG26bUjoL0RJ/7F+jqu6Go7uvrOVdrq1Jo3FvIO9IL6VmB1SpHa7F0GFmJ3W5HUVERfvWrX+H73/++1+0ZRiYyzuzqq2btT6q2W1mSiYwB8apBXHlIt9nRhRXbv8KB1lO49rIcTBt+4b5UvrTNtR3Thmf73b9AV98NRXVfX8dEra1afYimasFWE8hrK2oqI7/33nsQRRElJSX48ssv8dOf/hTx8fHYsGEDYmNjvT6fEx0iIqLwExWrrgDA4XDgwQcfRGlpKW6//XZMmjQJ77//vq5JDhEREUU3y3+i4y9+okNERBR+ouYTHSIiomgTDhWHw0W/UDeAiIiILghFNetIxk90iIiILCKcKg6HC050iIiILCKcKg6HC050iIiILCKcKg6HC050iMjymh1d2HSgjTdrlOG4RJ5wqjgcLhhGJiJLW7q10XmHapsALJxdrnkj0WjBcYlcT35rFG4fPyTo1awjFevoEJFlNTu6MHHRGrc7VMcIAjbMnxLVpf45LhQNWEeHiCJefVuH25s5AJwTRTS0dYamQRbBcSHSjxMdIrKsooz+sAnuj8UIAgozkkLTIIvguBDpx4kOEVlWTkoiFs4uR4zQ964eIwh4YnZZ1H89w3Eh0o8ZHSKyvGZHFxraOlGYkcQ3cxccF4pkZr1/c9UVEVleTkoi38gVcFyIvONXV0RERBSxONEhIiKiiMWJDhEREUUsTnSIiKIAbxdB0YphZCKiCMfbRVA04yc6REQRrNnR5ZzkAECvCPxsxW5+skNRgxMdIqIIxttFULTjRIeIKILxdhEU7TjRISKKYHpvFxHOYeVwbjsFHsPIREQR7paxBZh8Sabq7SLCOawczm2n4OAnOkREUSAnJRHjiwcpfpITrmHlcG47BQ8nOkREUSycw8rh3HYKHk50iIiiWDiHlcO57RQ8nOgQEUUxvWFlKwrntlPwCKIoit43C1/t7e1ISUmBw+FAcnJyqJtDRGRJzY4u1bCy1YVz20mdWe/fXHVFRETISUkM20lCOLedAo9fXREREVHE4kSHiIiIIhYnOkRERBSxONEhIiKiiMWJDhEREUUsTnSIiIgoYnGiQ0RERBGLEx0iIiKKWJzoEBERUcTiRIeIiIgiFic6REREFLEi/l5X0j1L29vbQ9wSIiIi0kt63/b33uMRP9E5efIkACA/Pz/ELSEiIiKjTp48iZSUFJ+fL4j+TpUsrre3F0eOHMHAgQMhCILf+2tvb0d+fj6ampr8um18uOM4XMCx6MNx6MNx6MNxuIBj0cfoOIiiiJMnTyI3Nxc2m+9Jm4j/RMdms+Giiy4yfb/JyclRfcFKOA4XcCz6cBz6cBz6cBwu4Fj0MTIO/nySI2EYmYiIiCIWJzpEREQUsTjRMSg+Ph7/7//9P8THx4e6KSHFcbiAY9GH49CH49CH43ABx6JPqMYh4sPIREREFL34iQ4RERFFLE50iIiIKGJxokNEREQRixMdIiIiilhRN9F5+umnUVRUhISEBFx++eX46KOPNLf/85//jOHDhyMxMRElJSX4+9//7vb7M2fO4H/+539QXFyMhIQEjBw5Eu+++67fxw20UIzDwoULMXbsWAwcOBBZWVmYNWsW9u3bZ3rfjArVNSFZuHAhBEHAI488YkZ3fBaqcTh8+DC+973vYdCgQUhKSsKoUaOwbds2U/tmRCjG4ezZs/j5z3+OoqIiJCYmYujQofif//kf9Pb2mt4/PdavX4/rr78eubm5EAQBb7zxhtfnfPjhh7j88suRkJCAoUOH4i9/+YvHNsuXL8ell16K+Ph4XHrppVi5cqXHNlZ6rQzVOFjttTKU14PEr9dJMYq89tprYmxsrLhkyRLx888/Fx9++GGxf//+4qFDhxS3f/rpp8WBAweKr732mnjgwAHxH//4hzhgwADxrbfecm4zd+5cMTc3V/zXv/4lHjhwQHz66afFhIQEcfv27T4fN9BCNQ7Tp08Xn3/+eXH37t3ijh07xGuvvVYsKCgQT506FfA+qwnVWEi2bNkiFhYWipdddpn48MMPB6qbXoVqHI4fPy4OGTJEvOOOO8TNmzeL9fX14r///W/xyy+/DHiflYRqHB5//HFx0KBB4qpVq8T6+npx2bJl4oABA8Tf//73Ae+zknfeeUd87LHHxOXLl4sAxJUrV2puf/DgQTEpKUl8+OGHxc8//1xcsmSJGBsbK77++uvObTZt2iTGxMSITzzxhLhnzx7xiSeeEPv16yd+8sknzm2s9loZqnGw2mtlqMZB4u/rZFRNdMaNGyf+4Ac/cHustLRUnD9/vuL248ePF3/yk5+4Pfbwww+LEydOdP6ck5Mj/ulPf3Lb5oYbbhC/+93v+nzcQAvVOMi1traKAMQPP/zQaBdME8qxOHnypDhs2DDxgw8+EK+66qqQTnRCNQ7z5s0TJ02a5G/zTROqcbj22mvFu+66y22b2bNni9/73vd86oeZ9LyxzZ07VywtLXV77L777hOvuOIK58/f+ta3xBkzZrhtM336dPHWW291/my110pXwRwHOSu8VkqCPQ5mvE5GzVdXPT092LZtG6655hq3x6+55hps2rRJ8Tnd3d1ISEhweywxMRFbtmzBmTNnNLfZsGGDz8cNpFCNgxKHwwEASE9PN9wPM4R6LB588EFce+21uPrqq/3til9COQ5vvfUWxowZg5tvvhlZWVkYPXo0lixZYka3DAvlOEyaNAk1NTX44osvAAB1dXXYsGEDZs6c6Xe/guHjjz/2GLfp06ejtrbWOQ5q20hja7XXSl+YMQ5KQv1aaZSZ42DG62TUTHTa2tpw7tw5DB482O3xwYMHo6WlRfE506dPx9/+9jds27YNoiiitrYWzz33HM6cOYO2tjbnNr/97W+xf/9+9Pb24oMPPsCbb76J5uZmn48bSKEaBzlRFPHoo49i0qRJKCsrM7eTOoVyLF577TVs374dCxcuDFwHdQrlOBw8eBDPPPMMhg0bhvfeew8/+MEP8NBDD3nkXIIhlOMwb948fPvb30ZpaSliY2MxevRoPPLII/j2t78duA6bqKWlRXHczp496xwHtW2ksbXaa6UvzBgHOSu8Vhpl1jiY9ToZNRMdiSAIbj+LoujxmOS//uu/UFVVhSuuuAKxsbG44YYbcMcddwAAYmJiAABPPfUUhg0bhtLSUsTFxeGHP/wh7rzzTufvfTluMIRqHCQ//OEPsXPnTvzjH/8wr1M+CvZYNDU14eGHH8bLL7/s8V/6oRSKa6K3txcVFRV44oknMHr0aNx3332499578cwzzwSmkzqEYhyWLl2Kl19+Ga+++iq2b9+OF198Eb/5zW/w4osvBqaTAaA0bvLH9Yyt1V4rjTJrHCRWeq00wt9xMPN1MmomOhkZGYiJifGYNbe2tnrMKiWJiYl47rnn0NnZiYaGBjQ2NqKwsBADBw5ERkYGACAzMxNvvPEGOjo6cOjQIezduxcDBgxAUVGRz8cNpFCNg6v//M//xFtvvYW1a9fioosuMr+TOoVqLLZt24bW1lZcfvnl6NevH/r164cPP/wQf/jDH9CvXz+cO3cusB2XCeU1kZOTg0svvdRt38OHD0djY6PJvfQulOPw05/+FPPnz8ett96K8vJy3HbbbfjRj35kiU/89MjOzlYct379+mHQoEGa20hja7XXSl+YMQ6urPJaaZQZ42Dm62TUTHTi4uJw+eWX44MPPnB7/IMPPsCECRM0nxsbG4uLLroIMTExeO2113DdddfBZnMfuoSEBOTl5eHs2bNYvnw5brjhBr+PGwihGgegb7b+wx/+ECtWrMCaNWsUJ0HBFKqxmDZtGnbt2oUdO3Y4/40ZMwbf/e53sWPHDtVPwQIllNfExIkTPZbNfvHFFxgyZIifvTIulOPQ2dnpsX1MTEzIlpcbNX78eI9xe//99zFmzBjExsZqbiONrdVeK31hxjgA1nutNMqMcTD1ddJwfDmMSUsXn332WfHzzz8XH3nkEbF///5iQ0ODKIqiOH/+fPG2225zbr9v3z7xpZdeEr/44gtx8+bN4i233CKmp6eL9fX1zm0++eQTcfny5eKBAwfE9evXi1OnThWLiopEu92u+7jBFqpxuP/++8WUlBRx3bp1YnNzs/NfZ2dnsLruIVRjIRfqVVehGoctW7aI/fr1E3/5y1+K+/fvF1955RUxKSlJfPnll4PVdTehGoc5c+aIeXl5zuXlK1asEDMyMsS5c+cGq+tuTp48KX766afip59+KgIQf/vb34qffvqpc5m3fByk5cQ/+tGPxM8//1x89tlnPZYTb9y4UYyJiREXLVok7tmzR1y0aJHq8nKrvFaGahys9loZqnGQ8/V1MqomOqIoin/+85/FIUOGiHFxcWJFRYXbcr05c+aIV111lfPnzz//XBw1apSYmJgoJicnizfccIO4d+9et/2tW7dOHD58uBgfHy8OGjRIvO2228TDhw8bOm4ohGIcACj+e/755wPZVa9CdU24CvVERxRDNw5vv/22WFZWJsbHx4ulpaXiX//614D1UY9QjEN7e7v48MMPiwUFBWJCQoI4dOhQ8bHHHhO7u7sD2lc1a9euVfxbnTNnjiiKnuMgin39HD16tBgXFycWFhaKzzzzjMd+ly1bJpaUlIixsbFiaWmpuHz5co9trPRaGapxsNprZSivB1e+vk4Kong+IUREREQUYaImo0NERETRhxMdIiIiilic6BAREVHE4kSHiIiIIhYnOkRERBSxONEhIiKiiMWJDhEREUUsTnSIiIgoYnGiQ0QR74477sCsWbNC3QwiCgFOdIgoYO644w4IggBBEBAbG4vBgwfjP/7jP/Dcc88F9YaVTz31FF544QXnz5WVlXjkkUeCdnwiCh1OdIgooGbMmIHm5mY0NDRg9erVmDJlCh5++GFcd911OHv2bFDakJKSgtTU1KAci4ishRMdIgqo+Ph4ZGdnIy8vDxUVFfjZz36GN998E6tXr3Z+yuJwOPD9738fWVlZSE5OxtSpU1FXV+fcxy9+8QuMGjUKL730EgoLC5GSkoJbb70VJ0+edG7z+uuvo7y8HImJiRg0aBCuvvpqdHR0AHD/6uqOO+7Ahx9+iKeeesr5aVN9fT0uvvhi/OY3v3Fr++7du2Gz2XDgwIHADhIRBQwnOkQUdFOnTsXIkSOxYsUKiKKIa6+9Fi0tLXjnnXewbds2VFRUYNq0aTh+/LjzOQcOHMAbb7yBVatWYdWqVfjwww+xaNEiAEBzczO+/e1v46677sKePXuwbt06zJ49G0r3LH7qqacwfvx43HvvvWhubkZzczMKCgpw11134fnnn3fb9rnnnsOVV16J4uLiwA4IEQUMJzpEFBKlpaVoaGjA2rVrsWvXLixbtgxjxozBsGHD8Jvf/Aapqal4/fXXndv39vbihRdeQFlZGa688krcdtttqKmpAdA30Tl79ixmz56NwsJClJeX44EHHsCAAQM8jpuSkoK4uDgkJSUhOzsb2dnZiImJwZ133ol9+/Zhy5YtAIAzZ87g5Zdfxl133RWcASGigOBEh4hCQhRFCIKAbdu24dSpUxg0aBAGDBjg/FdfX+/2lVFhYSEGDhzo/DknJwetra0AgJEjR2LatGkoLy/HzTffjCVLlsButxtqT05ODq699lo899xzAIBVq1bh9OnTuPnmm03oLRGFSr9QN4CIotOePXtQVFSE3t5e5OTkYN26dR7buAaIY2Nj3X4nCIJz5VZMTAw++OADbNq0Ce+//z7++Mc/4rHHHsPmzZtRVFSku0333HMPbrvtNvzud7/D888/j1tuuQVJSUk+9Y+IrIETHSIKujVr1mDXrl340Y9+hIsuuggtLS3o168fCgsLfd6nIAiYOHEiJk6ciP/+7//GkCFDsHLlSjz66KMe28bFxeHcuXMej8+cORP9+/fHM888g9WrV2P9+vU+t4eIrIETHSIKqO7ubrS0tODcuXM4evQo3n33XSxcuBDXXXcdbr/9dthsNowfPx6zZs3C4sWLUVJSgiNHjuCdd97BrFmzMGbMGK/H2Lx5M2pqanDNNdcgKysLmzdvxrFjxzB8+HDF7QsLC7F582Y0NDRgwIABSE9Ph81mQ0xMDO644w4sWLAAF198McaPH2/2cBBRkDGjQ0QB9e677yInJweFhYWYMWMG1q5diz/84Q948803ERMTA0EQ8M4772Dy5Mm46667cMkll+DWW29FQ0MDBg8erOsYycnJWL9+PWbOnIlLLrkEP//5z/Hkk0+iqqpKcfuf/OQniImJwaWXXorMzEw0NjY6f3f33Xejp6eHIWSiCCGISusviYii1MaNG1FZWYmvvvpK90SLiKyLEx0iIvR9xdbU1ITvf//7yMnJwSuvvBLqJhGRCfjVFRERgH/84x8oKSmBw+HAr371q1A3h4hMwk90iIiIKGLxEx0iIiKKWJzoEBERUcTiRIeIiIgiFic6REREFLE40SEiIqKIxYkOERERRSxOdIiIiChicaJDREREEev/B85WoOsR1o+eAAAAAElFTkSuQmCC\" >"
   ]
  },
  {
   "cell_type": "code",
   "execution_count": 7,
   "metadata": {
    "nbgrader": {
     "grade": true,
     "grade_id": "cell-0dd13f6a5af90429",
     "locked": false,
     "points": 1,
     "schema_version": 3,
     "solution": true,
     "task": false
    },
    "tags": []
   },
   "outputs": [
    {
     "data": {
      "image/png": "[encoded data removed]",
      "text/plain": [
       "<Figure size 640x480 with 1 Axes>"
      ]
     },
     "metadata": {},
     "output_type": "display_data"
    }
   ],
   "source": [
    "plt.plot(data['\"density\"'], data['\"alcohol\"'], '.')\n",
    "plt.xlabel(\"Density\")\n",
    "plt.ylabel(\"Alcohol\");"
   ]
  }
 ],
 "metadata": {
  "celltoolbar": "Create Assignment",
  "kernelspec": {
   "display_name": "Python 3 (ipykernel)",
   "language": "python",
   "name": "python3"
  },
  "language_info": {
   "codemirror_mode": {
    "name": "ipython",
    "version": 3
   },
   "file_extension": ".py",
   "mimetype": "text/x-python",
   "name": "python",
   "nbconvert_exporter": "python",
   "pygments_lexer": "ipython3",
   "version": "3.10.4"
  }
 },
 "nbformat": 4,
 "nbformat_minor": 4
}
